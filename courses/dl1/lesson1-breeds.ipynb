{
 "cells": [
  {
   "cell_type": "markdown",
   "metadata": {},
   "source": [
    "# Dogs breeds\n",
    "\n",
    "https://youtu.be/JNxcznsrRb8?t=1h31m8s"
   ]
  },
  {
   "cell_type": "code",
   "execution_count": 1,
   "metadata": {},
   "outputs": [],
   "source": [
    "%reload_ext autoreload\n",
    "%autoreload 2\n",
    "%matplotlib inline"
   ]
  },
  {
   "cell_type": "code",
   "execution_count": 2,
   "metadata": {},
   "outputs": [
    {
     "name": "stderr",
     "output_type": "stream",
     "text": [
      "/Users/phaihoang/anaconda3/lib/python3.6/site-packages/sklearn/ensemble/weight_boosting.py:29: DeprecationWarning: numpy.core.umath_tests is an internal NumPy module and should not be imported. It will be removed in a future NumPy release.\n",
      "  from numpy.core.umath_tests import inner1d\n"
     ]
    }
   ],
   "source": [
    "from fastai.imports import *\n",
    "from fastai.torch_imports import *\n",
    "from fastai.transforms import *\n",
    "from fastai.conv_learner import *\n",
    "from fastai.model import *\n",
    "from fastai.dataset import *\n",
    "from fastai.sgdr import *\n",
    "from fastai.plots import *"
   ]
  },
  {
   "cell_type": "code",
   "execution_count": 3,
   "metadata": {},
   "outputs": [],
   "source": [
    "torch.cuda.set_device(-1)"
   ]
  },
  {
   "cell_type": "markdown",
   "metadata": {},
   "source": [
    "Kaggle Dog Breed Identification. Get data from https://www.kaggle.com/c/dog-breed-identification"
   ]
  },
  {
   "cell_type": "code",
   "execution_count": 4,
   "metadata": {},
   "outputs": [],
   "source": [
    "PATH = \"data/dogbreed/\"\n",
    "sz = 224\n",
    "arch = resnet34\n",
    "bs = 16"
   ]
  },
  {
   "cell_type": "code",
   "execution_count": 5,
   "metadata": {},
   "outputs": [],
   "source": [
    "label_csv = f'{PATH}labels.csv'\n",
    "n = len(list(open(label_csv))) - 1 # header is not counted (-1)\n",
    "val_idxs = get_cv_idxs(n) # random 20% data for validation set"
   ]
  },
  {
   "cell_type": "code",
   "execution_count": 6,
   "metadata": {},
   "outputs": [
    {
     "data": {
      "text/plain": [
       "10222"
      ]
     },
     "execution_count": 6,
     "metadata": {},
     "output_type": "execute_result"
    }
   ],
   "source": [
    "n"
   ]
  },
  {
   "cell_type": "code",
   "execution_count": 7,
   "metadata": {},
   "outputs": [
    {
     "data": {
      "text/plain": [
       "2044"
      ]
     },
     "execution_count": 7,
     "metadata": {},
     "output_type": "execute_result"
    }
   ],
   "source": [
    "len(val_idxs)"
   ]
  },
  {
   "cell_type": "code",
   "execution_count": 8,
   "metadata": {},
   "outputs": [],
   "source": [
    "# If you haven't downloaded weights.tgz yet, download the file.\n",
    "#     http://forums.fast.ai/t/error-when-trying-to-use-resnext50/7555\n",
    "#     http://forums.fast.ai/t/lesson-2-in-class-discussion/7452/222\n",
    "#!wget -O fastai/weights.tgz http://files.fast.ai/models/weights.tgz\n",
    "\n",
    "#!tar xvfz fastai/weights.tgz -C fastai"
   ]
  },
  {
   "cell_type": "markdown",
   "metadata": {},
   "source": [
    "## Initial exploration"
   ]
  },
  {
   "cell_type": "code",
   "execution_count": 9,
   "metadata": {
    "scrolled": true
   },
   "outputs": [
    {
     "name": "stdout",
     "output_type": "stream",
     "text": [
      "labels.csv \u001b[34mtest\u001b[m\u001b[m       \u001b[34mtmp\u001b[m\u001b[m        \u001b[34mtrain\u001b[m\u001b[m\r\n"
     ]
    }
   ],
   "source": [
    "!ls {PATH}"
   ]
  },
  {
   "cell_type": "code",
   "execution_count": 10,
   "metadata": {},
   "outputs": [],
   "source": [
    "label_df = pd.read_csv(label_csv)"
   ]
  },
  {
   "cell_type": "code",
   "execution_count": 11,
   "metadata": {},
   "outputs": [
    {
     "data": {
      "text/html": [
       "<div>\n",
       "<style scoped>\n",
       "    .dataframe tbody tr th:only-of-type {\n",
       "        vertical-align: middle;\n",
       "    }\n",
       "\n",
       "    .dataframe tbody tr th {\n",
       "        vertical-align: top;\n",
       "    }\n",
       "\n",
       "    .dataframe thead th {\n",
       "        text-align: right;\n",
       "    }\n",
       "</style>\n",
       "<table border=\"1\" class=\"dataframe\">\n",
       "  <thead>\n",
       "    <tr style=\"text-align: right;\">\n",
       "      <th></th>\n",
       "      <th>id</th>\n",
       "      <th>breed</th>\n",
       "    </tr>\n",
       "  </thead>\n",
       "  <tbody>\n",
       "    <tr>\n",
       "      <th>0</th>\n",
       "      <td>000bec180eb18c7604dcecc8fe0dba07</td>\n",
       "      <td>boston_bull</td>\n",
       "    </tr>\n",
       "    <tr>\n",
       "      <th>1</th>\n",
       "      <td>001513dfcb2ffafc82cccf4d8bbaba97</td>\n",
       "      <td>dingo</td>\n",
       "    </tr>\n",
       "    <tr>\n",
       "      <th>2</th>\n",
       "      <td>001cdf01b096e06d78e9e5112d419397</td>\n",
       "      <td>pekinese</td>\n",
       "    </tr>\n",
       "    <tr>\n",
       "      <th>3</th>\n",
       "      <td>00214f311d5d2247d5dfe4fe24b2303d</td>\n",
       "      <td>bluetick</td>\n",
       "    </tr>\n",
       "    <tr>\n",
       "      <th>4</th>\n",
       "      <td>0021f9ceb3235effd7fcde7f7538ed62</td>\n",
       "      <td>golden_retriever</td>\n",
       "    </tr>\n",
       "  </tbody>\n",
       "</table>\n",
       "</div>"
      ],
      "text/plain": [
       "                                 id             breed\n",
       "0  000bec180eb18c7604dcecc8fe0dba07       boston_bull\n",
       "1  001513dfcb2ffafc82cccf4d8bbaba97             dingo\n",
       "2  001cdf01b096e06d78e9e5112d419397          pekinese\n",
       "3  00214f311d5d2247d5dfe4fe24b2303d          bluetick\n",
       "4  0021f9ceb3235effd7fcde7f7538ed62  golden_retriever"
      ]
     },
     "execution_count": 11,
     "metadata": {},
     "output_type": "execute_result"
    }
   ],
   "source": [
    "label_df.head()"
   ]
  },
  {
   "cell_type": "code",
   "execution_count": 12,
   "metadata": {
    "scrolled": true
   },
   "outputs": [
    {
     "data": {
      "text/html": [
       "<div>\n",
       "<style scoped>\n",
       "    .dataframe tbody tr th:only-of-type {\n",
       "        vertical-align: middle;\n",
       "    }\n",
       "\n",
       "    .dataframe tbody tr th {\n",
       "        vertical-align: top;\n",
       "    }\n",
       "\n",
       "    .dataframe thead th {\n",
       "        text-align: right;\n",
       "    }\n",
       "</style>\n",
       "<table border=\"1\" class=\"dataframe\">\n",
       "  <thead>\n",
       "    <tr style=\"text-align: right;\">\n",
       "      <th></th>\n",
       "      <th>id</th>\n",
       "    </tr>\n",
       "    <tr>\n",
       "      <th>breed</th>\n",
       "      <th></th>\n",
       "    </tr>\n",
       "  </thead>\n",
       "  <tbody>\n",
       "    <tr>\n",
       "      <th>scottish_deerhound</th>\n",
       "      <td>126</td>\n",
       "    </tr>\n",
       "    <tr>\n",
       "      <th>maltese_dog</th>\n",
       "      <td>117</td>\n",
       "    </tr>\n",
       "    <tr>\n",
       "      <th>afghan_hound</th>\n",
       "      <td>116</td>\n",
       "    </tr>\n",
       "    <tr>\n",
       "      <th>entlebucher</th>\n",
       "      <td>115</td>\n",
       "    </tr>\n",
       "    <tr>\n",
       "      <th>bernese_mountain_dog</th>\n",
       "      <td>114</td>\n",
       "    </tr>\n",
       "    <tr>\n",
       "      <th>shih-tzu</th>\n",
       "      <td>112</td>\n",
       "    </tr>\n",
       "    <tr>\n",
       "      <th>great_pyrenees</th>\n",
       "      <td>111</td>\n",
       "    </tr>\n",
       "    <tr>\n",
       "      <th>pomeranian</th>\n",
       "      <td>111</td>\n",
       "    </tr>\n",
       "    <tr>\n",
       "      <th>basenji</th>\n",
       "      <td>110</td>\n",
       "    </tr>\n",
       "    <tr>\n",
       "      <th>samoyed</th>\n",
       "      <td>109</td>\n",
       "    </tr>\n",
       "    <tr>\n",
       "      <th>airedale</th>\n",
       "      <td>107</td>\n",
       "    </tr>\n",
       "    <tr>\n",
       "      <th>tibetan_terrier</th>\n",
       "      <td>107</td>\n",
       "    </tr>\n",
       "    <tr>\n",
       "      <th>leonberg</th>\n",
       "      <td>106</td>\n",
       "    </tr>\n",
       "    <tr>\n",
       "      <th>cairn</th>\n",
       "      <td>106</td>\n",
       "    </tr>\n",
       "    <tr>\n",
       "      <th>beagle</th>\n",
       "      <td>105</td>\n",
       "    </tr>\n",
       "    <tr>\n",
       "      <th>japanese_spaniel</th>\n",
       "      <td>105</td>\n",
       "    </tr>\n",
       "    <tr>\n",
       "      <th>australian_terrier</th>\n",
       "      <td>102</td>\n",
       "    </tr>\n",
       "    <tr>\n",
       "      <th>blenheim_spaniel</th>\n",
       "      <td>102</td>\n",
       "    </tr>\n",
       "    <tr>\n",
       "      <th>miniature_pinscher</th>\n",
       "      <td>102</td>\n",
       "    </tr>\n",
       "    <tr>\n",
       "      <th>irish_wolfhound</th>\n",
       "      <td>101</td>\n",
       "    </tr>\n",
       "    <tr>\n",
       "      <th>lakeland_terrier</th>\n",
       "      <td>99</td>\n",
       "    </tr>\n",
       "    <tr>\n",
       "      <th>saluki</th>\n",
       "      <td>99</td>\n",
       "    </tr>\n",
       "    <tr>\n",
       "      <th>papillon</th>\n",
       "      <td>96</td>\n",
       "    </tr>\n",
       "    <tr>\n",
       "      <th>whippet</th>\n",
       "      <td>95</td>\n",
       "    </tr>\n",
       "    <tr>\n",
       "      <th>siberian_husky</th>\n",
       "      <td>95</td>\n",
       "    </tr>\n",
       "    <tr>\n",
       "      <th>norwegian_elkhound</th>\n",
       "      <td>95</td>\n",
       "    </tr>\n",
       "    <tr>\n",
       "      <th>pug</th>\n",
       "      <td>94</td>\n",
       "    </tr>\n",
       "    <tr>\n",
       "      <th>chow</th>\n",
       "      <td>93</td>\n",
       "    </tr>\n",
       "    <tr>\n",
       "      <th>italian_greyhound</th>\n",
       "      <td>92</td>\n",
       "    </tr>\n",
       "    <tr>\n",
       "      <th>pembroke</th>\n",
       "      <td>92</td>\n",
       "    </tr>\n",
       "    <tr>\n",
       "      <th>...</th>\n",
       "      <td>...</td>\n",
       "    </tr>\n",
       "    <tr>\n",
       "      <th>german_short-haired_pointer</th>\n",
       "      <td>75</td>\n",
       "    </tr>\n",
       "    <tr>\n",
       "      <th>boxer</th>\n",
       "      <td>75</td>\n",
       "    </tr>\n",
       "    <tr>\n",
       "      <th>bull_mastiff</th>\n",
       "      <td>75</td>\n",
       "    </tr>\n",
       "    <tr>\n",
       "      <th>borzoi</th>\n",
       "      <td>75</td>\n",
       "    </tr>\n",
       "    <tr>\n",
       "      <th>pekinese</th>\n",
       "      <td>75</td>\n",
       "    </tr>\n",
       "    <tr>\n",
       "      <th>cocker_spaniel</th>\n",
       "      <td>74</td>\n",
       "    </tr>\n",
       "    <tr>\n",
       "      <th>american_staffordshire_terrier</th>\n",
       "      <td>74</td>\n",
       "    </tr>\n",
       "    <tr>\n",
       "      <th>doberman</th>\n",
       "      <td>74</td>\n",
       "    </tr>\n",
       "    <tr>\n",
       "      <th>brittany_spaniel</th>\n",
       "      <td>73</td>\n",
       "    </tr>\n",
       "    <tr>\n",
       "      <th>malinois</th>\n",
       "      <td>73</td>\n",
       "    </tr>\n",
       "    <tr>\n",
       "      <th>standard_schnauzer</th>\n",
       "      <td>72</td>\n",
       "    </tr>\n",
       "    <tr>\n",
       "      <th>flat-coated_retriever</th>\n",
       "      <td>72</td>\n",
       "    </tr>\n",
       "    <tr>\n",
       "      <th>redbone</th>\n",
       "      <td>72</td>\n",
       "    </tr>\n",
       "    <tr>\n",
       "      <th>border_collie</th>\n",
       "      <td>72</td>\n",
       "    </tr>\n",
       "    <tr>\n",
       "      <th>curly-coated_retriever</th>\n",
       "      <td>72</td>\n",
       "    </tr>\n",
       "    <tr>\n",
       "      <th>kuvasz</th>\n",
       "      <td>71</td>\n",
       "    </tr>\n",
       "    <tr>\n",
       "      <th>chihuahua</th>\n",
       "      <td>71</td>\n",
       "    </tr>\n",
       "    <tr>\n",
       "      <th>soft-coated_wheaten_terrier</th>\n",
       "      <td>71</td>\n",
       "    </tr>\n",
       "    <tr>\n",
       "      <th>french_bulldog</th>\n",
       "      <td>70</td>\n",
       "    </tr>\n",
       "    <tr>\n",
       "      <th>vizsla</th>\n",
       "      <td>70</td>\n",
       "    </tr>\n",
       "    <tr>\n",
       "      <th>tibetan_mastiff</th>\n",
       "      <td>69</td>\n",
       "    </tr>\n",
       "    <tr>\n",
       "      <th>german_shepherd</th>\n",
       "      <td>69</td>\n",
       "    </tr>\n",
       "    <tr>\n",
       "      <th>giant_schnauzer</th>\n",
       "      <td>69</td>\n",
       "    </tr>\n",
       "    <tr>\n",
       "      <th>walker_hound</th>\n",
       "      <td>69</td>\n",
       "    </tr>\n",
       "    <tr>\n",
       "      <th>otterhound</th>\n",
       "      <td>69</td>\n",
       "    </tr>\n",
       "    <tr>\n",
       "      <th>golden_retriever</th>\n",
       "      <td>67</td>\n",
       "    </tr>\n",
       "    <tr>\n",
       "      <th>brabancon_griffon</th>\n",
       "      <td>67</td>\n",
       "    </tr>\n",
       "    <tr>\n",
       "      <th>komondor</th>\n",
       "      <td>67</td>\n",
       "    </tr>\n",
       "    <tr>\n",
       "      <th>briard</th>\n",
       "      <td>66</td>\n",
       "    </tr>\n",
       "    <tr>\n",
       "      <th>eskimo_dog</th>\n",
       "      <td>66</td>\n",
       "    </tr>\n",
       "  </tbody>\n",
       "</table>\n",
       "<p>120 rows × 1 columns</p>\n",
       "</div>"
      ],
      "text/plain": [
       "                                 id\n",
       "breed                              \n",
       "scottish_deerhound              126\n",
       "maltese_dog                     117\n",
       "afghan_hound                    116\n",
       "entlebucher                     115\n",
       "bernese_mountain_dog            114\n",
       "shih-tzu                        112\n",
       "great_pyrenees                  111\n",
       "pomeranian                      111\n",
       "basenji                         110\n",
       "samoyed                         109\n",
       "airedale                        107\n",
       "tibetan_terrier                 107\n",
       "leonberg                        106\n",
       "cairn                           106\n",
       "beagle                          105\n",
       "japanese_spaniel                105\n",
       "australian_terrier              102\n",
       "blenheim_spaniel                102\n",
       "miniature_pinscher              102\n",
       "irish_wolfhound                 101\n",
       "lakeland_terrier                 99\n",
       "saluki                           99\n",
       "papillon                         96\n",
       "whippet                          95\n",
       "siberian_husky                   95\n",
       "norwegian_elkhound               95\n",
       "pug                              94\n",
       "chow                             93\n",
       "italian_greyhound                92\n",
       "pembroke                         92\n",
       "...                             ...\n",
       "german_short-haired_pointer      75\n",
       "boxer                            75\n",
       "bull_mastiff                     75\n",
       "borzoi                           75\n",
       "pekinese                         75\n",
       "cocker_spaniel                   74\n",
       "american_staffordshire_terrier   74\n",
       "doberman                         74\n",
       "brittany_spaniel                 73\n",
       "malinois                         73\n",
       "standard_schnauzer               72\n",
       "flat-coated_retriever            72\n",
       "redbone                          72\n",
       "border_collie                    72\n",
       "curly-coated_retriever           72\n",
       "kuvasz                           71\n",
       "chihuahua                        71\n",
       "soft-coated_wheaten_terrier      71\n",
       "french_bulldog                   70\n",
       "vizsla                           70\n",
       "tibetan_mastiff                  69\n",
       "german_shepherd                  69\n",
       "giant_schnauzer                  69\n",
       "walker_hound                     69\n",
       "otterhound                       69\n",
       "golden_retriever                 67\n",
       "brabancon_griffon                67\n",
       "komondor                         67\n",
       "briard                           66\n",
       "eskimo_dog                       66\n",
       "\n",
       "[120 rows x 1 columns]"
      ]
     },
     "execution_count": 12,
     "metadata": {},
     "output_type": "execute_result"
    }
   ],
   "source": [
    "label_df.pivot_table(index=\"breed\", aggfunc=len).sort_values('id', ascending=False)"
   ]
  },
  {
   "cell_type": "code",
   "execution_count": 13,
   "metadata": {
    "run_control": {
     "marked": true
    }
   },
   "outputs": [],
   "source": [
    "tfms = tfms_from_model(arch, sz, aug_tfms=transforms_side_on, max_zoom=1.1)\n",
    "data = ImageClassifierData.from_csv(PATH, 'train', f'{PATH}labels.csv', test_name='test', # we need to specify where the test set is if you want to submit to Kaggle competitions\n",
    "                                   val_idxs=val_idxs, suffix='.jpg', tfms=tfms, bs=bs)"
   ]
  },
  {
   "cell_type": "code",
   "execution_count": 14,
   "metadata": {
    "scrolled": true
   },
   "outputs": [
    {
     "data": {
      "text/plain": [
       "'data/dogbreed/train/001cdf01b096e06d78e9e5112d419397.jpg'"
      ]
     },
     "execution_count": 14,
     "metadata": {},
     "output_type": "execute_result"
    }
   ],
   "source": [
    "fn = PATH + data.trn_ds.fnames[1]; fn"
   ]
  },
  {
   "cell_type": "code",
   "execution_count": 15,
   "metadata": {},
   "outputs": [
    {
     "data": {
      "image/png": "[encoded data removed]",
      "text/plain": [
       "<PIL.JpegImagePlugin.JpegImageFile image mode=RGB size=500x375 at 0x1C24B1DB00>"
      ]
     },
     "execution_count": 15,
     "metadata": {},
     "output_type": "execute_result"
    }
   ],
   "source": [
    "img = PIL.Image.open(fn); img"
   ]
  },
  {
   "cell_type": "code",
   "execution_count": 16,
   "metadata": {},
   "outputs": [
    {
     "data": {
      "text/plain": [
       "(500, 375)"
      ]
     },
     "execution_count": 16,
     "metadata": {},
     "output_type": "execute_result"
    }
   ],
   "source": [
    "img.size"
   ]
  },
  {
   "cell_type": "code",
   "execution_count": 17,
   "metadata": {},
   "outputs": [],
   "source": [
    "size_d = {k: PIL.Image.open(PATH + k).size for k in data.trn_ds.fnames}"
   ]
  },
  {
   "cell_type": "code",
   "execution_count": 18,
   "metadata": {},
   "outputs": [],
   "source": [
    "row_sz, col_sz = list(zip(*size_d.values()))"
   ]
  },
  {
   "cell_type": "code",
   "execution_count": 19,
   "metadata": {},
   "outputs": [],
   "source": [
    "row_sz = np.array(row_sz); col_sz = np.array(col_sz)"
   ]
  },
  {
   "cell_type": "code",
   "execution_count": 20,
   "metadata": {},
   "outputs": [
    {
     "data": {
      "text/plain": [
       "array([500, 500, 500, 500, 500])"
      ]
     },
     "execution_count": 20,
     "metadata": {},
     "output_type": "execute_result"
    }
   ],
   "source": [
    "row_sz[:5]"
   ]
  },
  {
   "cell_type": "code",
   "execution_count": 21,
   "metadata": {},
   "outputs": [
    {
     "data": {
      "image/png": "[encoded data removed]",
      "text/plain": [
       "<Figure size 432x288 with 1 Axes>"
      ]
     },
     "metadata": {
      "needs_background": "light"
     },
     "output_type": "display_data"
    }
   ],
   "source": [
    "plt.hist(row_sz);"
   ]
  },
  {
   "cell_type": "code",
   "execution_count": 22,
   "metadata": {
    "scrolled": true
   },
   "outputs": [
    {
     "data": {
      "text/plain": [
       "(array([ 135.,  592., 1347., 1164., 4599.,  128.,   76.,   62.,   14.,   11.]),\n",
       " array([ 97. , 185.5, 274. , 362.5, 451. , 539.5, 628. , 716.5, 805. , 893.5, 982. ]),\n",
       " <a list of 10 Patch objects>)"
      ]
     },
     "execution_count": 22,
     "metadata": {},
     "output_type": "execute_result"
    },
    {
     "data": {
      "image/png": "[encoded data removed]",
      "text/plain": [
       "<Figure size 432x288 with 1 Axes>"
      ]
     },
     "metadata": {
      "needs_background": "light"
     },
     "output_type": "display_data"
    }
   ],
   "source": [
    "plt.hist(row_sz[row_sz < 1000])"
   ]
  },
  {
   "cell_type": "code",
   "execution_count": 23,
   "metadata": {},
   "outputs": [
    {
     "data": {
      "image/png": "[encoded data removed]",
      "text/plain": [
       "<Figure size 432x288 with 1 Axes>"
      ]
     },
     "metadata": {
      "needs_background": "light"
     },
     "output_type": "display_data"
    }
   ],
   "source": [
    "plt.hist(col_sz);"
   ]
  },
  {
   "cell_type": "code",
   "execution_count": 24,
   "metadata": {
    "scrolled": false
   },
   "outputs": [
    {
     "data": {
      "text/plain": [
       "(array([ 235.,  733., 2205., 2979., 1807.,   98.,   27.,   33.,    7.,   10.]),\n",
       " array([102., 190., 278., 366., 454., 542., 630., 718., 806., 894., 982.]),\n",
       " <a list of 10 Patch objects>)"
      ]
     },
     "execution_count": 24,
     "metadata": {},
     "output_type": "execute_result"
    },
    {
     "data": {
      "image/png": "[encoded data removed]",
      "text/plain": [
       "<Figure size 432x288 with 1 Axes>"
      ]
     },
     "metadata": {
      "needs_background": "light"
     },
     "output_type": "display_data"
    }
   ],
   "source": [
    "plt.hist(col_sz[col_sz < 1000])"
   ]
  },
  {
   "cell_type": "code",
   "execution_count": 25,
   "metadata": {
    "scrolled": true
   },
   "outputs": [
    {
     "data": {
      "text/plain": [
       "(8178, 10357)"
      ]
     },
     "execution_count": 25,
     "metadata": {},
     "output_type": "execute_result"
    }
   ],
   "source": [
    "len(data.trn_ds), len(data.test_ds)"
   ]
  },
  {
   "cell_type": "code",
   "execution_count": 26,
   "metadata": {},
   "outputs": [
    {
     "data": {
      "text/plain": [
       "(120,\n",
       " ['affenpinscher',\n",
       "  'afghan_hound',\n",
       "  'african_hunting_dog',\n",
       "  'airedale',\n",
       "  'american_staffordshire_terrier'])"
      ]
     },
     "execution_count": 26,
     "metadata": {},
     "output_type": "execute_result"
    }
   ],
   "source": [
    "len(data.classes), data.classes[:5]"
   ]
  },
  {
   "cell_type": "markdown",
   "metadata": {},
   "source": [
    "## Initial model"
   ]
  },
  {
   "cell_type": "code",
   "execution_count": 27,
   "metadata": {},
   "outputs": [],
   "source": [
    "def get_data(sz, bs): # sz: image size, bs: batch size\n",
    "    tfms = tfms_from_model(arch, sz, aug_tfms=transforms_side_on, max_zoom=1.1)\n",
    "    data = ImageClassifierData.from_csv(PATH, 'train', f'{PATH}labels.csv', test_name='test',\n",
    "                                       val_idxs=val_idxs, suffix='.jpg', tfms=tfms, bs=bs)\n",
    "    \n",
    "    # http://forums.fast.ai/t/how-to-train-on-the-full-dataset-using-imageclassifierdata-from-csv/7761/13\n",
    "    # http://forums.fast.ai/t/how-to-train-on-the-full-dataset-using-imageclassifierdata-from-csv/7761/37\n",
    "    return data if sz > 300 else data.resize(340, 'tmp') # Reading the jpgs and resizing is slow for big images, so resizing them all to 340 first saves time\n",
    "\n",
    "#Source:   \n",
    "#    def resize(self, targ, new_path):\n",
    "#        new_ds = []\n",
    "#        dls = [self.trn_dl,self.val_dl,self.fix_dl,self.aug_dl]\n",
    "#        if self.test_dl: dls += [self.test_dl, self.test_aug_dl]\n",
    "#        else: dls += [None,None]\n",
    "#        t = tqdm_notebook(dls)\n",
    "#        for dl in t: new_ds.append(self.resized(dl, targ, new_path))\n",
    "#        t.close()\n",
    "#        return self.__class__(new_ds[0].path, new_ds, self.bs, self.num_workers, self.classes)\n",
    "#File:      ~/fastai/courses/dl1/fastai/dataset.py"
   ]
  },
  {
   "cell_type": "markdown",
   "metadata": {},
   "source": [
    "### Precompute"
   ]
  },
  {
   "cell_type": "code",
   "execution_count": 28,
   "metadata": {},
   "outputs": [
    {
     "data": {
      "application/vnd.jupyter.widget-view+json": {
       "model_id": "27f0840931a149f1b578b2dfeef68768",
       "version_major": 2,
       "version_minor": 0
      },
      "text/plain": [
       "HBox(children=(IntProgress(value=0, max=6), HTML(value='')))"
      ]
     },
     "metadata": {},
     "output_type": "display_data"
    },
    {
     "name": "stdout",
     "output_type": "stream",
     "text": [
      "\n"
     ]
    }
   ],
   "source": [
    "data = get_data(sz, bs)"
   ]
  },
  {
   "cell_type": "code",
   "execution_count": 29,
   "metadata": {},
   "outputs": [],
   "source": [
    "learn = ConvLearner.pretrained(arch, data, precompute=True)"
   ]
  },
  {
   "cell_type": "code",
   "execution_count": 29,
   "metadata": {},
   "outputs": [
    {
     "data": {
      "application/vnd.jupyter.widget-view+json": {
       "model_id": "b74fec61ec5547898a6c1e25ab5fa2ad",
       "version_major": 2,
       "version_minor": 0
      },
      "text/plain": [
       "HBox(children=(IntProgress(value=0, description='Epoch', max=5), HTML(value='')))"
      ]
     },
     "metadata": {},
     "output_type": "display_data"
    },
    {
     "name": "stdout",
     "output_type": "stream",
     "text": [
      "epoch      trn_loss   val_loss   accuracy                     \n",
      "    0      1.168263   0.651979   0.797945  \n",
      "    1      0.855151   0.658018   0.794031                     \n",
      "    2      0.775913   0.588495   0.814579                     \n",
      "    3      0.608697   0.584768   0.814579                     \n",
      "    4      0.577979   0.581835   0.825342                     \n",
      "\n"
     ]
    },
    {
     "data": {
      "text/plain": [
       "[0.5818353435881217, 0.8253424658700678]"
      ]
     },
     "execution_count": 29,
     "metadata": {},
     "output_type": "execute_result"
    }
   ],
   "source": [
    "learn.fit(1e-2, 5)"
   ]
  },
  {
   "cell_type": "markdown",
   "metadata": {},
   "source": [
    "### Augment"
   ]
  },
  {
   "cell_type": "code",
   "execution_count": 30,
   "metadata": {},
   "outputs": [],
   "source": [
    "from sklearn import metrics"
   ]
  },
  {
   "cell_type": "code",
   "execution_count": 31,
   "metadata": {},
   "outputs": [
    {
     "data": {
      "application/vnd.jupyter.widget-view+json": {
       "model_id": "f3c6a811d1e241ad97830065a9916321",
       "version_major": 2,
       "version_minor": 0
      },
      "text/plain": [
       "HBox(children=(IntProgress(value=0, max=6), HTML(value='')))"
      ]
     },
     "metadata": {},
     "output_type": "display_data"
    },
    {
     "name": "stdout",
     "output_type": "stream",
     "text": [
      "\n"
     ]
    }
   ],
   "source": [
    "data = get_data(sz, bs)"
   ]
  },
  {
   "cell_type": "code",
   "execution_count": 33,
   "metadata": {},
   "outputs": [],
   "source": [
    "learn = ConvLearner.pretrained(arch, data, precompute=True, ps=0.5)"
   ]
  },
  {
   "cell_type": "code",
   "execution_count": 34,
   "metadata": {},
   "outputs": [
    {
     "data": {
      "application/vnd.jupyter.widget-view+json": {
       "model_id": "a403efef7a504530a912dae7b1385e9f",
       "version_major": 2,
       "version_minor": 0
      },
      "text/plain": [
       "HBox(children=(IntProgress(value=0, description='Epoch', max=4), HTML(value='')))"
      ]
     },
     "metadata": {},
     "output_type": "display_data"
    },
    {
     "name": "stdout",
     "output_type": "stream",
     "text": [
      "epoch      trn_loss   val_loss   accuracy                     \n",
      "    0      1.526114   0.901816   0.773483  \n",
      "    1      1.044993   0.624303   0.813601                    \n",
      "    2      1.052489   0.565118   0.834149                     \n",
      "    3      0.909569   0.530118   0.830724                     \n",
      "\n"
     ]
    },
    {
     "data": {
      "text/plain": [
       "[0.5301183861645701, 0.8307240703334547]"
      ]
     },
     "execution_count": 34,
     "metadata": {},
     "output_type": "execute_result"
    }
   ],
   "source": [
    "learn.fit(1e-2, 4, cycle_len=1)"
   ]
  },
  {
   "cell_type": "code",
   "execution_count": 35,
   "metadata": {},
   "outputs": [],
   "source": [
    "learn.precompute = False"
   ]
  },
  {
   "cell_type": "code",
   "execution_count": 36,
   "metadata": {},
   "outputs": [
    {
     "data": {
      "application/vnd.jupyter.widget-view+json": {
       "model_id": "7bc244343f344ef2b01546775a2e086f",
       "version_major": 2,
       "version_minor": 0
      },
      "text/plain": [
       "HBox(children=(IntProgress(value=0, description='Epoch', max=5), HTML(value='')))"
      ]
     },
     "metadata": {},
     "output_type": "display_data"
    },
    {
     "name": "stdout",
     "output_type": "stream",
     "text": [
      "epoch      trn_loss   val_loss   accuracy                    \n",
      "    0      0.942886   0.509317   0.843444  \n",
      "    1      0.896493   0.514849   0.83317                     \n",
      "    2      0.904221   0.520042   0.83317                     \n",
      "    3      0.93138    0.504837   0.836106                    \n",
      "    4      0.795586   0.522454   0.835127                    \n",
      "\n"
     ]
    },
    {
     "data": {
      "text/plain": [
       "[0.5224544531328571, 0.8351272014489146]"
      ]
     },
     "execution_count": 36,
     "metadata": {},
     "output_type": "execute_result"
    }
   ],
   "source": [
    "learn.fit(1e-2, 5, cycle_len=1)"
   ]
  },
  {
   "cell_type": "code",
   "execution_count": 37,
   "metadata": {},
   "outputs": [],
   "source": [
    "learn.save('224_pre')"
   ]
  },
  {
   "cell_type": "code",
   "execution_count": 38,
   "metadata": {},
   "outputs": [],
   "source": [
    "learn.load('224_pre')"
   ]
  },
  {
   "cell_type": "markdown",
   "metadata": {},
   "source": [
    "## Increase size"
   ]
  },
  {
   "cell_type": "code",
   "execution_count": 39,
   "metadata": {
    "scrolled": true
   },
   "outputs": [
    {
     "data": {
      "application/vnd.jupyter.widget-view+json": {
       "model_id": "0a5678fcd54b414d8d6fab2ff92459c3",
       "version_major": 2,
       "version_minor": 0
      },
      "text/plain": [
       "HBox(children=(IntProgress(value=0, max=6), HTML(value='')))"
      ]
     },
     "metadata": {},
     "output_type": "display_data"
    },
    {
     "name": "stdout",
     "output_type": "stream",
     "text": [
      "\n"
     ]
    }
   ],
   "source": [
    "# Starting training on small images for a few epochs, then switching to bigger images, and continuing training is an amazingly effective way to avoid overfitting.\n",
    "\n",
    "# http://forums.fast.ai/t/planet-classification-challenge/7824/96\n",
    "# set_data doesn’t change the model at all. It just gives it new data to train with.\n",
    "learn.set_data(get_data(299, bs)) \n",
    "learn.freeze()\n",
    "\n",
    "#Source:   \n",
    "#    def set_data(self, data, precompute=False):\n",
    "#        super().set_data(data)\n",
    "#        if precompute:\n",
    "#            self.unfreeze()\n",
    "#            self.save_fc1()\n",
    "#            self.freeze()\n",
    "#            self.precompute = True\n",
    "#        else:\n",
    "#            self.freeze()\n",
    "#File:      ~/fastai/courses/dl1/fastai/conv_learner.py"
   ]
  },
  {
   "cell_type": "code",
   "execution_count": 40,
   "metadata": {},
   "outputs": [
    {
     "data": {
      "text/plain": [
       "OrderedDict([('Conv2d-1',\n",
       "              OrderedDict([('input_shape', [-1, 3, 299, 299]),\n",
       "                           ('output_shape', [-1, 64, 150, 150]),\n",
       "                           ('trainable', False),\n",
       "                           ('nb_params', tensor(9408))])),\n",
       "             ('BatchNorm2d-2',\n",
       "              OrderedDict([('input_shape', [-1, 64, 150, 150]),\n",
       "                           ('output_shape', [-1, 64, 150, 150]),\n",
       "                           ('trainable', False),\n",
       "                           ('nb_params', tensor(128))])),\n",
       "             ('ReLU-3',\n",
       "              OrderedDict([('input_shape', [-1, 64, 150, 150]),\n",
       "                           ('output_shape', [-1, 64, 150, 150]),\n",
       "                           ('nb_params', 0)])),\n",
       "             ('MaxPool2d-4',\n",
       "              OrderedDict([('input_shape', [-1, 64, 150, 150]),\n",
       "                           ('output_shape', [-1, 64, 75, 75]),\n",
       "                           ('nb_params', 0)])),\n",
       "             ('Conv2d-5',\n",
       "              OrderedDict([('input_shape', [-1, 64, 75, 75]),\n",
       "                           ('output_shape', [-1, 64, 75, 75]),\n",
       "                           ('trainable', False),\n",
       "                           ('nb_params', tensor(36864))])),\n",
       "             ('BatchNorm2d-6',\n",
       "              OrderedDict([('input_shape', [-1, 64, 75, 75]),\n",
       "                           ('output_shape', [-1, 64, 75, 75]),\n",
       "                           ('trainable', False),\n",
       "                           ('nb_params', tensor(128))])),\n",
       "             ('ReLU-7',\n",
       "              OrderedDict([('input_shape', [-1, 64, 75, 75]),\n",
       "                           ('output_shape', [-1, 64, 75, 75]),\n",
       "                           ('nb_params', 0)])),\n",
       "             ('Conv2d-8',\n",
       "              OrderedDict([('input_shape', [-1, 64, 75, 75]),\n",
       "                           ('output_shape', [-1, 64, 75, 75]),\n",
       "                           ('trainable', False),\n",
       "                           ('nb_params', tensor(36864))])),\n",
       "             ('BatchNorm2d-9',\n",
       "              OrderedDict([('input_shape', [-1, 64, 75, 75]),\n",
       "                           ('output_shape', [-1, 64, 75, 75]),\n",
       "                           ('trainable', False),\n",
       "                           ('nb_params', tensor(128))])),\n",
       "             ('ReLU-10',\n",
       "              OrderedDict([('input_shape', [-1, 64, 75, 75]),\n",
       "                           ('output_shape', [-1, 64, 75, 75]),\n",
       "                           ('nb_params', 0)])),\n",
       "             ('BasicBlock-11',\n",
       "              OrderedDict([('input_shape', [-1, 64, 75, 75]),\n",
       "                           ('output_shape', [-1, 64, 75, 75]),\n",
       "                           ('nb_params', 0)])),\n",
       "             ('Conv2d-12',\n",
       "              OrderedDict([('input_shape', [-1, 64, 75, 75]),\n",
       "                           ('output_shape', [-1, 64, 75, 75]),\n",
       "                           ('trainable', False),\n",
       "                           ('nb_params', tensor(36864))])),\n",
       "             ('BatchNorm2d-13',\n",
       "              OrderedDict([('input_shape', [-1, 64, 75, 75]),\n",
       "                           ('output_shape', [-1, 64, 75, 75]),\n",
       "                           ('trainable', False),\n",
       "                           ('nb_params', tensor(128))])),\n",
       "             ('ReLU-14',\n",
       "              OrderedDict([('input_shape', [-1, 64, 75, 75]),\n",
       "                           ('output_shape', [-1, 64, 75, 75]),\n",
       "                           ('nb_params', 0)])),\n",
       "             ('Conv2d-15',\n",
       "              OrderedDict([('input_shape', [-1, 64, 75, 75]),\n",
       "                           ('output_shape', [-1, 64, 75, 75]),\n",
       "                           ('trainable', False),\n",
       "                           ('nb_params', tensor(36864))])),\n",
       "             ('BatchNorm2d-16',\n",
       "              OrderedDict([('input_shape', [-1, 64, 75, 75]),\n",
       "                           ('output_shape', [-1, 64, 75, 75]),\n",
       "                           ('trainable', False),\n",
       "                           ('nb_params', tensor(128))])),\n",
       "             ('ReLU-17',\n",
       "              OrderedDict([('input_shape', [-1, 64, 75, 75]),\n",
       "                           ('output_shape', [-1, 64, 75, 75]),\n",
       "                           ('nb_params', 0)])),\n",
       "             ('BasicBlock-18',\n",
       "              OrderedDict([('input_shape', [-1, 64, 75, 75]),\n",
       "                           ('output_shape', [-1, 64, 75, 75]),\n",
       "                           ('nb_params', 0)])),\n",
       "             ('Conv2d-19',\n",
       "              OrderedDict([('input_shape', [-1, 64, 75, 75]),\n",
       "                           ('output_shape', [-1, 64, 75, 75]),\n",
       "                           ('trainable', False),\n",
       "                           ('nb_params', tensor(36864))])),\n",
       "             ('BatchNorm2d-20',\n",
       "              OrderedDict([('input_shape', [-1, 64, 75, 75]),\n",
       "                           ('output_shape', [-1, 64, 75, 75]),\n",
       "                           ('trainable', False),\n",
       "                           ('nb_params', tensor(128))])),\n",
       "             ('ReLU-21',\n",
       "              OrderedDict([('input_shape', [-1, 64, 75, 75]),\n",
       "                           ('output_shape', [-1, 64, 75, 75]),\n",
       "                           ('nb_params', 0)])),\n",
       "             ('Conv2d-22',\n",
       "              OrderedDict([('input_shape', [-1, 64, 75, 75]),\n",
       "                           ('output_shape', [-1, 64, 75, 75]),\n",
       "                           ('trainable', False),\n",
       "                           ('nb_params', tensor(36864))])),\n",
       "             ('BatchNorm2d-23',\n",
       "              OrderedDict([('input_shape', [-1, 64, 75, 75]),\n",
       "                           ('output_shape', [-1, 64, 75, 75]),\n",
       "                           ('trainable', False),\n",
       "                           ('nb_params', tensor(128))])),\n",
       "             ('ReLU-24',\n",
       "              OrderedDict([('input_shape', [-1, 64, 75, 75]),\n",
       "                           ('output_shape', [-1, 64, 75, 75]),\n",
       "                           ('nb_params', 0)])),\n",
       "             ('BasicBlock-25',\n",
       "              OrderedDict([('input_shape', [-1, 64, 75, 75]),\n",
       "                           ('output_shape', [-1, 64, 75, 75]),\n",
       "                           ('nb_params', 0)])),\n",
       "             ('Conv2d-26',\n",
       "              OrderedDict([('input_shape', [-1, 64, 75, 75]),\n",
       "                           ('output_shape', [-1, 128, 38, 38]),\n",
       "                           ('trainable', False),\n",
       "                           ('nb_params', tensor(73728))])),\n",
       "             ('BatchNorm2d-27',\n",
       "              OrderedDict([('input_shape', [-1, 128, 38, 38]),\n",
       "                           ('output_shape', [-1, 128, 38, 38]),\n",
       "                           ('trainable', False),\n",
       "                           ('nb_params', tensor(256))])),\n",
       "             ('ReLU-28',\n",
       "              OrderedDict([('input_shape', [-1, 128, 38, 38]),\n",
       "                           ('output_shape', [-1, 128, 38, 38]),\n",
       "                           ('nb_params', 0)])),\n",
       "             ('Conv2d-29',\n",
       "              OrderedDict([('input_shape', [-1, 128, 38, 38]),\n",
       "                           ('output_shape', [-1, 128, 38, 38]),\n",
       "                           ('trainable', False),\n",
       "                           ('nb_params', tensor(147456))])),\n",
       "             ('BatchNorm2d-30',\n",
       "              OrderedDict([('input_shape', [-1, 128, 38, 38]),\n",
       "                           ('output_shape', [-1, 128, 38, 38]),\n",
       "                           ('trainable', False),\n",
       "                           ('nb_params', tensor(256))])),\n",
       "             ('Conv2d-31',\n",
       "              OrderedDict([('input_shape', [-1, 64, 75, 75]),\n",
       "                           ('output_shape', [-1, 128, 38, 38]),\n",
       "                           ('trainable', False),\n",
       "                           ('nb_params', tensor(8192))])),\n",
       "             ('BatchNorm2d-32',\n",
       "              OrderedDict([('input_shape', [-1, 128, 38, 38]),\n",
       "                           ('output_shape', [-1, 128, 38, 38]),\n",
       "                           ('trainable', False),\n",
       "                           ('nb_params', tensor(256))])),\n",
       "             ('ReLU-33',\n",
       "              OrderedDict([('input_shape', [-1, 128, 38, 38]),\n",
       "                           ('output_shape', [-1, 128, 38, 38]),\n",
       "                           ('nb_params', 0)])),\n",
       "             ('BasicBlock-34',\n",
       "              OrderedDict([('input_shape', [-1, 64, 75, 75]),\n",
       "                           ('output_shape', [-1, 128, 38, 38]),\n",
       "                           ('nb_params', 0)])),\n",
       "             ('Conv2d-35',\n",
       "              OrderedDict([('input_shape', [-1, 128, 38, 38]),\n",
       "                           ('output_shape', [-1, 128, 38, 38]),\n",
       "                           ('trainable', False),\n",
       "                           ('nb_params', tensor(147456))])),\n",
       "             ('BatchNorm2d-36',\n",
       "              OrderedDict([('input_shape', [-1, 128, 38, 38]),\n",
       "                           ('output_shape', [-1, 128, 38, 38]),\n",
       "                           ('trainable', False),\n",
       "                           ('nb_params', tensor(256))])),\n",
       "             ('ReLU-37',\n",
       "              OrderedDict([('input_shape', [-1, 128, 38, 38]),\n",
       "                           ('output_shape', [-1, 128, 38, 38]),\n",
       "                           ('nb_params', 0)])),\n",
       "             ('Conv2d-38',\n",
       "              OrderedDict([('input_shape', [-1, 128, 38, 38]),\n",
       "                           ('output_shape', [-1, 128, 38, 38]),\n",
       "                           ('trainable', False),\n",
       "                           ('nb_params', tensor(147456))])),\n",
       "             ('BatchNorm2d-39',\n",
       "              OrderedDict([('input_shape', [-1, 128, 38, 38]),\n",
       "                           ('output_shape', [-1, 128, 38, 38]),\n",
       "                           ('trainable', False),\n",
       "                           ('nb_params', tensor(256))])),\n",
       "             ('ReLU-40',\n",
       "              OrderedDict([('input_shape', [-1, 128, 38, 38]),\n",
       "                           ('output_shape', [-1, 128, 38, 38]),\n",
       "                           ('nb_params', 0)])),\n",
       "             ('BasicBlock-41',\n",
       "              OrderedDict([('input_shape', [-1, 128, 38, 38]),\n",
       "                           ('output_shape', [-1, 128, 38, 38]),\n",
       "                           ('nb_params', 0)])),\n",
       "             ('Conv2d-42',\n",
       "              OrderedDict([('input_shape', [-1, 128, 38, 38]),\n",
       "                           ('output_shape', [-1, 128, 38, 38]),\n",
       "                           ('trainable', False),\n",
       "                           ('nb_params', tensor(147456))])),\n",
       "             ('BatchNorm2d-43',\n",
       "              OrderedDict([('input_shape', [-1, 128, 38, 38]),\n",
       "                           ('output_shape', [-1, 128, 38, 38]),\n",
       "                           ('trainable', False),\n",
       "                           ('nb_params', tensor(256))])),\n",
       "             ('ReLU-44',\n",
       "              OrderedDict([('input_shape', [-1, 128, 38, 38]),\n",
       "                           ('output_shape', [-1, 128, 38, 38]),\n",
       "                           ('nb_params', 0)])),\n",
       "             ('Conv2d-45',\n",
       "              OrderedDict([('input_shape', [-1, 128, 38, 38]),\n",
       "                           ('output_shape', [-1, 128, 38, 38]),\n",
       "                           ('trainable', False),\n",
       "                           ('nb_params', tensor(147456))])),\n",
       "             ('BatchNorm2d-46',\n",
       "              OrderedDict([('input_shape', [-1, 128, 38, 38]),\n",
       "                           ('output_shape', [-1, 128, 38, 38]),\n",
       "                           ('trainable', False),\n",
       "                           ('nb_params', tensor(256))])),\n",
       "             ('ReLU-47',\n",
       "              OrderedDict([('input_shape', [-1, 128, 38, 38]),\n",
       "                           ('output_shape', [-1, 128, 38, 38]),\n",
       "                           ('nb_params', 0)])),\n",
       "             ('BasicBlock-48',\n",
       "              OrderedDict([('input_shape', [-1, 128, 38, 38]),\n",
       "                           ('output_shape', [-1, 128, 38, 38]),\n",
       "                           ('nb_params', 0)])),\n",
       "             ('Conv2d-49',\n",
       "              OrderedDict([('input_shape', [-1, 128, 38, 38]),\n",
       "                           ('output_shape', [-1, 128, 38, 38]),\n",
       "                           ('trainable', False),\n",
       "                           ('nb_params', tensor(147456))])),\n",
       "             ('BatchNorm2d-50',\n",
       "              OrderedDict([('input_shape', [-1, 128, 38, 38]),\n",
       "                           ('output_shape', [-1, 128, 38, 38]),\n",
       "                           ('trainable', False),\n",
       "                           ('nb_params', tensor(256))])),\n",
       "             ('ReLU-51',\n",
       "              OrderedDict([('input_shape', [-1, 128, 38, 38]),\n",
       "                           ('output_shape', [-1, 128, 38, 38]),\n",
       "                           ('nb_params', 0)])),\n",
       "             ('Conv2d-52',\n",
       "              OrderedDict([('input_shape', [-1, 128, 38, 38]),\n",
       "                           ('output_shape', [-1, 128, 38, 38]),\n",
       "                           ('trainable', False),\n",
       "                           ('nb_params', tensor(147456))])),\n",
       "             ('BatchNorm2d-53',\n",
       "              OrderedDict([('input_shape', [-1, 128, 38, 38]),\n",
       "                           ('output_shape', [-1, 128, 38, 38]),\n",
       "                           ('trainable', False),\n",
       "                           ('nb_params', tensor(256))])),\n",
       "             ('ReLU-54',\n",
       "              OrderedDict([('input_shape', [-1, 128, 38, 38]),\n",
       "                           ('output_shape', [-1, 128, 38, 38]),\n",
       "                           ('nb_params', 0)])),\n",
       "             ('BasicBlock-55',\n",
       "              OrderedDict([('input_shape', [-1, 128, 38, 38]),\n",
       "                           ('output_shape', [-1, 128, 38, 38]),\n",
       "                           ('nb_params', 0)])),\n",
       "             ('Conv2d-56',\n",
       "              OrderedDict([('input_shape', [-1, 128, 38, 38]),\n",
       "                           ('output_shape', [-1, 256, 19, 19]),\n",
       "                           ('trainable', False),\n",
       "                           ('nb_params', tensor(294912))])),\n",
       "             ('BatchNorm2d-57',\n",
       "              OrderedDict([('input_shape', [-1, 256, 19, 19]),\n",
       "                           ('output_shape', [-1, 256, 19, 19]),\n",
       "                           ('trainable', False),\n",
       "                           ('nb_params', tensor(512))])),\n",
       "             ('ReLU-58',\n",
       "              OrderedDict([('input_shape', [-1, 256, 19, 19]),\n",
       "                           ('output_shape', [-1, 256, 19, 19]),\n",
       "                           ('nb_params', 0)])),\n",
       "             ('Conv2d-59',\n",
       "              OrderedDict([('input_shape', [-1, 256, 19, 19]),\n",
       "                           ('output_shape', [-1, 256, 19, 19]),\n",
       "                           ('trainable', False),\n",
       "                           ('nb_params', tensor(589824))])),\n",
       "             ('BatchNorm2d-60',\n",
       "              OrderedDict([('input_shape', [-1, 256, 19, 19]),\n",
       "                           ('output_shape', [-1, 256, 19, 19]),\n",
       "                           ('trainable', False),\n",
       "                           ('nb_params', tensor(512))])),\n",
       "             ('Conv2d-61',\n",
       "              OrderedDict([('input_shape', [-1, 128, 38, 38]),\n",
       "                           ('output_shape', [-1, 256, 19, 19]),\n",
       "                           ('trainable', False),\n",
       "                           ('nb_params', tensor(32768))])),\n",
       "             ('BatchNorm2d-62',\n",
       "              OrderedDict([('input_shape', [-1, 256, 19, 19]),\n",
       "                           ('output_shape', [-1, 256, 19, 19]),\n",
       "                           ('trainable', False),\n",
       "                           ('nb_params', tensor(512))])),\n",
       "             ('ReLU-63',\n",
       "              OrderedDict([('input_shape', [-1, 256, 19, 19]),\n",
       "                           ('output_shape', [-1, 256, 19, 19]),\n",
       "                           ('nb_params', 0)])),\n",
       "             ('BasicBlock-64',\n",
       "              OrderedDict([('input_shape', [-1, 128, 38, 38]),\n",
       "                           ('output_shape', [-1, 256, 19, 19]),\n",
       "                           ('nb_params', 0)])),\n",
       "             ('Conv2d-65',\n",
       "              OrderedDict([('input_shape', [-1, 256, 19, 19]),\n",
       "                           ('output_shape', [-1, 256, 19, 19]),\n",
       "                           ('trainable', False),\n",
       "                           ('nb_params', tensor(589824))])),\n",
       "             ('BatchNorm2d-66',\n",
       "              OrderedDict([('input_shape', [-1, 256, 19, 19]),\n",
       "                           ('output_shape', [-1, 256, 19, 19]),\n",
       "                           ('trainable', False),\n",
       "                           ('nb_params', tensor(512))])),\n",
       "             ('ReLU-67',\n",
       "              OrderedDict([('input_shape', [-1, 256, 19, 19]),\n",
       "                           ('output_shape', [-1, 256, 19, 19]),\n",
       "                           ('nb_params', 0)])),\n",
       "             ('Conv2d-68',\n",
       "              OrderedDict([('input_shape', [-1, 256, 19, 19]),\n",
       "                           ('output_shape', [-1, 256, 19, 19]),\n",
       "                           ('trainable', False),\n",
       "                           ('nb_params', tensor(589824))])),\n",
       "             ('BatchNorm2d-69',\n",
       "              OrderedDict([('input_shape', [-1, 256, 19, 19]),\n",
       "                           ('output_shape', [-1, 256, 19, 19]),\n",
       "                           ('trainable', False),\n",
       "                           ('nb_params', tensor(512))])),\n",
       "             ('ReLU-70',\n",
       "              OrderedDict([('input_shape', [-1, 256, 19, 19]),\n",
       "                           ('output_shape', [-1, 256, 19, 19]),\n",
       "                           ('nb_params', 0)])),\n",
       "             ('BasicBlock-71',\n",
       "              OrderedDict([('input_shape', [-1, 256, 19, 19]),\n",
       "                           ('output_shape', [-1, 256, 19, 19]),\n",
       "                           ('nb_params', 0)])),\n",
       "             ('Conv2d-72',\n",
       "              OrderedDict([('input_shape', [-1, 256, 19, 19]),\n",
       "                           ('output_shape', [-1, 256, 19, 19]),\n",
       "                           ('trainable', False),\n",
       "                           ('nb_params', tensor(589824))])),\n",
       "             ('BatchNorm2d-73',\n",
       "              OrderedDict([('input_shape', [-1, 256, 19, 19]),\n",
       "                           ('output_shape', [-1, 256, 19, 19]),\n",
       "                           ('trainable', False),\n",
       "                           ('nb_params', tensor(512))])),\n",
       "             ('ReLU-74',\n",
       "              OrderedDict([('input_shape', [-1, 256, 19, 19]),\n",
       "                           ('output_shape', [-1, 256, 19, 19]),\n",
       "                           ('nb_params', 0)])),\n",
       "             ('Conv2d-75',\n",
       "              OrderedDict([('input_shape', [-1, 256, 19, 19]),\n",
       "                           ('output_shape', [-1, 256, 19, 19]),\n",
       "                           ('trainable', False),\n",
       "                           ('nb_params', tensor(589824))])),\n",
       "             ('BatchNorm2d-76',\n",
       "              OrderedDict([('input_shape', [-1, 256, 19, 19]),\n",
       "                           ('output_shape', [-1, 256, 19, 19]),\n",
       "                           ('trainable', False),\n",
       "                           ('nb_params', tensor(512))])),\n",
       "             ('ReLU-77',\n",
       "              OrderedDict([('input_shape', [-1, 256, 19, 19]),\n",
       "                           ('output_shape', [-1, 256, 19, 19]),\n",
       "                           ('nb_params', 0)])),\n",
       "             ('BasicBlock-78',\n",
       "              OrderedDict([('input_shape', [-1, 256, 19, 19]),\n",
       "                           ('output_shape', [-1, 256, 19, 19]),\n",
       "                           ('nb_params', 0)])),\n",
       "             ('Conv2d-79',\n",
       "              OrderedDict([('input_shape', [-1, 256, 19, 19]),\n",
       "                           ('output_shape', [-1, 256, 19, 19]),\n",
       "                           ('trainable', False),\n",
       "                           ('nb_params', tensor(589824))])),\n",
       "             ('BatchNorm2d-80',\n",
       "              OrderedDict([('input_shape', [-1, 256, 19, 19]),\n",
       "                           ('output_shape', [-1, 256, 19, 19]),\n",
       "                           ('trainable', False),\n",
       "                           ('nb_params', tensor(512))])),\n",
       "             ('ReLU-81',\n",
       "              OrderedDict([('input_shape', [-1, 256, 19, 19]),\n",
       "                           ('output_shape', [-1, 256, 19, 19]),\n",
       "                           ('nb_params', 0)])),\n",
       "             ('Conv2d-82',\n",
       "              OrderedDict([('input_shape', [-1, 256, 19, 19]),\n",
       "                           ('output_shape', [-1, 256, 19, 19]),\n",
       "                           ('trainable', False),\n",
       "                           ('nb_params', tensor(589824))])),\n",
       "             ('BatchNorm2d-83',\n",
       "              OrderedDict([('input_shape', [-1, 256, 19, 19]),\n",
       "                           ('output_shape', [-1, 256, 19, 19]),\n",
       "                           ('trainable', False),\n",
       "                           ('nb_params', tensor(512))])),\n",
       "             ('ReLU-84',\n",
       "              OrderedDict([('input_shape', [-1, 256, 19, 19]),\n",
       "                           ('output_shape', [-1, 256, 19, 19]),\n",
       "                           ('nb_params', 0)])),\n",
       "             ('BasicBlock-85',\n",
       "              OrderedDict([('input_shape', [-1, 256, 19, 19]),\n",
       "                           ('output_shape', [-1, 256, 19, 19]),\n",
       "                           ('nb_params', 0)])),\n",
       "             ('Conv2d-86',\n",
       "              OrderedDict([('input_shape', [-1, 256, 19, 19]),\n",
       "                           ('output_shape', [-1, 256, 19, 19]),\n",
       "                           ('trainable', False),\n",
       "                           ('nb_params', tensor(589824))])),\n",
       "             ('BatchNorm2d-87',\n",
       "              OrderedDict([('input_shape', [-1, 256, 19, 19]),\n",
       "                           ('output_shape', [-1, 256, 19, 19]),\n",
       "                           ('trainable', False),\n",
       "                           ('nb_params', tensor(512))])),\n",
       "             ('ReLU-88',\n",
       "              OrderedDict([('input_shape', [-1, 256, 19, 19]),\n",
       "                           ('output_shape', [-1, 256, 19, 19]),\n",
       "                           ('nb_params', 0)])),\n",
       "             ('Conv2d-89',\n",
       "              OrderedDict([('input_shape', [-1, 256, 19, 19]),\n",
       "                           ('output_shape', [-1, 256, 19, 19]),\n",
       "                           ('trainable', False),\n",
       "                           ('nb_params', tensor(589824))])),\n",
       "             ('BatchNorm2d-90',\n",
       "              OrderedDict([('input_shape', [-1, 256, 19, 19]),\n",
       "                           ('output_shape', [-1, 256, 19, 19]),\n",
       "                           ('trainable', False),\n",
       "                           ('nb_params', tensor(512))])),\n",
       "             ('ReLU-91',\n",
       "              OrderedDict([('input_shape', [-1, 256, 19, 19]),\n",
       "                           ('output_shape', [-1, 256, 19, 19]),\n",
       "                           ('nb_params', 0)])),\n",
       "             ('BasicBlock-92',\n",
       "              OrderedDict([('input_shape', [-1, 256, 19, 19]),\n",
       "                           ('output_shape', [-1, 256, 19, 19]),\n",
       "                           ('nb_params', 0)])),\n",
       "             ('Conv2d-93',\n",
       "              OrderedDict([('input_shape', [-1, 256, 19, 19]),\n",
       "                           ('output_shape', [-1, 256, 19, 19]),\n",
       "                           ('trainable', False),\n",
       "                           ('nb_params', tensor(589824))])),\n",
       "             ('BatchNorm2d-94',\n",
       "              OrderedDict([('input_shape', [-1, 256, 19, 19]),\n",
       "                           ('output_shape', [-1, 256, 19, 19]),\n",
       "                           ('trainable', False),\n",
       "                           ('nb_params', tensor(512))])),\n",
       "             ('ReLU-95',\n",
       "              OrderedDict([('input_shape', [-1, 256, 19, 19]),\n",
       "                           ('output_shape', [-1, 256, 19, 19]),\n",
       "                           ('nb_params', 0)])),\n",
       "             ('Conv2d-96',\n",
       "              OrderedDict([('input_shape', [-1, 256, 19, 19]),\n",
       "                           ('output_shape', [-1, 256, 19, 19]),\n",
       "                           ('trainable', False),\n",
       "                           ('nb_params', tensor(589824))])),\n",
       "             ('BatchNorm2d-97',\n",
       "              OrderedDict([('input_shape', [-1, 256, 19, 19]),\n",
       "                           ('output_shape', [-1, 256, 19, 19]),\n",
       "                           ('trainable', False),\n",
       "                           ('nb_params', tensor(512))])),\n",
       "             ('ReLU-98',\n",
       "              OrderedDict([('input_shape', [-1, 256, 19, 19]),\n",
       "                           ('output_shape', [-1, 256, 19, 19]),\n",
       "                           ('nb_params', 0)])),\n",
       "             ('BasicBlock-99',\n",
       "              OrderedDict([('input_shape', [-1, 256, 19, 19]),\n",
       "                           ('output_shape', [-1, 256, 19, 19]),\n",
       "                           ('nb_params', 0)])),\n",
       "             ('Conv2d-100',\n",
       "              OrderedDict([('input_shape', [-1, 256, 19, 19]),\n",
       "                           ('output_shape', [-1, 512, 10, 10]),\n",
       "                           ('trainable', False),\n",
       "                           ('nb_params', tensor(1179648))])),\n",
       "             ('BatchNorm2d-101',\n",
       "              OrderedDict([('input_shape', [-1, 512, 10, 10]),\n",
       "                           ('output_shape', [-1, 512, 10, 10]),\n",
       "                           ('trainable', False),\n",
       "                           ('nb_params', tensor(1024))])),\n",
       "             ('ReLU-102',\n",
       "              OrderedDict([('input_shape', [-1, 512, 10, 10]),\n",
       "                           ('output_shape', [-1, 512, 10, 10]),\n",
       "                           ('nb_params', 0)])),\n",
       "             ('Conv2d-103',\n",
       "              OrderedDict([('input_shape', [-1, 512, 10, 10]),\n",
       "                           ('output_shape', [-1, 512, 10, 10]),\n",
       "                           ('trainable', False),\n",
       "                           ('nb_params', tensor(2359296))])),\n",
       "             ('BatchNorm2d-104',\n",
       "              OrderedDict([('input_shape', [-1, 512, 10, 10]),\n",
       "                           ('output_shape', [-1, 512, 10, 10]),\n",
       "                           ('trainable', False),\n",
       "                           ('nb_params', tensor(1024))])),\n",
       "             ('Conv2d-105',\n",
       "              OrderedDict([('input_shape', [-1, 256, 19, 19]),\n",
       "                           ('output_shape', [-1, 512, 10, 10]),\n",
       "                           ('trainable', False),\n",
       "                           ('nb_params', tensor(131072))])),\n",
       "             ('BatchNorm2d-106',\n",
       "              OrderedDict([('input_shape', [-1, 512, 10, 10]),\n",
       "                           ('output_shape', [-1, 512, 10, 10]),\n",
       "                           ('trainable', False),\n",
       "                           ('nb_params', tensor(1024))])),\n",
       "             ('ReLU-107',\n",
       "              OrderedDict([('input_shape', [-1, 512, 10, 10]),\n",
       "                           ('output_shape', [-1, 512, 10, 10]),\n",
       "                           ('nb_params', 0)])),\n",
       "             ('BasicBlock-108',\n",
       "              OrderedDict([('input_shape', [-1, 256, 19, 19]),\n",
       "                           ('output_shape', [-1, 512, 10, 10]),\n",
       "                           ('nb_params', 0)])),\n",
       "             ('Conv2d-109',\n",
       "              OrderedDict([('input_shape', [-1, 512, 10, 10]),\n",
       "                           ('output_shape', [-1, 512, 10, 10]),\n",
       "                           ('trainable', False),\n",
       "                           ('nb_params', tensor(2359296))])),\n",
       "             ('BatchNorm2d-110',\n",
       "              OrderedDict([('input_shape', [-1, 512, 10, 10]),\n",
       "                           ('output_shape', [-1, 512, 10, 10]),\n",
       "                           ('trainable', False),\n",
       "                           ('nb_params', tensor(1024))])),\n",
       "             ('ReLU-111',\n",
       "              OrderedDict([('input_shape', [-1, 512, 10, 10]),\n",
       "                           ('output_shape', [-1, 512, 10, 10]),\n",
       "                           ('nb_params', 0)])),\n",
       "             ('Conv2d-112',\n",
       "              OrderedDict([('input_shape', [-1, 512, 10, 10]),\n",
       "                           ('output_shape', [-1, 512, 10, 10]),\n",
       "                           ('trainable', False),\n",
       "                           ('nb_params', tensor(2359296))])),\n",
       "             ('BatchNorm2d-113',\n",
       "              OrderedDict([('input_shape', [-1, 512, 10, 10]),\n",
       "                           ('output_shape', [-1, 512, 10, 10]),\n",
       "                           ('trainable', False),\n",
       "                           ('nb_params', tensor(1024))])),\n",
       "             ('ReLU-114',\n",
       "              OrderedDict([('input_shape', [-1, 512, 10, 10]),\n",
       "                           ('output_shape', [-1, 512, 10, 10]),\n",
       "                           ('nb_params', 0)])),\n",
       "             ('BasicBlock-115',\n",
       "              OrderedDict([('input_shape', [-1, 512, 10, 10]),\n",
       "                           ('output_shape', [-1, 512, 10, 10]),\n",
       "                           ('nb_params', 0)])),\n",
       "             ('Conv2d-116',\n",
       "              OrderedDict([('input_shape', [-1, 512, 10, 10]),\n",
       "                           ('output_shape', [-1, 512, 10, 10]),\n",
       "                           ('trainable', False),\n",
       "                           ('nb_params', tensor(2359296))])),\n",
       "             ('BatchNorm2d-117',\n",
       "              OrderedDict([('input_shape', [-1, 512, 10, 10]),\n",
       "                           ('output_shape', [-1, 512, 10, 10]),\n",
       "                           ('trainable', False),\n",
       "                           ('nb_params', tensor(1024))])),\n",
       "             ('ReLU-118',\n",
       "              OrderedDict([('input_shape', [-1, 512, 10, 10]),\n",
       "                           ('output_shape', [-1, 512, 10, 10]),\n",
       "                           ('nb_params', 0)])),\n",
       "             ('Conv2d-119',\n",
       "              OrderedDict([('input_shape', [-1, 512, 10, 10]),\n",
       "                           ('output_shape', [-1, 512, 10, 10]),\n",
       "                           ('trainable', False),\n",
       "                           ('nb_params', tensor(2359296))])),\n",
       "             ('BatchNorm2d-120',\n",
       "              OrderedDict([('input_shape', [-1, 512, 10, 10]),\n",
       "                           ('output_shape', [-1, 512, 10, 10]),\n",
       "                           ('trainable', False),\n",
       "                           ('nb_params', tensor(1024))])),\n",
       "             ('ReLU-121',\n",
       "              OrderedDict([('input_shape', [-1, 512, 10, 10]),\n",
       "                           ('output_shape', [-1, 512, 10, 10]),\n",
       "                           ('nb_params', 0)])),\n",
       "             ('BasicBlock-122',\n",
       "              OrderedDict([('input_shape', [-1, 512, 10, 10]),\n",
       "                           ('output_shape', [-1, 512, 10, 10]),\n",
       "                           ('nb_params', 0)])),\n",
       "             ('AdaptiveMaxPool2d-123',\n",
       "              OrderedDict([('input_shape', [-1, 512, 10, 10]),\n",
       "                           ('output_shape', [-1, 512, 1, 1]),\n",
       "                           ('nb_params', 0)])),\n",
       "             ('AdaptiveAvgPool2d-124',\n",
       "              OrderedDict([('input_shape', [-1, 512, 10, 10]),\n",
       "                           ('output_shape', [-1, 512, 1, 1]),\n",
       "                           ('nb_params', 0)])),\n",
       "             ('AdaptiveConcatPool2d-125',\n",
       "              OrderedDict([('input_shape', [-1, 512, 10, 10]),\n",
       "                           ('output_shape', [-1, 1024, 1, 1]),\n",
       "                           ('nb_params', 0)])),\n",
       "             ('Flatten-126',\n",
       "              OrderedDict([('input_shape', [-1, 1024, 1, 1]),\n",
       "                           ('output_shape', [-1, 1024]),\n",
       "                           ('nb_params', 0)])),\n",
       "             ('BatchNorm1d-127',\n",
       "              OrderedDict([('input_shape', [-1, 1024]),\n",
       "                           ('output_shape', [-1, 1024]),\n",
       "                           ('trainable', True),\n",
       "                           ('nb_params', tensor(2048))])),\n",
       "             ('Dropout-128',\n",
       "              OrderedDict([('input_shape', [-1, 1024]),\n",
       "                           ('output_shape', [-1, 1024]),\n",
       "                           ('nb_params', 0)])),\n",
       "             ('Linear-129',\n",
       "              OrderedDict([('input_shape', [-1, 1024]),\n",
       "                           ('output_shape', [-1, 512]),\n",
       "                           ('trainable', True),\n",
       "                           ('nb_params', tensor(524800))])),\n",
       "             ('ReLU-130',\n",
       "              OrderedDict([('input_shape', [-1, 512]),\n",
       "                           ('output_shape', [-1, 512]),\n",
       "                           ('nb_params', 0)])),\n",
       "             ('BatchNorm1d-131',\n",
       "              OrderedDict([('input_shape', [-1, 512]),\n",
       "                           ('output_shape', [-1, 512]),\n",
       "                           ('trainable', True),\n",
       "                           ('nb_params', tensor(1024))])),\n",
       "             ('Dropout-132',\n",
       "              OrderedDict([('input_shape', [-1, 512]),\n",
       "                           ('output_shape', [-1, 512]),\n",
       "                           ('nb_params', 0)])),\n",
       "             ('Linear-133',\n",
       "              OrderedDict([('input_shape', [-1, 512]),\n",
       "                           ('output_shape', [-1, 120]),\n",
       "                           ('trainable', True),\n",
       "                           ('nb_params', tensor(61560))])),\n",
       "             ('LogSoftmax-134',\n",
       "              OrderedDict([('input_shape', [-1, 120]),\n",
       "                           ('output_shape', [-1, 120]),\n",
       "                           ('nb_params', 0)]))])"
      ]
     },
     "execution_count": 40,
     "metadata": {},
     "output_type": "execute_result"
    }
   ],
   "source": [
    "learn.summary()"
   ]
  },
  {
   "cell_type": "code",
   "execution_count": null,
   "metadata": {},
   "outputs": [
    {
     "data": {
      "application/vnd.jupyter.widget-view+json": {
       "model_id": "68dd1b74bac34fe58beef4578132f7a4",
       "version_major": 2,
       "version_minor": 0
      },
      "text/plain": [
       "HBox(children=(IntProgress(value=0, description='Epoch', max=3), HTML(value='')))"
      ]
     },
     "metadata": {},
     "output_type": "display_data"
    },
    {
     "name": "stdout",
     "output_type": "stream",
     "text": [
      "  0%|          | 2/512 [00:09<42:09,  4.96s/it, loss=0.45] "
     ]
    }
   ],
   "source": [
    "learn.fit(1e-2, 3, cycle_len=1)"
   ]
  },
  {
   "cell_type": "markdown",
   "metadata": {},
   "source": [
    "Validation loss is much lower than training loss. This is a sign of underfitting. Cycle_len=1 may be too short. Let's set cycle_mult=2 to find better parameter."
   ]
  },
  {
   "cell_type": "code",
   "execution_count": 32,
   "metadata": {},
   "outputs": [
    {
     "data": {
      "application/vnd.jupyter.widget-view+json": {
       "model_id": "a654b54da75a4a90b84cf00377e137af",
       "version_major": 2,
       "version_minor": 0
      },
      "text/plain": [
       "HBox(children=(IntProgress(value=0, description='Epoch', max=7), HTML(value='')))"
      ]
     },
     "metadata": {},
     "output_type": "display_data"
    },
    {
     "name": "stdout",
     "output_type": "stream",
     "text": [
      "epoch      trn_loss   val_loss   accuracy                     \n",
      "    0      1.2438     0.784892   0.793542  \n",
      "    1      0.954338   0.598152   0.815068                     \n",
      "    2      0.741907   0.559008   0.818004                     \n",
      "    3      0.772111   0.58328    0.812622                     \n",
      "    4      0.626313   0.532681   0.830724                     \n",
      "    5      0.529867   0.527499   0.833659                     \n",
      "    6      0.445617   0.522986   0.839041                     \n",
      "\n"
     ]
    },
    {
     "data": {
      "text/plain": [
       "[0.5229856755343902, 0.8390410960070541]"
      ]
     },
     "execution_count": 32,
     "metadata": {},
     "output_type": "execute_result"
    }
   ],
   "source": [
    "# When you are under fitting, it means cycle_len=1 is too short (learning rate is getting reset before it had the chance to zoom in properly).\n",
    "learn.fit(1e-2, 3, cycle_len=1, cycle_mult=2) # 1+2+4 = 7 epochs"
   ]
  },
  {
   "cell_type": "markdown",
   "metadata": {},
   "source": [
    "Training loss and validation loss are getting closer and smaller. We are on right track."
   ]
  },
  {
   "cell_type": "code",
   "execution_count": 33,
   "metadata": {
    "scrolled": true
   },
   "outputs": [
    {
     "name": "stdout",
     "output_type": "stream",
     "text": [
      "                                             \r"
     ]
    },
    {
     "data": {
      "text/plain": [
       "(0.839041095890411, 0.5229856888791727)"
      ]
     },
     "execution_count": 33,
     "metadata": {},
     "output_type": "execute_result"
    }
   ],
   "source": [
    "log_preds, y = learn.TTA() # (5, 2044, 120), (2044,)\n",
    "probs = np.mean(np.exp(log_preds),0)\n",
    "accuracy_np(probs, y), metrics.log_loss(y, probs)"
   ]
  },
  {
   "cell_type": "code",
   "execution_count": 34,
   "metadata": {},
   "outputs": [
    {
     "data": {
      "text/plain": [
       "(2044, array([19, 15,  7, 99, 73]))"
      ]
     },
     "execution_count": 34,
     "metadata": {},
     "output_type": "execute_result"
    }
   ],
   "source": [
    "len(data.val_ds.y), data.val_ds.y[:5]"
   ]
  },
  {
   "cell_type": "code",
   "execution_count": 35,
   "metadata": {},
   "outputs": [],
   "source": [
    "learn.save('299_pre')"
   ]
  },
  {
   "cell_type": "code",
   "execution_count": 36,
   "metadata": {},
   "outputs": [],
   "source": [
    "learn.load('299_pre')"
   ]
  },
  {
   "cell_type": "code",
   "execution_count": 37,
   "metadata": {
    "scrolled": true
   },
   "outputs": [
    {
     "data": {
      "application/vnd.jupyter.widget-view+json": {
       "model_id": "2619a5bd13a54b1dbd4b37de36649045",
       "version_major": 2,
       "version_minor": 0
      },
      "text/plain": [
       "HBox(children=(IntProgress(value=0, description='Epoch', max=2), HTML(value='')))"
      ]
     },
     "metadata": {},
     "output_type": "display_data"
    },
    {
     "name": "stdout",
     "output_type": "stream",
     "text": [
      "epoch      trn_loss   val_loss   accuracy                    \n",
      "    0      0.579454   0.561272   0.825342  \n",
      "    1      0.483124   0.539139   0.830235                     \n",
      "\n"
     ]
    },
    {
     "data": {
      "text/plain": [
       "[0.5391387857802926, 0.8302348336594912]"
      ]
     },
     "execution_count": 37,
     "metadata": {},
     "output_type": "execute_result"
    }
   ],
   "source": [
    "learn.fit(1e-2, 1, cycle_len=2) # 1+1 = 2 epochs"
   ]
  },
  {
   "cell_type": "code",
   "execution_count": 38,
   "metadata": {},
   "outputs": [],
   "source": [
    "learn.save('299_pre')"
   ]
  },
  {
   "cell_type": "code",
   "execution_count": 39,
   "metadata": {},
   "outputs": [
    {
     "name": "stdout",
     "output_type": "stream",
     "text": [
      "                                             \r"
     ]
    },
    {
     "data": {
      "text/plain": [
       "(0.8302348336594912, 0.5392479601110625)"
      ]
     },
     "execution_count": 39,
     "metadata": {},
     "output_type": "execute_result"
    }
   ],
   "source": [
    "log_preds, y = learn.TTA()\n",
    "probs = np.mean(np.exp(log_preds),0)\n",
    "accuracy_np(probs, y), metrics.log_loss(y, probs)"
   ]
  },
  {
   "cell_type": "markdown",
   "metadata": {},
   "source": [
    "This dataset is so similar to ImageNet dataset. Training convolution layers doesn't help much. We are not going to unfreeze."
   ]
  },
  {
   "cell_type": "markdown",
   "metadata": {},
   "source": [
    "## Create submission\n",
    "\n",
    "https://youtu.be/9C06ZPF8Uuc?t=1905"
   ]
  },
  {
   "cell_type": "code",
   "execution_count": 40,
   "metadata": {},
   "outputs": [
    {
     "data": {
      "text/plain": [
       "['affenpinscher',\n",
       " 'afghan_hound',\n",
       " 'african_hunting_dog',\n",
       " 'airedale',\n",
       " 'american_staffordshire_terrier',\n",
       " 'appenzeller',\n",
       " 'australian_terrier',\n",
       " 'basenji',\n",
       " 'basset',\n",
       " 'beagle',\n",
       " 'bedlington_terrier',\n",
       " 'bernese_mountain_dog',\n",
       " 'black-and-tan_coonhound',\n",
       " 'blenheim_spaniel',\n",
       " 'bloodhound',\n",
       " 'bluetick',\n",
       " 'border_collie',\n",
       " 'border_terrier',\n",
       " 'borzoi',\n",
       " 'boston_bull',\n",
       " 'bouvier_des_flandres',\n",
       " 'boxer',\n",
       " 'brabancon_griffon',\n",
       " 'briard',\n",
       " 'brittany_spaniel',\n",
       " 'bull_mastiff',\n",
       " 'cairn',\n",
       " 'cardigan',\n",
       " 'chesapeake_bay_retriever',\n",
       " 'chihuahua',\n",
       " 'chow',\n",
       " 'clumber',\n",
       " 'cocker_spaniel',\n",
       " 'collie',\n",
       " 'curly-coated_retriever',\n",
       " 'dandie_dinmont',\n",
       " 'dhole',\n",
       " 'dingo',\n",
       " 'doberman',\n",
       " 'english_foxhound',\n",
       " 'english_setter',\n",
       " 'english_springer',\n",
       " 'entlebucher',\n",
       " 'eskimo_dog',\n",
       " 'flat-coated_retriever',\n",
       " 'french_bulldog',\n",
       " 'german_shepherd',\n",
       " 'german_short-haired_pointer',\n",
       " 'giant_schnauzer',\n",
       " 'golden_retriever',\n",
       " 'gordon_setter',\n",
       " 'great_dane',\n",
       " 'great_pyrenees',\n",
       " 'greater_swiss_mountain_dog',\n",
       " 'groenendael',\n",
       " 'ibizan_hound',\n",
       " 'irish_setter',\n",
       " 'irish_terrier',\n",
       " 'irish_water_spaniel',\n",
       " 'irish_wolfhound',\n",
       " 'italian_greyhound',\n",
       " 'japanese_spaniel',\n",
       " 'keeshond',\n",
       " 'kelpie',\n",
       " 'kerry_blue_terrier',\n",
       " 'komondor',\n",
       " 'kuvasz',\n",
       " 'labrador_retriever',\n",
       " 'lakeland_terrier',\n",
       " 'leonberg',\n",
       " 'lhasa',\n",
       " 'malamute',\n",
       " 'malinois',\n",
       " 'maltese_dog',\n",
       " 'mexican_hairless',\n",
       " 'miniature_pinscher',\n",
       " 'miniature_poodle',\n",
       " 'miniature_schnauzer',\n",
       " 'newfoundland',\n",
       " 'norfolk_terrier',\n",
       " 'norwegian_elkhound',\n",
       " 'norwich_terrier',\n",
       " 'old_english_sheepdog',\n",
       " 'otterhound',\n",
       " 'papillon',\n",
       " 'pekinese',\n",
       " 'pembroke',\n",
       " 'pomeranian',\n",
       " 'pug',\n",
       " 'redbone',\n",
       " 'rhodesian_ridgeback',\n",
       " 'rottweiler',\n",
       " 'saint_bernard',\n",
       " 'saluki',\n",
       " 'samoyed',\n",
       " 'schipperke',\n",
       " 'scotch_terrier',\n",
       " 'scottish_deerhound',\n",
       " 'sealyham_terrier',\n",
       " 'shetland_sheepdog',\n",
       " 'shih-tzu',\n",
       " 'siberian_husky',\n",
       " 'silky_terrier',\n",
       " 'soft-coated_wheaten_terrier',\n",
       " 'staffordshire_bullterrier',\n",
       " 'standard_poodle',\n",
       " 'standard_schnauzer',\n",
       " 'sussex_spaniel',\n",
       " 'tibetan_mastiff',\n",
       " 'tibetan_terrier',\n",
       " 'toy_poodle',\n",
       " 'toy_terrier',\n",
       " 'vizsla',\n",
       " 'walker_hound',\n",
       " 'weimaraner',\n",
       " 'welsh_springer_spaniel',\n",
       " 'west_highland_white_terrier',\n",
       " 'whippet',\n",
       " 'wire-haired_fox_terrier',\n",
       " 'yorkshire_terrier']"
      ]
     },
     "execution_count": 40,
     "metadata": {},
     "output_type": "execute_result"
    }
   ],
   "source": [
    "data.classes"
   ]
  },
  {
   "cell_type": "code",
   "execution_count": 41,
   "metadata": {},
   "outputs": [
    {
     "data": {
      "text/plain": [
       "['test/266490a2b053a4a3bf68e779f28fb5a9.jpg',\n",
       " 'test/dae9fd18836d8df20989ef0101771d4b.jpg',\n",
       " 'test/079a40f22b0fad9a66f76797b62bb930.jpg',\n",
       " 'test/ab8462f9a501d362041d47582fddc9ad.jpg',\n",
       " 'test/8895089b432e020cc42e6262b5a1c2dd.jpg',\n",
       " 'test/985ae7fc271ac4a0d131e546c0f95bb6.jpg',\n",
       " 'test/77c1ab99cffb817d54fb14f229aeb118.jpg',\n",
       " 'test/ad7e50abca9b7c6a88b63946c5bbe493.jpg',\n",
       " 'test/d61a09cecf56666cdb315ebce4b93c43.jpg',\n",
       " 'test/cb120c57904e8c0694bbe259c58a873c.jpg',\n",
       " 'test/10863e6d9d1cb526cc9d90f30a585719.jpg',\n",
       " 'test/43cb5f3a505d710bd16e0a0d583a781b.jpg',\n",
       " 'test/a5aa4e972242a61829ad10b220a12c64.jpg',\n",
       " 'test/abca35eb197f260e4e348156818bf930.jpg',\n",
       " 'test/28950f53443e40e5a704a8cb5a1e1d35.jpg',\n",
       " 'test/326e3c2a0a47f79ad1a87ca5c2f84d79.jpg',\n",
       " 'test/727fb62505f8fc165a40f755c94e36dd.jpg',\n",
       " 'test/bccec86223be760e4a9c7899d0628812.jpg',\n",
       " 'test/42feb15909b1a7da5d85bc1a2baafe47.jpg',\n",
       " 'test/b8da90f454f62fb33c83715a404aca3b.jpg',\n",
       " 'test/d38cfa7f70adf71a5c7281f64218034d.jpg',\n",
       " 'test/b8a3047509bdd743df820c7a6cd7dd87.jpg',\n",
       " 'test/291c193c35def70cb8b9e4371b1f9b3c.jpg',\n",
       " 'test/fc50b817f059dbfff5fa1857d7769cc2.jpg',\n",
       " 'test/a6faea5f33b025272df4f3d8dde780d7.jpg',\n",
       " 'test/32d1d7ac227098b3f964705d5f651236.jpg',\n",
       " 'test/078a52db2d156257696c771487a6a316.jpg',\n",
       " 'test/88158ff4e3b161ad6027af39d0ce46ea.jpg',\n",
       " 'test/e22db0abd7c039726b9683fc0a372204.jpg',\n",
       " 'test/0cd23332299c3aff0eaff055e00f55b4.jpg',\n",
       " 'test/722f83aa7a932ed3d8b3f7dade17a456.jpg',\n",
       " 'test/5f305def7fd430e7424bb0905d2e461e.jpg',\n",
       " 'test/da383e0970244d4308a9335b3ae1d8da.jpg',\n",
       " 'test/f717e4f0cce4ff0e658f9f58e59118a7.jpg',\n",
       " 'test/c33b8c8cf90afb9952dbfd74ad7f9c0c.jpg',\n",
       " 'test/582d48c3f5cdaffcc738f8f047286d97.jpg',\n",
       " 'test/a7054ea92a0a6938746a9050f370d8c0.jpg',\n",
       " 'test/2e8fa3240b9dc79a7e847fe65e388c23.jpg',\n",
       " 'test/1bff026e041df7da298b1518d598f52e.jpg',\n",
       " 'test/e4ec1e1a3e21d31f6e058c04655cb38b.jpg',\n",
       " 'test/dca9642123204fd3df080147b05e4af3.jpg',\n",
       " 'test/5c4503ac01840e7a9307b5e33acae248.jpg',\n",
       " 'test/14831db5108c3b9c056efe04329a3916.jpg',\n",
       " 'test/b97c65ed477941beb476a370e426f18b.jpg',\n",
       " 'test/a1cb6364a59b4820943d1b4ff58800ec.jpg',\n",
       " 'test/d4ca25ad879bafe08c18dbe3bf26144a.jpg',\n",
       " 'test/3355b89d124b2d4e9511d1b71ff59221.jpg',\n",
       " 'test/c28df8dba34f8477e8e7fa89b018800e.jpg',\n",
       " 'test/23507f798e4ee5d5f996974f99fa17d0.jpg',\n",
       " 'test/18c99cf825402eac387412e6fe6f3cba.jpg',\n",
       " 'test/e5942b2259c795541cd9ea68fb106406.jpg',\n",
       " 'test/75173940f416c2142a727faa4b8df89b.jpg',\n",
       " 'test/96b8f71e4ac161115b870c5f11afe2ed.jpg',\n",
       " 'test/4a57179941ccaf7cf2a184c3c2e70e2d.jpg',\n",
       " 'test/ce9d99e639e07b8bd5f14f9610676a60.jpg',\n",
       " 'test/52c2aa603ea6537d4568d4e9da3bacf4.jpg',\n",
       " 'test/36c7d2cb3da6a49ec217f4452dea9ba4.jpg',\n",
       " 'test/fe31b0afef266f7b51e508f1476f2325.jpg',\n",
       " 'test/b2527bd2a6ccdf3c931ed26a6fde2724.jpg',\n",
       " 'test/795bd673cfe2178819c10a042fa77b5b.jpg',\n",
       " 'test/6e34eed9d9b2af470fcf19a3621a33a9.jpg',\n",
       " 'test/07e4edc428816ffe6b8dd1024bed2782.jpg',\n",
       " 'test/4072218a28fed763f32931f9ce9b1849.jpg',\n",
       " 'test/0e4c14d014ad3e0421933ab29ad7b16c.jpg',\n",
       " 'test/f328ba9a36da80caceea391ed1a87164.jpg',\n",
       " 'test/92c5cb90c59782ec6b87ddad45216295.jpg',\n",
       " 'test/f5bdb338a1290c979bb8ff9071c3edd4.jpg',\n",
       " 'test/e982fc6397c1f837100f28a8ed26d86e.jpg',\n",
       " 'test/c971c03d76e8b2b18c0fb51f638fe22f.jpg',\n",
       " 'test/6d15ae3e88e32472a777752502f5ef61.jpg',\n",
       " 'test/e35b90290702042d17ceee2aaf2d1475.jpg',\n",
       " 'test/89f0b1b962cc074149972526aaabfa7c.jpg',\n",
       " 'test/f4db24d71e6f3100614eb4543f98394f.jpg',\n",
       " 'test/2373ee7aa0195a4184dc93da0ba0433f.jpg',\n",
       " 'test/5ec5af5dd1cb102d151cb60a1e256ed2.jpg',\n",
       " 'test/107cfd7192dd926f205ad8d48fe6a17e.jpg',\n",
       " 'test/abbe1108ea6a8a96d8b08c59e2c92601.jpg',\n",
       " 'test/969b6b76b1e57682cb66eb18d24918c9.jpg',\n",
       " 'test/89db4b97109ed0e110a835062ba8d73f.jpg',\n",
       " 'test/1cb39487e071702fb2ac1a31be2d31d7.jpg',\n",
       " 'test/ae17d1bb016bb43cceece0318c5f2da7.jpg',\n",
       " 'test/005b281f1a4d6f29d527c9585e9bd33c.jpg',\n",
       " 'test/f31ffe7d14c530955f2d4c78b93f80eb.jpg',\n",
       " 'test/a296a861d0e180ffc572e1f2fba8d606.jpg',\n",
       " 'test/ad9096123e2257a7377631a8fd0a95a9.jpg',\n",
       " 'test/52cab2e66727470960de51200f7c0e8f.jpg',\n",
       " 'test/834f6aaff5dd8f7159bc3c9afeaaead7.jpg',\n",
       " 'test/fc00016dee37d944be852f6e8a1aea0f.jpg',\n",
       " 'test/092376c380c9d09c4af6e98ef2278925.jpg',\n",
       " 'test/4feb8012034b360ce124355bb40d9c11.jpg',\n",
       " 'test/f16eed64196d24c423f0a68d7ebf287d.jpg',\n",
       " 'test/47811a1b2ecb1427d13e78f6bf11ac0b.jpg',\n",
       " 'test/df624595296500c98e3a1bf4d9ea917b.jpg',\n",
       " 'test/b1ba0768ed1533e8751c9200d1ccc929.jpg',\n",
       " 'test/2f90d005ca7d718be9377b94091849ba.jpg',\n",
       " 'test/83ee46c4f2fb37c7617dbac9fc49706d.jpg',\n",
       " 'test/ae062a097cb8ede7272e0cc807d1600b.jpg',\n",
       " 'test/5ccfa35fa4d8828b60370a4b759bdbb5.jpg',\n",
       " 'test/8285fc20c3e4f1020225f36d07772928.jpg',\n",
       " 'test/9bc4847dd1203223ecc8760dc88bab25.jpg',\n",
       " 'test/2539a62ed8df78f7d3689fac73a08c65.jpg',\n",
       " 'test/b3c8be64d0c83b0350bc79e61276fcb0.jpg',\n",
       " 'test/9a64ea7bf2211f9021da989ada36063f.jpg',\n",
       " 'test/1bf8b6d0b362943130a9fd6b2751913c.jpg',\n",
       " 'test/875288ec5f69ecfc4b1ffcc7076664ae.jpg',\n",
       " 'test/6fd3f1bc87505c9103c96b9693e04f47.jpg',\n",
       " 'test/6c4178faca40070300456ba962c28c37.jpg',\n",
       " 'test/9e72af813948e3349bc6b3454b4a6e52.jpg',\n",
       " 'test/ff4c5de43a47599022fa29b3778b3604.jpg',\n",
       " 'test/7e9ea302a3f645152c00b09764c8a272.jpg',\n",
       " 'test/114b457d11f8ece14dd82ea525683a1f.jpg',\n",
       " 'test/e93dde9e36ff6a41cd0e72fb01703be6.jpg',\n",
       " 'test/3a4c5ff38cc789af065aaee7b0ac8363.jpg',\n",
       " 'test/7fbf8b96db35324d6da82d03a367d5e3.jpg',\n",
       " 'test/aaa6340f61b9890a3d340dce1fd091c7.jpg',\n",
       " 'test/7df0aa40b7514ad56847f2b43e7b677e.jpg',\n",
       " 'test/988d031d16dbc136432726cb3bb53294.jpg',\n",
       " 'test/f89654f9652fed8140209b60093e6f3c.jpg',\n",
       " 'test/ccc75852ccfe236eb8bf16c55f55d5fd.jpg',\n",
       " 'test/7d3a1066521da895f915af31e8e739df.jpg',\n",
       " 'test/1611e247bb7055f705bbe0de950ce81e.jpg',\n",
       " 'test/6e46a3e8d9a41bf1ef5954431a708e5a.jpg',\n",
       " 'test/d6ccd266aa68d8e06a7882f9e0145492.jpg',\n",
       " 'test/b6d8cda9ce59d7e6b5af36463c474f22.jpg',\n",
       " 'test/5e593fd2bbde69cc3a30d7cdec1663c6.jpg',\n",
       " 'test/fbcbafa79a186a127d572d7d6491fab7.jpg',\n",
       " 'test/33fdf388402e678d94203911ec26c63e.jpg',\n",
       " 'test/d206cc41e048201c41d479cbdcf84168.jpg',\n",
       " 'test/01335e3d4849ec81cc1578aa915227b9.jpg',\n",
       " 'test/a1a132b6924c6172b8bcf56dd572a1d2.jpg',\n",
       " 'test/1fbb419ca6796def6b25e0ef0af4af81.jpg',\n",
       " 'test/5c5bc91cdee45b8237b109d309513af0.jpg',\n",
       " 'test/5f0689f1454032a485c455101b4cf2ec.jpg',\n",
       " 'test/a107a7ab791b343799a2f6da2683ec53.jpg',\n",
       " 'test/f5debfc7eda5eead5fd5883846decf4a.jpg',\n",
       " 'test/cc1365508f91dabf91675f2d3bda49d7.jpg',\n",
       " 'test/e1f9be3ecf0409189486c786ff4bd65a.jpg',\n",
       " 'test/17bc09f7599a3ba843d9b0086e9f8222.jpg',\n",
       " 'test/3a8a7e8e65019c503a99922f816492a9.jpg',\n",
       " 'test/785cbeacab81373e47633594b37ae3b5.jpg',\n",
       " 'test/fa0b392ccbae2b59bf83afd34bd8b610.jpg',\n",
       " 'test/f9c6eaf6f490f30fdecd76831805d0f7.jpg',\n",
       " 'test/db0a1ea334b6ed41bf6f951297172ecf.jpg',\n",
       " 'test/fb8314da87c341c9845fa2cfe87fbf7f.jpg',\n",
       " 'test/ad40b218aa7e1b1e927be03a6e2f84af.jpg',\n",
       " 'test/8e78fefe5b7612a131e66a7fe616309a.jpg',\n",
       " 'test/5b22b22fe8b18c0cce2fb4d8e81f2e6e.jpg',\n",
       " 'test/cb8323065d4827069d53e0ffba2f0c84.jpg',\n",
       " 'test/947b82e1899282547e9e07643ec5a2f9.jpg',\n",
       " 'test/858a434039128a6179a3334eee9eed83.jpg',\n",
       " 'test/4bddac4bf91f5b45dc8104db791deb97.jpg',\n",
       " 'test/c476fe034a0818dc0cda1b53447ecae4.jpg',\n",
       " 'test/08680f416f6cf8ab00fcdf51c217b5f7.jpg',\n",
       " 'test/6754ce6089f5837708a902d2afed0c1e.jpg',\n",
       " 'test/5bd2e1f97550f18c55e1fc265faf2e97.jpg',\n",
       " 'test/02a3052cd5eaf8af934c30bffbd268d3.jpg',\n",
       " 'test/33a279e9ebc7482aa762eb225471ad5e.jpg',\n",
       " 'test/4761342af69ec3bf525946e602707a44.jpg',\n",
       " 'test/780725d208ae90c14fa181ca2bbbab74.jpg',\n",
       " 'test/2046b1decc5a575e3a48b42c88adcd62.jpg',\n",
       " 'test/0533f637900fd6c5a654ee50d3332ac3.jpg',\n",
       " 'test/6ea3ec6ddb467a0eba42bea87feee18e.jpg',\n",
       " 'test/8600c6a30401005de8d7f54876520992.jpg',\n",
       " 'test/e2c3376aeea1057337f02dfc48feee62.jpg',\n",
       " 'test/114a4a1fe266429ccb8ae42b5f8556cf.jpg',\n",
       " 'test/8ab2c099a5ffb7e5b9781c4e4317a4fe.jpg',\n",
       " 'test/ba46139495a97d58b858a63e672a8938.jpg',\n",
       " 'test/ffbb6663b38e903dbd1efa5dce2d0bbb.jpg',\n",
       " 'test/42d47502a728ebb752db63871329f09a.jpg',\n",
       " 'test/df2b5cee4b3d8a3cb893b668df16d572.jpg',\n",
       " 'test/a9fc9e737ef58c9614f2a59c702a8d06.jpg',\n",
       " 'test/92c31e866fdd408a0a721aa34602bfc5.jpg',\n",
       " 'test/7978f93c8a673daf3f99762be9048bb6.jpg',\n",
       " 'test/762c598988525da91610c46e7a690343.jpg',\n",
       " 'test/74d2b7992b831108009f6aeb36fb9181.jpg',\n",
       " 'test/e5f2204119380ce1a17fd09435c5012a.jpg',\n",
       " 'test/6b37d00eb4bc2115e45d0e2d8beb3fd3.jpg',\n",
       " 'test/e42e9ceb31ec428968e88b556a92e858.jpg',\n",
       " 'test/ea111bb38037c9922185a0e9513391d7.jpg',\n",
       " 'test/4a561aa2b498abbe1dd306cb35e7a3a1.jpg',\n",
       " 'test/43159f866273080e9dc8070751e4d0f4.jpg',\n",
       " 'test/283109fef09eb536e61f334e6945c7eb.jpg',\n",
       " 'test/54ea0934f9b66ca292e58ce3a0c927ef.jpg',\n",
       " 'test/02f7caf2655b4b2e31aae3eb63f482e3.jpg',\n",
       " 'test/7774a47f851cc89ca70c2d43b43a1451.jpg',\n",
       " 'test/e18db768bc1a9e7e633940dcadacb231.jpg',\n",
       " 'test/d922f9d5a8f5a7d571c3cf78c96ad3f3.jpg',\n",
       " 'test/69e37b2550d05bed18642ba3f1355d67.jpg',\n",
       " 'test/adab3b6c9834fe02f569f5c2b457127b.jpg',\n",
       " 'test/89ce3256951015a6f3479590c773e446.jpg',\n",
       " 'test/01fc8d4fec16bb8dcb5a0e60db1dc7fb.jpg',\n",
       " 'test/371cc67c8675a767b03c9cf8b4c6ab61.jpg',\n",
       " 'test/fa2f75a340b6ecdc3f376c56a6323b01.jpg',\n",
       " 'test/bba293dd06d11a8b7dc78bfca28059be.jpg',\n",
       " 'test/1b9d62757e57a609631fc156c4cf0017.jpg',\n",
       " 'test/e2b24cea9d0796ffad73cb24eab1a3f6.jpg',\n",
       " 'test/b8a095f820b34a9f102b4cbb0c747528.jpg',\n",
       " 'test/4bc6141ce276b118fa24e20d779e3a35.jpg',\n",
       " 'test/5224e9da3c1d74f4b192a629bb8ead4b.jpg',\n",
       " 'test/f0f205d037fe626670165aca00fc8b81.jpg',\n",
       " 'test/4fe4dc464736aef48177cfe2a6bc6a6e.jpg',\n",
       " 'test/b7de3cbbdfa9308091472927e92ab5dd.jpg',\n",
       " 'test/4687c034fd756f59fae72747e4c7a7f9.jpg',\n",
       " 'test/d02136d55681e1f71fd93ff218522483.jpg',\n",
       " 'test/574953f707e8c12b0349ca4c6fea9e3a.jpg',\n",
       " 'test/8039f8c115eeaaaa324820bb49640fcd.jpg',\n",
       " 'test/8d0105c691dbfd0f80d9ecb95ea5f69d.jpg',\n",
       " 'test/00d9537c197b7c4c4cdbd5d03c34b58a.jpg',\n",
       " 'test/580af1906fb3472297e9b3c1d15ea969.jpg',\n",
       " 'test/98e74b6d16170bd61e7cc04bf8af49c5.jpg',\n",
       " 'test/27008c23b045d404eee3800105cc6d6a.jpg',\n",
       " 'test/e431adb273c1b705e6e85147990f355e.jpg',\n",
       " 'test/24e2d249ccc920754ef322acd3e9cab9.jpg',\n",
       " 'test/3220ecea8642a6afb3c70bc273472eb2.jpg',\n",
       " 'test/5260753fe46c94c4202edc54278f9df2.jpg',\n",
       " 'test/8bdc1bb017b6d13f87819804504953b3.jpg',\n",
       " 'test/d814acb8ca7e3288d8ac5ed47407f662.jpg',\n",
       " 'test/2c4aab0a71b7d43de83e2b3dd393b9a6.jpg',\n",
       " 'test/b1d2f74265af835e570a690ef3bbc36d.jpg',\n",
       " 'test/966d92071cc9c8268e8169c80eebb8c7.jpg',\n",
       " 'test/53963abceeb502b1fc6a6eb6af4e3bc4.jpg',\n",
       " 'test/0e9c363076ca2a8fb7b7a1182a7528f1.jpg',\n",
       " 'test/8c939bd1f3d83fbe915789d2ffd94597.jpg',\n",
       " 'test/1ca5d949f20ddbbba50507a30c5667ed.jpg',\n",
       " 'test/e43f6e621469f438f351d31d889b839f.jpg',\n",
       " 'test/076d962aa496391d14bcf7dd8878a24c.jpg',\n",
       " 'test/3707f315aececfd4d4bf7953b75bc68a.jpg',\n",
       " 'test/07a61998ec9044e9c977274476e07681.jpg',\n",
       " 'test/812947176567d407e0af0bfc8e51adbb.jpg',\n",
       " 'test/385cf6904272259c0edc8882df482cfa.jpg',\n",
       " 'test/09be34319680d5e6a5608f74d4825271.jpg',\n",
       " 'test/426dfd819da9c855bc00123b2cb2aa09.jpg',\n",
       " 'test/56b1cc3f408fcf200f1e17e6c44edab5.jpg',\n",
       " 'test/058020dbdbd003cd198e88468b139013.jpg',\n",
       " 'test/0ecde220a6c5bc116534f0c79426a09f.jpg',\n",
       " 'test/e47bc25097050ba689b64de02c725837.jpg',\n",
       " 'test/d595bce69bfe8ddd14ee8b21aa4b0609.jpg',\n",
       " 'test/6d6519ebd4a475643e4c64043005cbb2.jpg',\n",
       " 'test/d1e2f9c636094acd34dde9f853835772.jpg',\n",
       " 'test/abf80ff749d9fb49b9c1342efe0de209.jpg',\n",
       " 'test/6e386431fb081abcb8cc42ec9da8b7cb.jpg',\n",
       " 'test/d96f32fa517b8627b63d8dec5351f102.jpg',\n",
       " 'test/69fecc0bd746007e901cd996fbba7376.jpg',\n",
       " 'test/ce617dcd518370f0c8c19c6c52d26c4d.jpg',\n",
       " 'test/4fd5c8079f2c11d8729ec66f04aaa21e.jpg',\n",
       " 'test/49cd459efd30b3b593de0c57245f3e9a.jpg',\n",
       " 'test/85a8de26af9744d74dc6df7edc99cada.jpg',\n",
       " 'test/7d638dc5b6c47211168ad1f25c9e96a7.jpg',\n",
       " 'test/63185291ba0d2f5580beab7231552cd2.jpg',\n",
       " 'test/05eb4d66296f21bc9782688414fdbe17.jpg',\n",
       " 'test/a1689948e4fac6e13717092a634ec254.jpg',\n",
       " 'test/e2537e98808877c707bfe8ca53e303b7.jpg',\n",
       " 'test/99a41d78d9bc2b7fedff58aeef22c34f.jpg',\n",
       " 'test/68e5d9e3d6a15d18f8c922be377d94a3.jpg',\n",
       " 'test/7e739331d854dd7462c853a21f378387.jpg',\n",
       " 'test/574df6271f0a199ff494b9219fa8f27e.jpg',\n",
       " 'test/0c1190ac6d3af71a509db2530e78a4d9.jpg',\n",
       " 'test/1e695289bc7e756f59fb40120ba541a7.jpg',\n",
       " 'test/2574db80a56514ac35ab1406c87834fe.jpg',\n",
       " 'test/de4223b8c5ca7b80d34d1cd2b5e62351.jpg',\n",
       " 'test/fa72bd6f479a51c33c8b92970c834954.jpg',\n",
       " 'test/c7ec9b612496f9c6d5b55838f1867626.jpg',\n",
       " 'test/cf4cc116215478f2d0e0b023ad4e394c.jpg',\n",
       " 'test/c65eb89f6d2cfdf88d8c6267d618ec69.jpg',\n",
       " 'test/8f87f0bac19b72a9919681fe3d4922e9.jpg',\n",
       " 'test/61f2e51806a151d8967c584f78bf6d74.jpg',\n",
       " 'test/52b0c3cc3a1a929c11a0fba2e18e1b88.jpg',\n",
       " 'test/06d2d441aceceb5db8599311e8b1c4a3.jpg',\n",
       " 'test/dc6da0379fc0113bab6e75bdcc0f076d.jpg',\n",
       " 'test/16e8523182b15d1fd9119070fdc56ac8.jpg',\n",
       " 'test/62aacc90863d9c0bca1a097cb92c2fd6.jpg',\n",
       " 'test/b910044b52dea95df976d524a3018793.jpg',\n",
       " 'test/ee18a2bf52ba6ae53327c951c94d598e.jpg',\n",
       " 'test/f27e014627c0495cd7a9ef27235bc7a6.jpg',\n",
       " 'test/53cb184b5e5ce7ef5488fc21f6c32ec2.jpg',\n",
       " 'test/1f3c7d1814b6e63263f89b742ebac82d.jpg',\n",
       " 'test/8a90cb35ebeb872781026fc3e28a3dc5.jpg',\n",
       " 'test/9841057e1e4699918e264310f55fc000.jpg',\n",
       " 'test/0b13ba12e03f7d59a2ec9d72abcc64b3.jpg',\n",
       " 'test/30e8e107da446bc00f7b883df0bfc553.jpg',\n",
       " 'test/c2370c53e8e91ad4374760178bd68ddd.jpg',\n",
       " 'test/bdb6010f4334782a8728d91b93af3ae1.jpg',\n",
       " 'test/ceea2bc24e4735b69c74bd89b665e357.jpg',\n",
       " 'test/2f66fdaaae92997e036e509ae682e5ea.jpg',\n",
       " 'test/7ec3929c60fe70208989c9882722a25b.jpg',\n",
       " 'test/49adf44b63b707f951298072329968f1.jpg',\n",
       " 'test/180f2e2e8067fe2213130b1fdc469b26.jpg',\n",
       " 'test/7f7f61595ef7040ff61b06281661484a.jpg',\n",
       " 'test/b87f4c4517c9b71e5784116b53528dc8.jpg',\n",
       " 'test/f2b7d11ea6ccf65f214cac2abee8d1a1.jpg',\n",
       " 'test/37456f9db5dd693360e058c92d0540d3.jpg',\n",
       " 'test/22acdc1aa7bd526e90d12e74b7a8b79e.jpg',\n",
       " 'test/b87e5e767fb6834a9eef31c01603bad6.jpg',\n",
       " 'test/1493c4814ac4a2094162a8005fdff7f7.jpg',\n",
       " 'test/5c812798b51e6b7ebad9dc1109d2ef3d.jpg',\n",
       " 'test/548777448b984525db18e614fcd6fd2e.jpg',\n",
       " 'test/11a2226cad4e1bcebb4015c28fd2c7e3.jpg',\n",
       " 'test/c89c1dcd1fc71a03f23a9a461ec6758c.jpg',\n",
       " 'test/e46db7bcb804584eed8821ad4e132fd1.jpg',\n",
       " 'test/67b3f084990fae09436ded7fd2b71064.jpg',\n",
       " 'test/5ca4fc5b92f4a9da3b0623155f84a1ca.jpg',\n",
       " 'test/05f2d8cdffa7c13db8940afa9a5fec10.jpg',\n",
       " 'test/2f487a240e3bb25f6afa035f2f92892b.jpg',\n",
       " 'test/708ec16b82f54ffc4d7ae02d21809cb5.jpg',\n",
       " 'test/99fe0137f392bf33f49db132036fb0de.jpg',\n",
       " 'test/d7fc5b8bcb352557998a28d90a27da0c.jpg',\n",
       " 'test/bb69d8752fe8602260221ac22fac73f8.jpg',\n",
       " 'test/036da4b340288c17e5f7f60d2e09a530.jpg',\n",
       " 'test/a842af3c1022feeafc485410325f41f9.jpg',\n",
       " 'test/230f6e12706131f9d2f2426b67422383.jpg',\n",
       " 'test/144a87a697d9e819322ff0b8f57075e1.jpg',\n",
       " 'test/703d5530e5785eede130c1c39014b52a.jpg',\n",
       " 'test/1bcb6a6e8735fa2d3de90acb97f2ef17.jpg',\n",
       " 'test/1b7454154411656e1a6a62019e0521a9.jpg',\n",
       " 'test/dce09c7574fbbe57f39606daf32e5445.jpg',\n",
       " 'test/c49487f04b2e91df237639ce16669507.jpg',\n",
       " 'test/e09a3a40b2ebdf0be72800eefd6931de.jpg',\n",
       " 'test/21edf3fbbc677848c32043bd1e429e5e.jpg',\n",
       " 'test/0d232196ff8e67750201aa6111e252e1.jpg',\n",
       " 'test/4ea0130ffbe06871063bc51d23894b12.jpg',\n",
       " 'test/c0c536f83a3b465cc13e547e8ce3fd23.jpg',\n",
       " 'test/fc405345f9ba08169e24ee81cc1fcaad.jpg',\n",
       " 'test/ed280557d6013c45e5bf89492fe44c1a.jpg',\n",
       " 'test/b0d4120c7027f9845f035c605beefd5a.jpg',\n",
       " 'test/d7cbc532e819d760ab9e418654cef03f.jpg',\n",
       " 'test/e7afb35b8252782013a6700e28e327fa.jpg',\n",
       " 'test/99e3b0af94717acfb9f6aa17a6700457.jpg',\n",
       " 'test/61395b054dbd586ce1c959c0e9d6dab5.jpg',\n",
       " 'test/d00a7af75fc34b9358fc4d41198305ec.jpg',\n",
       " 'test/8a43b0e4ecfb318f9661cd6c3eace60d.jpg',\n",
       " 'test/b84cc0650c8d29b2201970c8f5b925a3.jpg',\n",
       " 'test/4a5d85b5525bf424f90a2928a13b047d.jpg',\n",
       " 'test/46742b602bea83f5b421496f4cf53034.jpg',\n",
       " 'test/33bcb26084c2521cfd67ae20bef3127b.jpg',\n",
       " 'test/3f398b71cfabc5220ff6e9a38f181ce4.jpg',\n",
       " 'test/0a8d8dda0e354c0571c8d47600ab39a3.jpg',\n",
       " 'test/be83dc36635ece289185309f4e936b79.jpg',\n",
       " 'test/ab2520c527e61f197be228208af48191.jpg',\n",
       " 'test/04b1c700d0afa863c570bacce1fe5512.jpg',\n",
       " 'test/761c73bdd557a581c877e5ccf4d2e0c0.jpg',\n",
       " 'test/e5a89b25873ada7aaafec0de1af86cb1.jpg',\n",
       " 'test/39faf41647ad4a97555314d5ff882bde.jpg',\n",
       " 'test/0e116c1a6ba0c9c4fccac09033d3c393.jpg',\n",
       " 'test/25a8f0ff09e61a6b5654efd8c3ea62e3.jpg',\n",
       " 'test/feb4f823c431c9880ace68b2e7e6e3a3.jpg',\n",
       " 'test/3fee4ca218d377a45deb8169f8a2ac22.jpg',\n",
       " 'test/ade72cfdf755a13daac2355904cb0e29.jpg',\n",
       " 'test/e50319e7efc447bb684fbfdbed3ff041.jpg',\n",
       " 'test/0fc0f2141b0ccaf394c6ff12948cd952.jpg',\n",
       " 'test/c009ab76e918906ae1ce1e582792da34.jpg',\n",
       " 'test/255977d481d1dd7ce84eec60328dfaa0.jpg',\n",
       " 'test/090179e04f4d8bf313d0fc97c1879b3f.jpg',\n",
       " 'test/6038406f41bc0e669f4226c5e85dbcd0.jpg',\n",
       " 'test/152d976d1498996b68a2ad4c1fba695f.jpg',\n",
       " 'test/627d1bc72c8a1fb025bebed56d7a1be0.jpg',\n",
       " 'test/6b4cbaf60d7ab38c6ffa434bbfa81d96.jpg',\n",
       " 'test/e291c3955198350ab26495e9290dbe34.jpg',\n",
       " 'test/ba7323fadf315946c6cfd74ead6826b2.jpg',\n",
       " 'test/3860690b488699e05770972d971e9336.jpg',\n",
       " 'test/cd3c8b6e92538229f09a9634e3fcff49.jpg',\n",
       " 'test/11afb2f9fb9fa4cc2bd7bdb01ba61f55.jpg',\n",
       " 'test/6236d7ce8173737bf3caf7270184bc76.jpg',\n",
       " 'test/1c6d5fd3d037d75d66d1bd7f95dce367.jpg',\n",
       " 'test/a1e6772dff16af9a3a832d325972ebaf.jpg',\n",
       " 'test/982457d7157c74ceeef40725a8412002.jpg',\n",
       " 'test/4f06a97002f941d3b1b7021636c27222.jpg',\n",
       " 'test/7f6bdbcccbacd9e5c0d8ee3d2d646375.jpg',\n",
       " 'test/7a188995129759b9ffaa05b5599056aa.jpg',\n",
       " 'test/9c57871c52d52861dd9d5bffde87dcc6.jpg',\n",
       " 'test/52de55bf937d6790ae8efab675b7adef.jpg',\n",
       " 'test/200f89f090441f55dd45ba74a096f2b6.jpg',\n",
       " 'test/e924a899e6de9df57c3a95873640f2bd.jpg',\n",
       " 'test/81244aa081695af49058d6b1db5ee718.jpg',\n",
       " 'test/3e764ad13028326c980cdb1263e70ef0.jpg',\n",
       " 'test/c4627cbbf3ec0e8adfb7b1c573db0f72.jpg',\n",
       " 'test/adcd6577c29be54805246d062b81c9ac.jpg',\n",
       " 'test/67dc12e769a11c880f5d23c26f942ce6.jpg',\n",
       " 'test/8913db55e9966d331e7759f748e2abef.jpg',\n",
       " 'test/2dbb3ba443227a14acd60b8aebcd80bc.jpg',\n",
       " 'test/33b508449d1b0c6580120c95d54aab00.jpg',\n",
       " 'test/fd3e53915d17804c9206f51f3639e9c3.jpg',\n",
       " 'test/d127de16ae65facf0e25bc789297074f.jpg',\n",
       " 'test/27165f9104e2fcb67cb54917aa88f096.jpg',\n",
       " 'test/e25f28a6c07bf3909c4310b2685f6caf.jpg',\n",
       " 'test/6e63dbec51bdd8720cd7ad7a8d1a4dfc.jpg',\n",
       " 'test/7b3ffac7ead20a7062d917ad210e6b08.jpg',\n",
       " 'test/8d1cd65668a82ee339234e77db78ff74.jpg',\n",
       " 'test/7d94e79bfaeb976f7ecc36165a4c7078.jpg',\n",
       " 'test/e458d6133dd1b436b047f86910f7fe34.jpg',\n",
       " 'test/b29f4365e2521b26f780d1881d0ee149.jpg',\n",
       " 'test/90d1a1069796c2c867649d296371a405.jpg',\n",
       " 'test/3d14a8b14fef796faed70f1bd6606db7.jpg',\n",
       " 'test/3fec37cd9a14af7fca18520d5fa3a070.jpg',\n",
       " 'test/386be6af60f6ffe6856e82602e15a8b9.jpg',\n",
       " 'test/0d61e4885d53a0abad1112c4edfa9fda.jpg',\n",
       " 'test/7b6c1c8d60e37df0ef3bc9d516b2efaf.jpg',\n",
       " 'test/9861af75e3cd895f7cdf6e9aca56778b.jpg',\n",
       " 'test/4e830b46a7eedeea6923649f31a591e4.jpg',\n",
       " 'test/2da554d6f7e0d4641a1b553af06e5f3b.jpg',\n",
       " 'test/64f4f8f47e93b466ae7db642bcff9487.jpg',\n",
       " 'test/4f43274c58eeeb30327ea249a79fca72.jpg',\n",
       " 'test/7abfb246ba4c6ba285ba4bb59536e3e2.jpg',\n",
       " 'test/b2193a53c04ea9192860fece3f4c2d99.jpg',\n",
       " 'test/2896468b0aa9423a2db1b25f24412a67.jpg',\n",
       " 'test/138a5ce524f0ef30818208492eb169e3.jpg',\n",
       " 'test/e9c961dc49fdf960fc46c8b54ae1996d.jpg',\n",
       " 'test/076bc1ea1425b47d2ed010c3fb3d8617.jpg',\n",
       " 'test/913fd5e0b189dee187db8aa137625a5a.jpg',\n",
       " 'test/4744f6dcb41662c000619553e0bb2b17.jpg',\n",
       " 'test/4bb43af3ca8a5b31cb35a8bd5546b0cb.jpg',\n",
       " 'test/40329dd89192810ff05d5eae1e1c9a9b.jpg',\n",
       " 'test/7fdb2d2a11eff86be455f68712dac4d6.jpg',\n",
       " 'test/67ff491b2cfdf65c1ccc5307163b3b03.jpg',\n",
       " 'test/c6a2213c2efd2986e8735506f0e31eaf.jpg',\n",
       " 'test/5d5814868fceb19f086900f35dd01e1b.jpg',\n",
       " 'test/0684c3415499ddfd78e945c725066034.jpg',\n",
       " 'test/12d213e502b778cbe2ee799eb8b0be3f.jpg',\n",
       " 'test/0292b3dfcab314b7b2bf705f80565508.jpg',\n",
       " 'test/6bdeae5cf22845464f63a0e9ef82be95.jpg',\n",
       " 'test/c10587772fe0d5d2d5eb1ece18cff606.jpg',\n",
       " 'test/c701a01eb4f8bbad01a349d371247d16.jpg',\n",
       " 'test/45082b802cd8db0f44fb13796ea7a781.jpg',\n",
       " 'test/205dac19fba55c1ec0ef34a86e356422.jpg',\n",
       " 'test/87e67ad3d0620a61ea7cc95a3e17f123.jpg',\n",
       " 'test/942717345b364ae21f9da45e61daa983.jpg',\n",
       " 'test/38d324310b264593a5599ca27011e640.jpg',\n",
       " 'test/e7340d1efa70bf6d6c134e1e150f9473.jpg',\n",
       " 'test/c4330f9bd1aaaf6229aaa8121a96472f.jpg',\n",
       " 'test/8496903ba5b8ebb3f68f3ad9c2c85566.jpg',\n",
       " 'test/661be7952c33b332c31d96717c83b15a.jpg',\n",
       " 'test/3f215af72609368219866184551734a8.jpg',\n",
       " 'test/2585b3ffb02913ea2cbcd14536f56d24.jpg',\n",
       " 'test/a191db53dbd439ca46590a60906e4e55.jpg',\n",
       " 'test/41f92c7fd010b8b89ee672ecacb3cede.jpg',\n",
       " 'test/55519f4c05e0d85aac08d7ac92746973.jpg',\n",
       " 'test/6c924ee8afc955214b93f0fe3fdf670d.jpg',\n",
       " 'test/f4dd86f78fa8b90ed885ec34af6eb1a8.jpg',\n",
       " 'test/90b7c4a7f8967f86a204edb05ae39cb9.jpg',\n",
       " 'test/93e61b35344f8c5b6e41816d523a1ac8.jpg',\n",
       " 'test/17ebd8501f1ce70bfeb6a344785fce06.jpg',\n",
       " 'test/cf14f9d5a0893a9fcefa7ddfca96311c.jpg',\n",
       " 'test/ce0cac20e8f375c8de67381efce6508c.jpg',\n",
       " 'test/f21a70f111a4a05ac167c1707651293a.jpg',\n",
       " 'test/e0806e5049519130d459dd7bd640a092.jpg',\n",
       " 'test/207d0a7a27d3e4d9ab33860a18b78383.jpg',\n",
       " 'test/e4235f4b313a4b49946938992dd95249.jpg',\n",
       " 'test/db5e3239ade5b5a86cca91ad3efc1298.jpg',\n",
       " 'test/975133aa03b0e417c0a18944ac61c41e.jpg',\n",
       " 'test/940d587d69cafcbc7bdd88ecc5c82829.jpg',\n",
       " 'test/42659d711ee7873003d3d13f98a4903b.jpg',\n",
       " 'test/8d3acb8b5ae2c2dc0a133d28342595bc.jpg',\n",
       " 'test/4354c238d7741657af0e18a08fd836fd.jpg',\n",
       " 'test/844a8bc3ae10f267e8838fecfa5871fd.jpg',\n",
       " 'test/9e101042bb00a2b1796d936c9c282ace.jpg',\n",
       " 'test/eeb2c4ba7170968ce151916667c450a3.jpg',\n",
       " 'test/5861b3c8a007a97e867a19afdc234a9e.jpg',\n",
       " 'test/fe408b5f82c5de4133f5c105eb54388a.jpg',\n",
       " 'test/91e6c6fbf42bc6a74db07709f904a256.jpg',\n",
       " 'test/f4a2ee1dd5542da8b0150fe8f7a2b7c3.jpg',\n",
       " 'test/5eaec75a4cc37e21772de348ab080c78.jpg',\n",
       " 'test/5eb6890e8f00b563fe3cdde33ea6ced4.jpg',\n",
       " 'test/d4bf6045e3453d9a2cc117d3e86a1e00.jpg',\n",
       " 'test/4d99cb036a4b902a121201ffaba48965.jpg',\n",
       " 'test/3a1c97e85aaaf6810c1f5a8c9250a6a7.jpg',\n",
       " 'test/46244ce6dd63888f4d4040fc683f6491.jpg',\n",
       " 'test/a4a2fbb3b60595d3659226fd8a4665c2.jpg',\n",
       " 'test/e7dc8cc599049ea9fa2a172c88646c57.jpg',\n",
       " 'test/36d73668085e1f774ba5ef58a44de9ea.jpg',\n",
       " 'test/4e96f8b24ad8f07d15c213c9cd59ea3b.jpg',\n",
       " 'test/fb174683e8a5eacf6fbf76b1bd0967d8.jpg',\n",
       " 'test/bcfcbf92568d91027d751596421b47a5.jpg',\n",
       " 'test/1dac364849934707c3dc109b86a92e5c.jpg',\n",
       " 'test/45f035f3a5bf665ba52b74c7ebeb206e.jpg',\n",
       " 'test/f42473f75caedac6010537ddd05b1a86.jpg',\n",
       " 'test/2d65712f8939380c17acec5bb2121395.jpg',\n",
       " 'test/04ecb983b82a9fe8629ca78d15219adb.jpg',\n",
       " 'test/84590d2967993bf557e99de3d20658cd.jpg',\n",
       " 'test/63826fa301086df087463849a5348a00.jpg',\n",
       " 'test/374ee8bda761381aa901e66f25d72825.jpg',\n",
       " 'test/7f68ade61a0147d47c6b134577d265fe.jpg',\n",
       " 'test/23d489248197ea8e1a342fbe3acd7cbd.jpg',\n",
       " 'test/0328ce0d5f48e3dbaef86e830e2e9241.jpg',\n",
       " 'test/13733ca862e8b3881e35f1bf1a02a8ce.jpg',\n",
       " 'test/d07b2effb520a43d34f08344a4158738.jpg',\n",
       " 'test/bddd379859e4fa187b1874b9e061597d.jpg',\n",
       " 'test/00e51308952848ae67b3ff8b53895119.jpg',\n",
       " 'test/05c32f1b14ec8971333500427eccd98c.jpg',\n",
       " 'test/aa1e4e4c2dd959d32f8c4d7ef5bd3b3a.jpg',\n",
       " 'test/0cef2f815d1a18a2db6f4134c1228445.jpg',\n",
       " 'test/d91447b53020e59094deef0914392da9.jpg',\n",
       " 'test/9f76579aebdf21cfd1b486b5a9d71ab1.jpg',\n",
       " 'test/401536ed0da2548536a4d27ff1c0a463.jpg',\n",
       " 'test/53c771f31441b462638255d9b6727d00.jpg',\n",
       " 'test/d8134377aaf65d92c780dd96330ccc4e.jpg',\n",
       " 'test/eab6e34cbefdae434e1b436a318460d1.jpg',\n",
       " 'test/0a59d3205cff15e31ee30213b9988e7e.jpg',\n",
       " 'test/5c6abba541dbe63fc8cd572710d856f1.jpg',\n",
       " 'test/14c184c41c90fdcca3411e730ae4737c.jpg',\n",
       " 'test/0536a5378c2bb64f2d458b53994f1b32.jpg',\n",
       " 'test/e8e42d4a1a18d4168bac9a69922df22f.jpg',\n",
       " 'test/27befe7e664647b2d74bb60346edaef5.jpg',\n",
       " 'test/d5292fc676d046dac6c1d29e2a03e3a2.jpg',\n",
       " 'test/066546afd3f63a7d3fd90c5a361ff527.jpg',\n",
       " 'test/2cb4bb8716dfb9b3937a333018d5fdc3.jpg',\n",
       " 'test/d6d1131779e16248dcc207f4997b2930.jpg',\n",
       " 'test/6969c077141fec2c23f4b0857056fc9c.jpg',\n",
       " 'test/473b32ab94e6c89288bc01fab6f7827a.jpg',\n",
       " 'test/db241f4716bf8cc4f6cfcb4be4010287.jpg',\n",
       " 'test/f453249b8fff37e92e02fce0d662ffa0.jpg',\n",
       " 'test/498d4cb8dced0a3a4255e83ec00a1496.jpg',\n",
       " 'test/810dbf17bc69e70251275b21adf7697f.jpg',\n",
       " 'test/2156a62d73ee41b97dc42551cce09f4c.jpg',\n",
       " 'test/5a13b8063f09a429aff761820bfa5461.jpg',\n",
       " 'test/1d115c77c5bd71c310412bae7d322410.jpg',\n",
       " 'test/258f32b2e965e29825a2afe8ffccf25d.jpg',\n",
       " 'test/525083993cb642b59d1b85d9a1b968c6.jpg',\n",
       " 'test/70c80b1b3e8631e3efe09a6578ac3650.jpg',\n",
       " 'test/9b9ba74d9508bef8bb13304f26bbb412.jpg',\n",
       " 'test/3a645e30e353f918a9b56d5d72c37632.jpg',\n",
       " 'test/2c7841a859c28b897deda517d3411b7d.jpg',\n",
       " 'test/2868aaf60222f00b588fc35ee1c111b0.jpg',\n",
       " 'test/8301c772feb7f4068473f0157ae58f9b.jpg',\n",
       " 'test/859c2bd0a5a1a97702399b22776abb9e.jpg',\n",
       " 'test/141f98b125b912c3d3e2c4ce431316e4.jpg',\n",
       " 'test/657459acdc17b85c06af605c1ab723ca.jpg',\n",
       " 'test/86965de1154464bc3128c5dc9e28d469.jpg',\n",
       " 'test/8433ae0afc510d86c48cb3b2dc331e3b.jpg',\n",
       " 'test/9bbfb1bca706049ca24bc7479a98ce8f.jpg',\n",
       " 'test/a6f0113dcf3bbfc0aa98cc3a60c8eaa0.jpg',\n",
       " 'test/0da82b2cc4e16d44eb83c7b71d7407b3.jpg',\n",
       " 'test/9748a8e5837f62e681c89139878cda88.jpg',\n",
       " 'test/4846d3823de6201bb2ebc1d00421715a.jpg',\n",
       " 'test/b2fb4005c7ca845beaadfc8063cd45a1.jpg',\n",
       " 'test/1125d4384fb215196990c5788a73b0b3.jpg',\n",
       " 'test/56fb2adffdd0354ef768879b4d5e51b5.jpg',\n",
       " 'test/c38f374536afd3a0cecc65c70f98dfeb.jpg',\n",
       " 'test/62ec35974e0d3db7e924eb04f6a011e6.jpg',\n",
       " 'test/ca9f2b11a817dbbe6fa9c81a9e8b0108.jpg',\n",
       " 'test/bf18d43d11a5e4a7b2f22b9c6c3cf1d9.jpg',\n",
       " 'test/a9fa08dfaec85e98387911dd4364ce79.jpg',\n",
       " 'test/463dc2054f543877c4225543ccc16a4a.jpg',\n",
       " 'test/4068db24e52f8d67c667d6b035036b19.jpg',\n",
       " 'test/467e59a59e62e4145fbf49f5a82d9b12.jpg',\n",
       " 'test/4a5c37afb815ad978cfd07f9a1dff5f2.jpg',\n",
       " 'test/ec59bee2b29342acd414a5a1e72b38e0.jpg',\n",
       " 'test/05863e46ff72f425fb9da5ffcef06c1c.jpg',\n",
       " 'test/acf4ca39e3d94f0a6717b6775ab73868.jpg',\n",
       " 'test/c6798391ab8c68b17c06ee57bb4123f9.jpg',\n",
       " 'test/e4a8dfc6e219b20a0cbced41eaf6a435.jpg',\n",
       " 'test/d6209ea7315be8bc17786b07fb795d89.jpg',\n",
       " 'test/31c2efd9fd68f02daf2ef02c66d8b20a.jpg',\n",
       " 'test/796cc4fe56597d3e8cfc9595ca1454de.jpg',\n",
       " 'test/d4aff7769373b56649039a6ead41cafc.jpg',\n",
       " 'test/8e3e85e7d95ad085aaf3c945799d53e0.jpg',\n",
       " 'test/6dc95536e52a5b170b7ae72b6a1fee58.jpg',\n",
       " 'test/f62a52631ede45098ecce8fc96e0a2f6.jpg',\n",
       " 'test/9ab7200ef7989a89f77debd8a8bc676e.jpg',\n",
       " 'test/3d64b0add5bc371c2b6a873615dde15e.jpg',\n",
       " 'test/ab1738dec4e8ca821949a9a9b3cd2724.jpg',\n",
       " 'test/43333944508ef210c0a8dc5c3700a90c.jpg',\n",
       " 'test/da18208afba4420b0333c7fef7642ec7.jpg',\n",
       " 'test/90e5521b98070e9320c2a439d571c77f.jpg',\n",
       " 'test/cbe85927af335b6e1ff2830ed2a864ce.jpg',\n",
       " 'test/c8e634778f97c45ff1830c5a143a43a6.jpg',\n",
       " 'test/3e56d2ee169e78770bdc6881e1ebcb4f.jpg',\n",
       " 'test/72619596c8e1c77a240935bc5be22ac9.jpg',\n",
       " 'test/ce2437134ae0d9fd7a5933ac3e4980c1.jpg',\n",
       " 'test/ecba66c5313a2a5fd4017a039a9501b6.jpg',\n",
       " 'test/1cb979e6c2f03ac6f708bcb7f0afb1e0.jpg',\n",
       " 'test/578d0c49dc9132811627498a46a6281e.jpg',\n",
       " 'test/797814fc04a3dfb386ea3d15a2305ffe.jpg',\n",
       " 'test/e200fe397f6ca5d626210830fc38aca9.jpg',\n",
       " 'test/7c1b3ccc876d64cac7a7d03e19abb0de.jpg',\n",
       " 'test/40f82d80552497163082195b42365163.jpg',\n",
       " 'test/87257235396dd80a674d99251d370e12.jpg',\n",
       " 'test/28a0203fe6128b2d1eff82d9ed494fb3.jpg',\n",
       " 'test/404fa3cc0ed54b176abed63256ca7c37.jpg',\n",
       " 'test/655235384db2545fefab8c75802a540f.jpg',\n",
       " 'test/f202ad1aaf619f90386d96f5b874eeef.jpg',\n",
       " 'test/f266f217791f0ec584047370775bf0ea.jpg',\n",
       " 'test/79c294ff3e82351549872508d1ade351.jpg',\n",
       " 'test/57f57cc865bc2e1faff07ebdbc8e12cf.jpg',\n",
       " 'test/1cc0b1206d0f9a0e31b1ed19bab856db.jpg',\n",
       " 'test/7fb2caad62ce4a1183c6c5e4b59e36f2.jpg',\n",
       " 'test/5c53ff7f378bb31dd09bf47e3e915339.jpg',\n",
       " 'test/358b8186b9b1b12df733f787a68da1b6.jpg',\n",
       " 'test/bca6e1103af59b4d5ee9ee8840a4a569.jpg',\n",
       " 'test/8bde8fb33daba35bbf4e6560e5bc45a6.jpg',\n",
       " 'test/e51de127ddf2c492372a63f0644b1a58.jpg',\n",
       " 'test/371d5309a43022c903adbad7a940041b.jpg',\n",
       " 'test/083ee6a9bf4958f0acb86ffe3e5aefff.jpg',\n",
       " 'test/113e3722370b3cd0d1cfbb44e5b3b840.jpg',\n",
       " 'test/0b0a5091be4e49c6b47192a0b88e32b6.jpg',\n",
       " 'test/067e053858f0cdbc2417c0ce58cdfafe.jpg',\n",
       " 'test/9810389b3ae0ecc305e4fde32397874f.jpg',\n",
       " 'test/06c65731c3bb87dfadb14cbc4e7504c7.jpg',\n",
       " 'test/57df9fc7793c4c40e806167ea94773a5.jpg',\n",
       " 'test/255a2dcc7259be7f3591dad9c9043366.jpg',\n",
       " 'test/c2041b87090d86e3f4682040cd824b33.jpg',\n",
       " 'test/efd7266343c00fd2cb3cf5aec4aa0b42.jpg',\n",
       " 'test/751f30cfd573d51e4e2e21b5d1d292e6.jpg',\n",
       " 'test/8c1449129e0f0560d254961eedb718bd.jpg',\n",
       " 'test/61dd794deb9841564d9643dd5737370a.jpg',\n",
       " 'test/8242672e1f875709f0959d6fa7d936bc.jpg',\n",
       " 'test/04ec9d02010d787f46ded19a75429b8b.jpg',\n",
       " 'test/f29de7ef9ac75de46170fd50f5b2d173.jpg',\n",
       " 'test/a8dba4a58717a26f645ba6099a897014.jpg',\n",
       " 'test/658636556d030bd8852325535347bdef.jpg',\n",
       " 'test/baf5011fb50e13f16b65dc520210b4d6.jpg',\n",
       " 'test/4f1f9ffad4d2bd2a41e780cb48f73109.jpg',\n",
       " 'test/812c0a953a2c7f83ef54e54aa46fd510.jpg',\n",
       " 'test/bb5376b4f82fbe8d96c0a185465bb11d.jpg',\n",
       " 'test/13649222b59612a699a235551fcd3fdc.jpg',\n",
       " 'test/9e1198eb00e2bb4cf66dffdc0abfdcec.jpg',\n",
       " 'test/ecb31808b1717c297072d6f5b8760c2f.jpg',\n",
       " 'test/71e6335ba4377eae9f4ef2839aa47df7.jpg',\n",
       " 'test/ea1e945b924638c2059d7718b522d48f.jpg',\n",
       " 'test/56f3fe93f51d3015fd6f7d97fd7b8389.jpg',\n",
       " 'test/b91f43c0da45c4e0bd42c2d1201b2f48.jpg',\n",
       " 'test/daf5f7e6ded367276d92e7a4b1aeabe2.jpg',\n",
       " 'test/89c6a8ca76992999460790943189ce26.jpg',\n",
       " 'test/7835e7e7f3641a6452e8912a6da76dd4.jpg',\n",
       " 'test/523f4b0f2a009540fe58bc9988a1ca26.jpg',\n",
       " 'test/979c9d5122a7615e05cb6c3ac191851f.jpg',\n",
       " 'test/cb877aeafe25f42ecb71ea0d6d304106.jpg',\n",
       " 'test/2c74df8dee83739bc909f120223e0bba.jpg',\n",
       " 'test/01d333d5c288be97bffd76005f559f41.jpg',\n",
       " 'test/b47a57244b5f4479e0f5f7aeaba133de.jpg',\n",
       " 'test/9d325d75b6e2e03cad97601d167d34eb.jpg',\n",
       " 'test/0a5f4f224f4660a3453a7fa327bec893.jpg',\n",
       " 'test/954a45080d05c8aa19e85de0af842ece.jpg',\n",
       " 'test/e6343c835d2d07d7f3ac962b92415743.jpg',\n",
       " 'test/6cb44c0db0f03b690e2400c1e47d8596.jpg',\n",
       " 'test/4fd4564ec712591906835e0ebed1987c.jpg',\n",
       " 'test/3c25c6baea7ff9f030563ac4ac8dfe81.jpg',\n",
       " 'test/059e2ebb636a77c8f8acee87d52d4077.jpg',\n",
       " 'test/5f93b0c2f5941449705b44ac56555740.jpg',\n",
       " 'test/e6da14858db7781843db6af91551f627.jpg',\n",
       " 'test/455cb074853028d7b30d40fd87ffff8a.jpg',\n",
       " 'test/3205cb93ca3a4252bc181099ea77d44a.jpg',\n",
       " 'test/4cb556066093dee9dbf176bdde640d91.jpg',\n",
       " 'test/c3c5d45616b0842fa7d36a41852f5e74.jpg',\n",
       " 'test/5034be0d7fb3a7afe197ab358d797261.jpg',\n",
       " 'test/aa3b9907adc147f93a453a3a3fb68c34.jpg',\n",
       " 'test/7c04d5903d9e66baf1909117674dc50e.jpg',\n",
       " 'test/0ee1a7f6c3469bf308c4bed1d844f221.jpg',\n",
       " 'test/24ce0188531a4c78ae85ff70b0ed0646.jpg',\n",
       " 'test/e8c778896a73d0f6b4f88c564690c9db.jpg',\n",
       " 'test/9bc8f7fc8cf58aca9e2c9e71e0a33c3d.jpg',\n",
       " 'test/6920b344dcb5d50c615091c43924a5b7.jpg',\n",
       " 'test/aff6c5d4ebce0283eecafcc25c352fdd.jpg',\n",
       " 'test/65c792d01f8d25d7f6aa45a679261340.jpg',\n",
       " 'test/c05271d19a1cd83dbe662ad93d1ac4ec.jpg',\n",
       " 'test/a0a32be65c01041a262ef050d2414cbc.jpg',\n",
       " 'test/a69a67811efa45aca43c0fb6790a2148.jpg',\n",
       " 'test/7f71540d6b3ce4da2dcbd1fd7d5fc937.jpg',\n",
       " 'test/f8de6b5fe68dfc6c2b8dd8d6126b20df.jpg',\n",
       " 'test/f892cc1187e923778d1c2b02bc532fa1.jpg',\n",
       " 'test/c675d90e03504e309465b5267ec381ed.jpg',\n",
       " 'test/fd4e99fff3c7203d010fa1fac5ef570d.jpg',\n",
       " 'test/287ed74c0621e159012edae3e590bbff.jpg',\n",
       " 'test/459ae8de71479f5bcc14ffef240dfead.jpg',\n",
       " 'test/246d301e3d0491f4bd6edd2d602130db.jpg',\n",
       " 'test/ccc8461446dc3fd767c2a146af5e7857.jpg',\n",
       " 'test/32af86f0ccd36975cc43113dedbde438.jpg',\n",
       " 'test/1f229393f0607e721466390a81debe1c.jpg',\n",
       " 'test/1bb0731610f815230a92921263987805.jpg',\n",
       " 'test/5dd75bfbd73347508797f6f01008a3cd.jpg',\n",
       " 'test/eee7c863af47e22f285f8aeb80adb4b9.jpg',\n",
       " 'test/82a1aeb9058101b7579fc77b48ece60c.jpg',\n",
       " 'test/5093df663b7f224bb88cb146f2c4f92f.jpg',\n",
       " 'test/c00f74e6c69781197d15d3e2f06ac525.jpg',\n",
       " 'test/8c258ae1f133a0f970ba981bafb73bdd.jpg',\n",
       " 'test/2263cf2dca9ce6db6724d3f6556a0c3d.jpg',\n",
       " 'test/936b082d2ea910f2b364c30f67cfe903.jpg',\n",
       " 'test/9d8e17a0f626f1324c3e840c3c6e9fd0.jpg',\n",
       " 'test/20db4454a42b9760ff220d24e138f1b4.jpg',\n",
       " 'test/d32ac5f690eb971c879f645125954ac7.jpg',\n",
       " 'test/903c4482b966c733f4697e5ddc444d92.jpg',\n",
       " 'test/95ef86a304f8e422b2e9ef43b4b8d277.jpg',\n",
       " 'test/32a2c2c2531fbe01b5aa8236000a3046.jpg',\n",
       " 'test/ab5f92418abab68a08c895f2352b6896.jpg',\n",
       " 'test/91f4724d4014f11174fe29fbac85aa90.jpg',\n",
       " 'test/ab7f0bdcb0972371042499373d2c2ecb.jpg',\n",
       " 'test/22f847ce70cd839a1c83b4730958c423.jpg',\n",
       " 'test/e4b8eb057df510fa776516de19c9fa92.jpg',\n",
       " 'test/e246de79e4efd1145698d9c21466bbaf.jpg',\n",
       " 'test/307fa412bf933f52d78d147ba180e441.jpg',\n",
       " 'test/4801f80bc2cc63cae48d9c6e9eac9a1d.jpg',\n",
       " 'test/897b7ced849fa46bb74125954b425021.jpg',\n",
       " 'test/6c700b642ef85a4026fc8948b78a5f9f.jpg',\n",
       " 'test/19263b69f8be8b1cb21f6c8f69f0957a.jpg',\n",
       " 'test/bc53a55f7d6f4be3b3c2bd9e74269907.jpg',\n",
       " 'test/a2f259b5440aa56ab3977e23d02f82ed.jpg',\n",
       " 'test/555aab3f3ce67bf7ffd6313717abcd77.jpg',\n",
       " 'test/dabfd47f7d8db8bc4b9f951b1fdf04e9.jpg',\n",
       " 'test/603e084e0a198c465e8d69f0aed8459f.jpg',\n",
       " 'test/ebe58f64e95c071d30eaceb907b7375c.jpg',\n",
       " 'test/25163b1873681bc682739e8e56b730cf.jpg',\n",
       " 'test/af367e0802a7f03e2238fe9b1340f987.jpg',\n",
       " 'test/dc78472e337f612c787c9fb524ff9f48.jpg',\n",
       " 'test/4a6d8068585ad98a072b80b94d24a26d.jpg',\n",
       " 'test/f8bb3821edde56432a481b082247ef74.jpg',\n",
       " 'test/ad8db033602b45cc7006f5e534ca8f08.jpg',\n",
       " 'test/58205ec660f432e5f87590a4bbb8e697.jpg',\n",
       " 'test/60c14259fb93b76d5c190306837231b1.jpg',\n",
       " 'test/8217c57f3ce8505a6a262a0583720f13.jpg',\n",
       " 'test/7fe66e94ad5e17743ac38edda3456d88.jpg',\n",
       " 'test/dd2228d2fbb3ddc8fb350106c2d989ef.jpg',\n",
       " 'test/0f3dc83b50a8405f6079ad13c4b727e6.jpg',\n",
       " 'test/13ae7a8703585a08642d9598aeb2fbb7.jpg',\n",
       " 'test/70ef7f40159718bfb3683dec7c125b4b.jpg',\n",
       " 'test/8bfaadf26932b13538d99ec45aacf15b.jpg',\n",
       " 'test/f8035a1eb017b8f7c2e5c217a57ed39b.jpg',\n",
       " 'test/03c10d7392570e61b4ca96dab7808b33.jpg',\n",
       " 'test/872032aa9bf6db4f049953c8cad4f79f.jpg',\n",
       " 'test/6cdff5325cb35cfd44447b9e4f6cb7b4.jpg',\n",
       " 'test/d029b3c425cd0c5e8a3de3969be1a295.jpg',\n",
       " 'test/8d3f8025509b52210d0eec149f29739f.jpg',\n",
       " 'test/f14c06e952a3d1d4e6a5b1c9e1384926.jpg',\n",
       " 'test/fa1b7fcead34bd69f791c89c9b989adb.jpg',\n",
       " 'test/e12e6997c15c233c7b92209e08ff9d14.jpg',\n",
       " 'test/92e124e21cc4d5d9ea879b3ea634325e.jpg',\n",
       " 'test/8e233d65e78ca5fb2051c03c7400566c.jpg',\n",
       " 'test/6c2ed88e24f9415f17aa0f5de59548a9.jpg',\n",
       " 'test/545c3279db44dc7c00ccded6eb2ccaa3.jpg',\n",
       " 'test/8a7b51a510eb45f02fc329937446a8ce.jpg',\n",
       " 'test/9f52665def77bac53f0cadf7b6aacd85.jpg',\n",
       " 'test/6215a10e25e945fd9d7113e6cf8461a8.jpg',\n",
       " 'test/a6fc8b0347194f1d50a56557fcaa2c97.jpg',\n",
       " 'test/5310f15815c30b6c5b337356b36cb454.jpg',\n",
       " 'test/37730e89a3bea2b0e2c27787bb858bfa.jpg',\n",
       " 'test/c63338d267da9871d88b48a8a435a0f8.jpg',\n",
       " 'test/1aa919273290d61530fdf7fa5bb5239a.jpg',\n",
       " 'test/c5d5c4619d0a5a8b360ee13103ce57c8.jpg',\n",
       " 'test/f2fb1e6cb9501847d0ab84f1edc36b78.jpg',\n",
       " 'test/259c1c2c423e4bf038963b8510b0a2f6.jpg',\n",
       " 'test/6bc0af79a3309be448fe2b4a9ad7083a.jpg',\n",
       " 'test/999d99bbaae8de5e1b6d0322238ccc65.jpg',\n",
       " 'test/9c7d95e949fada6a8c479fe1ae10a87c.jpg',\n",
       " 'test/b61ebaf95a58244a5cdc1c67b22a984e.jpg',\n",
       " 'test/96bd8e76f9cf72cedd6bca1f5fdba68d.jpg',\n",
       " 'test/5ae166a5b85f985960e31aafc30018fc.jpg',\n",
       " 'test/301a51616f2b84c02b62e1eacf70dd71.jpg',\n",
       " 'test/749a1608096a95e1c8059120a513140d.jpg',\n",
       " 'test/9e59f1122867093fb01e3e864d4833fc.jpg',\n",
       " 'test/e76a7a1d23d687b5015b07df762c0c10.jpg',\n",
       " 'test/aa0d9827294e9246144bd8f386ccd419.jpg',\n",
       " 'test/8a5597d3e7e2795f8adcc0dea110b0b6.jpg',\n",
       " 'test/2346591c30ae84de99908c608be5b95b.jpg',\n",
       " 'test/37fdddbc32d25614da746f91fdbf54e6.jpg',\n",
       " 'test/d13622cf4c2cca755fd8f68ff4e1e338.jpg',\n",
       " 'test/d895ea793ff7fbe318f0925469067029.jpg',\n",
       " 'test/62a1f5495c9787325514e9ba02612af0.jpg',\n",
       " 'test/1fb0b818cd3f9a59b818795942737321.jpg',\n",
       " 'test/66940d7e6272f54422e7227b10fce23e.jpg',\n",
       " 'test/82e41a906dbd9ec362a3d49cf6bbe645.jpg',\n",
       " 'test/98ebf1b67a8c90b7b126ab4a83dbe11f.jpg',\n",
       " 'test/0925832e4d19da79b186f1fc89d59229.jpg',\n",
       " 'test/6ff522f55973fddfc49fa3f55b893068.jpg',\n",
       " 'test/fdc0195bf63615ef247a19f4f72d77e7.jpg',\n",
       " 'test/f12b509213db8bb0a721fcd228b31f0e.jpg',\n",
       " 'test/f43a0698255ee6f04ad91702a4376b6c.jpg',\n",
       " 'test/ecb6362d105c0cb84d8e69cfd9b8d0b5.jpg',\n",
       " 'test/a627206b868684ce51e3696682a1f347.jpg',\n",
       " 'test/688c64f91500498b21e4da43e8b4dafa.jpg',\n",
       " 'test/1f87a91510fe79fc36fdcddb467d7c5e.jpg',\n",
       " 'test/195218fd3edf8fb395e986fa33280c04.jpg',\n",
       " 'test/eca94e609a77c2ed87b79c3c08a11a62.jpg',\n",
       " 'test/44ec327072955e4f0d4387b3b94dd09b.jpg',\n",
       " 'test/7436c1b0d5cd2742fd63985c4840aea9.jpg',\n",
       " 'test/d6937cacbbb5d64b535842861379f3b1.jpg',\n",
       " 'test/c1fe19df8288f67edc36c6a2c48b832f.jpg',\n",
       " 'test/84231fc9d72391dd4fbea9a0935c4a6f.jpg',\n",
       " 'test/3cc9adc023849da1316cfeb2bb53867f.jpg',\n",
       " 'test/cd458dc8c00f544134f5c568c6ffea64.jpg',\n",
       " 'test/5da496f95fa3f2d48dddb29a62d12083.jpg',\n",
       " 'test/587e40c6929ae21fa8939cf1cf5dabbd.jpg',\n",
       " 'test/85819cf427f6e9806a16b087a1622c5a.jpg',\n",
       " 'test/5ef10a9edd5c5bb11c1cc4d5a4df566f.jpg',\n",
       " 'test/7898dde57e90b8e0037badd488da35ae.jpg',\n",
       " 'test/e86bb44f11c953a6d69c548e756f5a3b.jpg',\n",
       " 'test/a5a89afb607f1d28aa26f74d924b6efa.jpg',\n",
       " 'test/c55000d37452394e64cd05c99a645e4c.jpg',\n",
       " 'test/6904cd5b8d417b66abb729232339904a.jpg',\n",
       " 'test/09711f031a35c1c8eac66d3fa3cdb000.jpg',\n",
       " 'test/e699b20911a55abda3558c5bcd37443d.jpg',\n",
       " 'test/6893b5ed882c7ae791e4a440f613a3f8.jpg',\n",
       " 'test/e3ff13afe2400a95e3ab76759d94fbc4.jpg',\n",
       " 'test/00e3fd599b69899cba0a4939f66a1745.jpg',\n",
       " 'test/0ab729417a79665dc0df24df7e8d000e.jpg',\n",
       " 'test/c2fe25d50856656351b975c1fb3ee6db.jpg',\n",
       " 'test/5e65ceb8d66a901246ca3a88bc2db930.jpg',\n",
       " 'test/5062f38bbab3716122e3b881735a200b.jpg',\n",
       " 'test/2b875c0f9a0d65b3ae4ee05a5caf9d5f.jpg',\n",
       " 'test/f674b20155dca91ac87e2bcef27b757c.jpg',\n",
       " 'test/51da43477990176deaf79799db45d76d.jpg',\n",
       " 'test/364c84967c6ecf534c54cf06e20fc3fc.jpg',\n",
       " 'test/ed61910363f37890c8cc47b25836f82e.jpg',\n",
       " 'test/35f1fa5646fcb9b60706c346b0ee3239.jpg',\n",
       " 'test/20ac42cf4ac3464dbd61f3fca7d2716f.jpg',\n",
       " 'test/9d194995dc94f4caa713c7f10675ffcd.jpg',\n",
       " 'test/6c0b8edb43c00352112f3338df51e039.jpg',\n",
       " 'test/53a13ab77b9ed9e2a062511f4cb39804.jpg',\n",
       " 'test/2d83147d68b1158edc0eec2f11a4f26a.jpg',\n",
       " 'test/e21d378710d164f126e7d0b380dc7a1a.jpg',\n",
       " 'test/a68469be22f03d01eba6bd8cc743d75f.jpg',\n",
       " 'test/7b2afd50a12d0a24be71e246756fe2fa.jpg',\n",
       " 'test/bafa0a59a0895469d29af27856f8901c.jpg',\n",
       " 'test/98f32906b7bf0e7c8eb50627363e7f6a.jpg',\n",
       " 'test/645b1ae3c39119fce937e722950b8e2f.jpg',\n",
       " 'test/ffb8bceeac5b3f587f67391ad346d454.jpg',\n",
       " 'test/ff766d48f0804590391df24f73cb2118.jpg',\n",
       " 'test/14edac8c1c5ff73be5da45c527f756a1.jpg',\n",
       " 'test/fd9a41c9a7e713e8ff5ffac23fed60e8.jpg',\n",
       " 'test/010a0d3eb52479f4af474662ee0f67ee.jpg',\n",
       " 'test/d6eb3f7b9214baa2aeb499d8be526cc6.jpg',\n",
       " 'test/85824b525fee5287fda022bd67cc0347.jpg',\n",
       " 'test/f86bb8a2e851edcf769dd381e04f9e3f.jpg',\n",
       " 'test/041cf5964ef88d5a9bc2484c2fb35e19.jpg',\n",
       " 'test/17b8437db4c5a5b2554e68e6be1cf258.jpg',\n",
       " 'test/b2dc2dcffdfd59400e4e8150f5b74efd.jpg',\n",
       " 'test/ba346c195dd6b508abab399e2bfd8d11.jpg',\n",
       " 'test/1130570a4b97ef8917dc92463ca6c6b4.jpg',\n",
       " 'test/9c5dc5339dddb885e3d5a109e262ae7f.jpg',\n",
       " 'test/33fe5015779dc14108b5abe0b5a5ab45.jpg',\n",
       " 'test/1b3f21283d424bf4034571b58b9530bf.jpg',\n",
       " 'test/1e2454e102a746bb78b5c38ae15710a0.jpg',\n",
       " 'test/2126c54600e6166617024e79e99b98c0.jpg',\n",
       " 'test/c87b574003ac9568970b70f29702bf85.jpg',\n",
       " 'test/02cc60bd987fc625224fa28da98f1fac.jpg',\n",
       " 'test/e514f86170698394e20f0cd1af968451.jpg',\n",
       " 'test/6705e29c64d4949dfa72e0cb9e3bb950.jpg',\n",
       " 'test/b8201e98e7e3c83ced094140c457223e.jpg',\n",
       " 'test/46782af314bc08de257d893c3128ac4a.jpg',\n",
       " 'test/39cc7e1bcef4b568e1f2926a2932f141.jpg',\n",
       " 'test/6b348b6aa70dfc86b7b5e5d01b04fa60.jpg',\n",
       " 'test/387a2439a7a65ea7ae52a2029339d55d.jpg',\n",
       " 'test/ff4a36db5729e157bb6a1e2d75e7e47e.jpg',\n",
       " 'test/3b837a3cb2135ba3287d54f609b3519f.jpg',\n",
       " 'test/d9b9a2e622cc9cec857b627cbea801a5.jpg',\n",
       " 'test/5783a4aa26a050ee5fc3b7e6f389fb26.jpg',\n",
       " 'test/ecc4566304626790004cd2c3626218b6.jpg',\n",
       " 'test/84fe5a2c1f49b33fc2ce4add4408058a.jpg',\n",
       " 'test/a128f77a7454f6590a84e974ffd931d9.jpg',\n",
       " 'test/a1956efe2db7240e274bc978d3960cb4.jpg',\n",
       " 'test/d472bed5237cc2cce18007ea5ab43d4b.jpg',\n",
       " 'test/5cf9cca2cc7087d3084f39f8098f2b27.jpg',\n",
       " 'test/f9947725537832ca279d1ee1a4170898.jpg',\n",
       " 'test/a996602e2147a30d8f9eb0dfa536e634.jpg',\n",
       " 'test/3f0c167a5cc43dc4b512be8c614c405c.jpg',\n",
       " 'test/80772a2c72d253b2834b6975db3f6cc7.jpg',\n",
       " 'test/e383a31009f0779536d43816c10bf662.jpg',\n",
       " 'test/7d9da7c2bba40fde7997ce09bd2737dc.jpg',\n",
       " 'test/6b1ce02c3d40d3bf5fdaf109cd696000.jpg',\n",
       " 'test/0a859b76a52d4fac456653a1d45ddf3d.jpg',\n",
       " 'test/83c3a329b5fe2a7a8360086a735402f0.jpg',\n",
       " 'test/be82d7524d65a7d249b47e783e0113f6.jpg',\n",
       " 'test/c0b5a7f03d80626d3c13d37ab78544af.jpg',\n",
       " 'test/db529813caf3c11bda11f1814081a3e5.jpg',\n",
       " 'test/ac347274ae8bd8e185435069d4af3697.jpg',\n",
       " 'test/27ee48039c475345d1d24103d0b4fcb9.jpg',\n",
       " 'test/fc774c01a474039d7fb7e53019997f4b.jpg',\n",
       " 'test/e411a1b3681604f6321af7cb8e8f2de7.jpg',\n",
       " 'test/b958f52751dfc027def9c38dcf7c66ed.jpg',\n",
       " 'test/e293d06016cac647cd289e2008a4623a.jpg',\n",
       " 'test/70fd39a40d5c5d0abec22ad9a1e8a3a2.jpg',\n",
       " 'test/d784e8537253a499ce0fce9d400eeb44.jpg',\n",
       " 'test/79fe792ec6f799f0e7d387bd6e5cc26c.jpg',\n",
       " 'test/fce0949968f07d3aa97fe09c9a8829b5.jpg',\n",
       " 'test/b138824f741766634850570a3904eab6.jpg',\n",
       " 'test/1acbf4637bcce746291d39e8147efaa3.jpg',\n",
       " 'test/68033cd44294966b9c7ef98f4ee19512.jpg',\n",
       " 'test/5f12375f0ace4faf12fbdafc8a06dbf5.jpg',\n",
       " 'test/3067cee2b0282d0f3b8bb9addb2330e5.jpg',\n",
       " 'test/27be175c30185096fe9f84156023311b.jpg',\n",
       " 'test/a35808adff58c482268cc69e12613c2a.jpg',\n",
       " 'test/e67cd079a0f9c15ebee3c41743906c73.jpg',\n",
       " 'test/7d58823cd3a11a72c7d2d6e9001f90b7.jpg',\n",
       " 'test/ebf7096a543da53b1e4759753aedad26.jpg',\n",
       " 'test/9477f91293a30cbd63107a20205b1d53.jpg',\n",
       " 'test/255e0e8148a38f178190a90c16c31fe7.jpg',\n",
       " 'test/ad18fb9d8fdb6a075283e4cfecbedc28.jpg',\n",
       " 'test/9ace4c5cced4fb88678a5b0a9b3f3cf1.jpg',\n",
       " 'test/68772a709a5621a74b38d45158fc6627.jpg',\n",
       " 'test/38aea7c187d7021cbb0404a6e37b05b0.jpg',\n",
       " 'test/b4555b346b696398490e145145b162f0.jpg',\n",
       " 'test/4f76b5462fa3d1f77d8fa2f84c7c538b.jpg',\n",
       " 'test/557a948365b6a6bca165007db382d99b.jpg',\n",
       " 'test/b4c5b58802ffa86989754ec6a26b3584.jpg',\n",
       " 'test/283ce0ab05c251fa02f9cb609e6b8cf2.jpg',\n",
       " 'test/5922fea7638e3cabc64440bf0deb0695.jpg',\n",
       " 'test/27d3745e09e48266095f0075ffb26d06.jpg',\n",
       " 'test/d7f31a85e56e15c477107c272b9cc863.jpg',\n",
       " 'test/a1021ebe69e9665e0de523bfef565f4e.jpg',\n",
       " 'test/a4efca215aa78084b7f26ff1eb38c82e.jpg',\n",
       " 'test/e78b4a09e5f86c330e24c6aaed63f0be.jpg',\n",
       " 'test/6d1eb0d0f02a3cfabf08e5b84ed54eca.jpg',\n",
       " 'test/e7afcce6e45858fc3b294cc5c0b15a53.jpg',\n",
       " 'test/b6614b9f9276022bb19f7e6bf69d2c42.jpg',\n",
       " 'test/4f4dd363e26c65f3fe1ffbc125eb6f6f.jpg',\n",
       " 'test/0e7c2ef54e84c8d021e1c0ea96cad523.jpg',\n",
       " 'test/0f08f61fcbbc43e07a991f52e3e64af4.jpg',\n",
       " 'test/30ec502a29f683419e3ace3d8b30a0bc.jpg',\n",
       " 'test/5b2d4c35c7af15075d68c226f11522ab.jpg',\n",
       " 'test/d36db01f04caa3d3167d51e31011ee9d.jpg',\n",
       " 'test/e6b2cfafb8c0a06c062832369365fa9e.jpg',\n",
       " 'test/86e6c5d04a1f90eda6652e6181df016f.jpg',\n",
       " 'test/53d51f2af15ad888d7f79900020f3a1c.jpg',\n",
       " 'test/1e2ae145265abe3df5056043f5f73c68.jpg',\n",
       " 'test/109e30067a68f7b7ab62af7683ab1826.jpg',\n",
       " 'test/69bb821892d67196a49e14cb87eeb404.jpg',\n",
       " 'test/dd7fbb397a4968d9ae54d1d7b7a35ae6.jpg',\n",
       " 'test/119f675da55ad20f8033218d33d3ec7b.jpg',\n",
       " 'test/4126427a279eb11ab8477d1119b9c303.jpg',\n",
       " 'test/f05795a39e9c06d0aa6ad345302a393d.jpg',\n",
       " 'test/bb2aa1afdc136526d1ae856b99d820b4.jpg',\n",
       " 'test/858b362d3a26a2426f4bc0e0cbf951fc.jpg',\n",
       " 'test/ed71e43cf7e5e8449879b5f0d38f3bd0.jpg',\n",
       " 'test/0f40071bb6be117fc8ace2c2d2244761.jpg',\n",
       " 'test/f10c58048410333d9c4156046b0ea54f.jpg',\n",
       " 'test/a0fb05a1ec6a107f5200fc8107a6b60f.jpg',\n",
       " 'test/58b5067645013105481df62836c5599a.jpg',\n",
       " 'test/e807c4b5025b0aa4dcbd5df2765aa8e4.jpg',\n",
       " 'test/5d1567d6a675ab863d681141184f8b8f.jpg',\n",
       " 'test/c46f22468e73417f1c78b1361bc7f6f8.jpg',\n",
       " 'test/580f38c5f64221a2b0fcc4a823db2fb9.jpg',\n",
       " 'test/761f5d01c29f8f8d51c45a28bb2c64ed.jpg',\n",
       " 'test/7d928493755a4325a50d7e4754712342.jpg',\n",
       " 'test/2faf6de2cbb2befbfb540e610e625b2c.jpg',\n",
       " 'test/6d86dc06e85fc13a87887599a4b8d0a1.jpg',\n",
       " 'test/21d9948fcea23bcade1344614a2bd8ae.jpg',\n",
       " 'test/2e288e4bfd1a82c0772cba27003f9654.jpg',\n",
       " 'test/e2c0a9f66153b81eb27bb1bceb8c18dd.jpg',\n",
       " 'test/6f7faafd39229365d9623b547db3b645.jpg',\n",
       " 'test/8ce6c3b48389a0cd8723eeab09e98f49.jpg',\n",
       " 'test/dca7bcfbb635ec7251000ae06ee243e5.jpg',\n",
       " 'test/a9dd40d7254b456a74c41dc147757707.jpg',\n",
       " 'test/e1deaf47925c840d804d7ff0324ee1fe.jpg',\n",
       " 'test/6afa4800e25bf15e88599895e90b67b4.jpg',\n",
       " 'test/221420675ba5da811ee6f89ad7065556.jpg',\n",
       " 'test/e2844bf76c0ddeae02277d76c31e41f5.jpg',\n",
       " 'test/6e981f9d25b5291e27518679cead3aa4.jpg',\n",
       " 'test/0efe03910c7c5f576cf52c9e7c28beaa.jpg',\n",
       " 'test/4749fe3c946b813ce12c299eeed888a7.jpg',\n",
       " 'test/e26d745f820e6b14cae26bb5def0648f.jpg',\n",
       " 'test/e0a21cb0d8d3014b6c56230350a9362f.jpg',\n",
       " 'test/6c6034c639ad37d3f0bf753d016e33a8.jpg',\n",
       " 'test/e0165801e47527205e45295aba441972.jpg',\n",
       " 'test/0bf31cf6e8951bca71c2774b3a13e7e2.jpg',\n",
       " 'test/15dc293771e16bf634691bf78c7da0a7.jpg',\n",
       " 'test/eda1edd004eb4311a73cf7cd0bfa31dc.jpg',\n",
       " 'test/f7b489a38302afc010d8a386a1b7d085.jpg',\n",
       " 'test/06937730f6c9fbf37d2875c5f00940e3.jpg',\n",
       " 'test/5cad010642dd82c686e4b8415eeaf347.jpg',\n",
       " 'test/c11958ccf93630b4300e3530fbfc0fe9.jpg',\n",
       " 'test/ba19a10e93747cf1c55433f860ea33bf.jpg',\n",
       " 'test/68f1c5a8a18ef3b060514a6de813fa98.jpg',\n",
       " 'test/8773a1d61c8240d8320062ea8e1507ca.jpg',\n",
       " 'test/febfae88667a28d9df454cfd697eeddb.jpg',\n",
       " 'test/007ed71136966728f5c0936e23c8286b.jpg',\n",
       " 'test/b71d49140f8b9c500c2985bc4735c810.jpg',\n",
       " 'test/976204f1c655321a40026fa8a8cc0f52.jpg',\n",
       " 'test/b3d75834caa1a3d1078ce03efabdea9a.jpg',\n",
       " 'test/635e859fef2e4cfaf5546c4d0265c88e.jpg',\n",
       " 'test/1b7e7016d6fc41f854926bc5c047cdae.jpg',\n",
       " 'test/21912b0666fb7fb953e57e3c785b845d.jpg',\n",
       " 'test/6c2f1fb7d7b6b6eb642bf93cda6e128e.jpg',\n",
       " 'test/6afef8d8873a6423b47dea93ea73ca43.jpg',\n",
       " 'test/500ef5c0241c0625bb0b5fb302522aca.jpg',\n",
       " 'test/c2e2f40bb342acd55fdfc8c1ffcffe7f.jpg',\n",
       " 'test/036a43c7c11584469998cd47c1f27f03.jpg',\n",
       " 'test/c90109fe5971384b82dc9d4085609d5b.jpg',\n",
       " 'test/b57564d59f63ed67643a583b3f0224e6.jpg',\n",
       " 'test/4264bea528ab5b4d3f391e1371436ead.jpg',\n",
       " 'test/6d7136ce8422b6a717d07a253d95aca8.jpg',\n",
       " 'test/96fbcdf365faf8b8007aa35aa9debec5.jpg',\n",
       " 'test/b7f2c17b45e60a1c442f4a722e614542.jpg',\n",
       " 'test/0def85fa5e00a462e57fae1db3947a0e.jpg',\n",
       " 'test/3073145644cdcd4bb89785870aecb630.jpg',\n",
       " 'test/f599f4d08388e69960e17234ebd0beba.jpg',\n",
       " 'test/34a066be0c506f07fc4d2447e6005136.jpg',\n",
       " 'test/831a38bd2cfa0a093967d5b6c1ac09dc.jpg',\n",
       " 'test/3df624b9038c1322cba1db52fa3547e2.jpg',\n",
       " 'test/2145ee14fd428f9474635231483e5480.jpg',\n",
       " 'test/6419808be8031fa9b91f0263cfc78c67.jpg',\n",
       " 'test/d26a3ba46322647bab509f8c8984637c.jpg',\n",
       " 'test/48d0737c8d57d673ad2f3ee0475d7f49.jpg',\n",
       " 'test/a743d539375287ba72ddf544f1084afa.jpg',\n",
       " 'test/deaef21699dae3945a79dcb820b2a980.jpg',\n",
       " 'test/74af2024054a120cb0fa0eb64bdcab88.jpg',\n",
       " 'test/8e5882fdc5ffed3c02f05fb8c1add2bb.jpg',\n",
       " 'test/75a6b64ece13f8c91f666fffa6a571d7.jpg',\n",
       " 'test/6288ef67fc0340dd79770b02c9713b92.jpg',\n",
       " 'test/4554879208d1548e22501876808242e5.jpg',\n",
       " 'test/c4280ebd8889b46cfa7ded639e9be0df.jpg',\n",
       " 'test/3d70661bbb0f333c340567a8e2af0943.jpg',\n",
       " 'test/425e40c4b8a013498fdc0992134fca3f.jpg',\n",
       " 'test/4e31b6af3a52413c82adc704bea59307.jpg',\n",
       " 'test/19d09545a9c43a55be984279b12c6c6a.jpg',\n",
       " ...]"
      ]
     },
     "execution_count": 41,
     "metadata": {},
     "output_type": "execute_result"
    }
   ],
   "source": [
    "data.test_ds.fnames"
   ]
  },
  {
   "cell_type": "code",
   "execution_count": 43,
   "metadata": {},
   "outputs": [
    {
     "name": "stdout",
     "output_type": "stream",
     "text": [
      "                                             \r"
     ]
    }
   ],
   "source": [
    "log_preds, y = learn.TTA(is_test=True) # use test dataset rather than validation dataset\n",
    "probs = np.mean(np.exp(log_preds),0)\n",
    "#accuracy_np(probs, y), metrcs.log_loss(y, probs) # This does not make sense since test dataset has no labels"
   ]
  },
  {
   "cell_type": "code",
   "execution_count": 54,
   "metadata": {},
   "outputs": [
    {
     "data": {
      "text/plain": [
       "(10357, 120)"
      ]
     },
     "execution_count": 54,
     "metadata": {},
     "output_type": "execute_result"
    }
   ],
   "source": [
    "probs.shape # (n_images, n_classes)"
   ]
  },
  {
   "cell_type": "code",
   "execution_count": 55,
   "metadata": {},
   "outputs": [],
   "source": [
    "df = pd.DataFrame(probs)\n",
    "df.columns = data.classes"
   ]
  },
  {
   "cell_type": "code",
   "execution_count": 56,
   "metadata": {},
   "outputs": [],
   "source": [
    "df.insert(0, 'id', [o[5:-4] for o in data.test_ds.fnames])"
   ]
  },
  {
   "cell_type": "code",
   "execution_count": 57,
   "metadata": {},
   "outputs": [
    {
     "data": {
      "text/html": [
       "<div>\n",
       "<style scoped>\n",
       "    .dataframe tbody tr th:only-of-type {\n",
       "        vertical-align: middle;\n",
       "    }\n",
       "\n",
       "    .dataframe tbody tr th {\n",
       "        vertical-align: top;\n",
       "    }\n",
       "\n",
       "    .dataframe thead th {\n",
       "        text-align: right;\n",
       "    }\n",
       "</style>\n",
       "<table border=\"1\" class=\"dataframe\">\n",
       "  <thead>\n",
       "    <tr style=\"text-align: right;\">\n",
       "      <th></th>\n",
       "      <th>id</th>\n",
       "      <th>affenpinscher</th>\n",
       "      <th>afghan_hound</th>\n",
       "      <th>african_hunting_dog</th>\n",
       "      <th>airedale</th>\n",
       "      <th>american_staffordshire_terrier</th>\n",
       "      <th>appenzeller</th>\n",
       "      <th>australian_terrier</th>\n",
       "      <th>basenji</th>\n",
       "      <th>basset</th>\n",
       "      <th>...</th>\n",
       "      <th>toy_poodle</th>\n",
       "      <th>toy_terrier</th>\n",
       "      <th>vizsla</th>\n",
       "      <th>walker_hound</th>\n",
       "      <th>weimaraner</th>\n",
       "      <th>welsh_springer_spaniel</th>\n",
       "      <th>west_highland_white_terrier</th>\n",
       "      <th>whippet</th>\n",
       "      <th>wire-haired_fox_terrier</th>\n",
       "      <th>yorkshire_terrier</th>\n",
       "    </tr>\n",
       "  </thead>\n",
       "  <tbody>\n",
       "    <tr>\n",
       "      <th>0</th>\n",
       "      <td>ab2520c527e61f197be228208af48191</td>\n",
       "      <td>7.957505e-08</td>\n",
       "      <td>2.723862e-08</td>\n",
       "      <td>2.435847e-08</td>\n",
       "      <td>1.173262e-07</td>\n",
       "      <td>2.351215e-08</td>\n",
       "      <td>8.401931e-06</td>\n",
       "      <td>1.372760e-06</td>\n",
       "      <td>6.317406e-08</td>\n",
       "      <td>3.063393e-08</td>\n",
       "      <td>...</td>\n",
       "      <td>2.080939e-08</td>\n",
       "      <td>2.456473e-07</td>\n",
       "      <td>2.722122e-07</td>\n",
       "      <td>5.030101e-08</td>\n",
       "      <td>1.900935e-07</td>\n",
       "      <td>6.053991e-07</td>\n",
       "      <td>3.839476e-08</td>\n",
       "      <td>5.778787e-08</td>\n",
       "      <td>1.575098e-07</td>\n",
       "      <td>1.075539e-08</td>\n",
       "    </tr>\n",
       "    <tr>\n",
       "      <th>1</th>\n",
       "      <td>8ffc8a83bb9ac7884a9420c97b23940c</td>\n",
       "      <td>9.668808e-08</td>\n",
       "      <td>2.355516e-08</td>\n",
       "      <td>2.087995e-07</td>\n",
       "      <td>6.298836e-08</td>\n",
       "      <td>3.269388e-08</td>\n",
       "      <td>2.796247e-07</td>\n",
       "      <td>2.439702e-08</td>\n",
       "      <td>2.535878e-06</td>\n",
       "      <td>1.824919e-06</td>\n",
       "      <td>...</td>\n",
       "      <td>4.051576e-08</td>\n",
       "      <td>3.540100e-06</td>\n",
       "      <td>2.388073e-07</td>\n",
       "      <td>9.832689e-01</td>\n",
       "      <td>1.823956e-07</td>\n",
       "      <td>2.486797e-08</td>\n",
       "      <td>8.325348e-08</td>\n",
       "      <td>9.363868e-07</td>\n",
       "      <td>2.608415e-07</td>\n",
       "      <td>3.851193e-07</td>\n",
       "    </tr>\n",
       "    <tr>\n",
       "      <th>2</th>\n",
       "      <td>9f4bbcd8a5b189514d3098516983621a</td>\n",
       "      <td>4.214103e-05</td>\n",
       "      <td>2.804878e-04</td>\n",
       "      <td>4.817631e-05</td>\n",
       "      <td>7.178330e-03</td>\n",
       "      <td>1.471457e-06</td>\n",
       "      <td>1.140446e-05</td>\n",
       "      <td>1.950280e-04</td>\n",
       "      <td>7.519415e-06</td>\n",
       "      <td>1.821058e-06</td>\n",
       "      <td>...</td>\n",
       "      <td>5.793181e-05</td>\n",
       "      <td>9.164357e-05</td>\n",
       "      <td>1.187949e-04</td>\n",
       "      <td>6.772134e-06</td>\n",
       "      <td>5.031822e-05</td>\n",
       "      <td>4.772470e-05</td>\n",
       "      <td>6.114125e-06</td>\n",
       "      <td>2.762433e-05</td>\n",
       "      <td>5.382648e-04</td>\n",
       "      <td>2.682866e-05</td>\n",
       "    </tr>\n",
       "    <tr>\n",
       "      <th>3</th>\n",
       "      <td>f77793be1597dd1ea50b22532b38bd23</td>\n",
       "      <td>2.568105e-07</td>\n",
       "      <td>2.491144e-07</td>\n",
       "      <td>7.142457e-07</td>\n",
       "      <td>1.466020e-06</td>\n",
       "      <td>3.212435e-05</td>\n",
       "      <td>8.274229e-08</td>\n",
       "      <td>3.600422e-08</td>\n",
       "      <td>6.044879e-08</td>\n",
       "      <td>1.201969e-07</td>\n",
       "      <td>...</td>\n",
       "      <td>2.627351e-06</td>\n",
       "      <td>3.965855e-08</td>\n",
       "      <td>1.560448e-06</td>\n",
       "      <td>6.965169e-08</td>\n",
       "      <td>1.856623e-07</td>\n",
       "      <td>1.051336e-07</td>\n",
       "      <td>1.763770e-07</td>\n",
       "      <td>2.664481e-07</td>\n",
       "      <td>3.316928e-08</td>\n",
       "      <td>9.700193e-08</td>\n",
       "    </tr>\n",
       "    <tr>\n",
       "      <th>4</th>\n",
       "      <td>f719b425410b6eb3e3132702150affd6</td>\n",
       "      <td>6.095974e-06</td>\n",
       "      <td>2.696717e-06</td>\n",
       "      <td>4.131879e-06</td>\n",
       "      <td>6.457446e-05</td>\n",
       "      <td>1.191631e-03</td>\n",
       "      <td>3.560664e-05</td>\n",
       "      <td>3.274512e-06</td>\n",
       "      <td>2.229157e-06</td>\n",
       "      <td>1.317608e-06</td>\n",
       "      <td>...</td>\n",
       "      <td>2.345266e-06</td>\n",
       "      <td>1.053057e-05</td>\n",
       "      <td>2.322353e-05</td>\n",
       "      <td>4.169483e-05</td>\n",
       "      <td>1.918868e-05</td>\n",
       "      <td>5.647749e-06</td>\n",
       "      <td>5.437289e-06</td>\n",
       "      <td>5.297930e-06</td>\n",
       "      <td>3.867970e-06</td>\n",
       "      <td>5.011518e-06</td>\n",
       "    </tr>\n",
       "  </tbody>\n",
       "</table>\n",
       "<p>5 rows × 121 columns</p>\n",
       "</div>"
      ],
      "text/plain": [
       "                                 id  affenpinscher  afghan_hound  \\\n",
       "0  ab2520c527e61f197be228208af48191   7.957505e-08  2.723862e-08   \n",
       "1  8ffc8a83bb9ac7884a9420c97b23940c   9.668808e-08  2.355516e-08   \n",
       "2  9f4bbcd8a5b189514d3098516983621a   4.214103e-05  2.804878e-04   \n",
       "3  f77793be1597dd1ea50b22532b38bd23   2.568105e-07  2.491144e-07   \n",
       "4  f719b425410b6eb3e3132702150affd6   6.095974e-06  2.696717e-06   \n",
       "\n",
       "   african_hunting_dog      airedale  american_staffordshire_terrier  \\\n",
       "0         2.435847e-08  1.173262e-07                    2.351215e-08   \n",
       "1         2.087995e-07  6.298836e-08                    3.269388e-08   \n",
       "2         4.817631e-05  7.178330e-03                    1.471457e-06   \n",
       "3         7.142457e-07  1.466020e-06                    3.212435e-05   \n",
       "4         4.131879e-06  6.457446e-05                    1.191631e-03   \n",
       "\n",
       "    appenzeller  australian_terrier       basenji        basset  \\\n",
       "0  8.401931e-06        1.372760e-06  6.317406e-08  3.063393e-08   \n",
       "1  2.796247e-07        2.439702e-08  2.535878e-06  1.824919e-06   \n",
       "2  1.140446e-05        1.950280e-04  7.519415e-06  1.821058e-06   \n",
       "3  8.274229e-08        3.600422e-08  6.044879e-08  1.201969e-07   \n",
       "4  3.560664e-05        3.274512e-06  2.229157e-06  1.317608e-06   \n",
       "\n",
       "         ...            toy_poodle   toy_terrier        vizsla  walker_hound  \\\n",
       "0        ...          2.080939e-08  2.456473e-07  2.722122e-07  5.030101e-08   \n",
       "1        ...          4.051576e-08  3.540100e-06  2.388073e-07  9.832689e-01   \n",
       "2        ...          5.793181e-05  9.164357e-05  1.187949e-04  6.772134e-06   \n",
       "3        ...          2.627351e-06  3.965855e-08  1.560448e-06  6.965169e-08   \n",
       "4        ...          2.345266e-06  1.053057e-05  2.322353e-05  4.169483e-05   \n",
       "\n",
       "     weimaraner  welsh_springer_spaniel  west_highland_white_terrier  \\\n",
       "0  1.900935e-07            6.053991e-07                 3.839476e-08   \n",
       "1  1.823956e-07            2.486797e-08                 8.325348e-08   \n",
       "2  5.031822e-05            4.772470e-05                 6.114125e-06   \n",
       "3  1.856623e-07            1.051336e-07                 1.763770e-07   \n",
       "4  1.918868e-05            5.647749e-06                 5.437289e-06   \n",
       "\n",
       "        whippet  wire-haired_fox_terrier  yorkshire_terrier  \n",
       "0  5.778787e-08             1.575098e-07       1.075539e-08  \n",
       "1  9.363868e-07             2.608415e-07       3.851193e-07  \n",
       "2  2.762433e-05             5.382648e-04       2.682866e-05  \n",
       "3  2.664481e-07             3.316928e-08       9.700193e-08  \n",
       "4  5.297930e-06             3.867970e-06       5.011518e-06  \n",
       "\n",
       "[5 rows x 121 columns]"
      ]
     },
     "execution_count": 57,
     "metadata": {},
     "output_type": "execute_result"
    }
   ],
   "source": [
    "df.head()"
   ]
  },
  {
   "cell_type": "code",
   "execution_count": 58,
   "metadata": {},
   "outputs": [],
   "source": [
    "SUBM = f'{PATH}/subm/'\n",
    "os.makedirs(SUBM, exist_ok=True)\n",
    "df.to_csv(f'{SUBM}subm.gz', compression='gzip', index=False)"
   ]
  },
  {
   "cell_type": "code",
   "execution_count": 59,
   "metadata": {},
   "outputs": [
    {
     "data": {
      "text/html": [
       "<a href='data/dogbreed//subm/subm.gz' target='_blank'>data/dogbreed//subm/subm.gz</a><br>"
      ],
      "text/plain": [
       "/mnt/disc1/fast.ai/fastai/courses/dl1/data/dogbreed/subm/subm.gz"
      ]
     },
     "execution_count": 59,
     "metadata": {},
     "output_type": "execute_result"
    }
   ],
   "source": [
    "FileLink(f'{SUBM}subm.gz')"
   ]
  },
  {
   "cell_type": "markdown",
   "metadata": {},
   "source": [
    "## Individual prediction"
   ]
  },
  {
   "cell_type": "code",
   "execution_count": 60,
   "metadata": {},
   "outputs": [
    {
     "data": {
      "text/plain": [
       "'train/000bec180eb18c7604dcecc8fe0dba07.jpg'"
      ]
     },
     "execution_count": 60,
     "metadata": {},
     "output_type": "execute_result"
    }
   ],
   "source": [
    "fn = data.val_ds.fnames[0]\n",
    "fn"
   ]
  },
  {
   "cell_type": "code",
   "execution_count": 61,
   "metadata": {},
   "outputs": [
    {
     "data": {
      "image/png": "[encoded data removed]",
      "text/plain": [
       "<PIL.Image.Image image mode=RGB size=150x150 at 0x7FD255E6BA58>"
      ]
     },
     "execution_count": 61,
     "metadata": {},
     "output_type": "execute_result"
    }
   ],
   "source": [
    "Image.open(PATH + fn).resize((150, 150))"
   ]
  },
  {
   "cell_type": "code",
   "execution_count": 62,
   "metadata": {},
   "outputs": [
    {
     "data": {
      "text/plain": [
       "19"
      ]
     },
     "execution_count": 62,
     "metadata": {},
     "output_type": "execute_result"
    }
   ],
   "source": [
    "# Method 1.\n",
    "trn_tfms, val_tfms = tfms_from_model(arch, sz)\n",
    "ds = FilesIndexArrayDataset([fn], np.array([0]), val_tfms, PATH)\n",
    "dl = DataLoader(ds)\n",
    "preds = learn.predict_dl(dl)\n",
    "np.argmax(preds)"
   ]
  },
  {
   "cell_type": "code",
   "execution_count": 63,
   "metadata": {},
   "outputs": [
    {
     "data": {
      "text/plain": [
       "'boston_bull'"
      ]
     },
     "execution_count": 63,
     "metadata": {},
     "output_type": "execute_result"
    }
   ],
   "source": [
    "learn.data.classes[np.argmax(preds)]"
   ]
  },
  {
   "cell_type": "code",
   "execution_count": 64,
   "metadata": {},
   "outputs": [
    {
     "data": {
      "text/plain": [
       "19"
      ]
     },
     "execution_count": 64,
     "metadata": {},
     "output_type": "execute_result"
    }
   ],
   "source": [
    "# Method 2.\n",
    "trn_tfms, val_tfms = tfms_from_model(arch, sz)\n",
    "im = val_tfms(open_image(PATH + fn)) # open_image() returns numpy.ndarray\n",
    "preds = learn.predict_array(im[None])\n",
    "np.argmax(preds)"
   ]
  }
 ],
 "metadata": {
  "kernelspec": {
   "display_name": "Python 3",
   "language": "python",
   "name": "python3"
  },
  "language_info": {
   "codemirror_mode": {
    "name": "ipython",
    "version": 3
   },
   "file_extension": ".py",
   "mimetype": "text/x-python",
   "name": "python",
   "nbconvert_exporter": "python",
   "pygments_lexer": "ipython3",
   "version": "3.6.6"
  },
  "toc": {
   "nav_menu": {},
   "number_sections": true,
   "sideBar": true,
   "skip_h1_title": false,
   "title_cell": "Table of Contents",
   "title_sidebar": "Contents",
   "toc_cell": false,
   "toc_position": {
    "height": "calc(100% - 180px)",
    "left": "10px",
    "top": "150px",
    "width": "180.188px"
   },
   "toc_section_display": true,
   "toc_window_display": true
  },
  "varInspector": {
   "cols": {
    "lenName": 16,
    "lenType": 16,
    "lenVar": 40
   },
   "kernels_config": {
    "python": {
     "delete_cmd_postfix": "",
     "delete_cmd_prefix": "del ",
     "library": "var_list.py",
     "varRefreshCmd": "print(var_dic_list())"
    },
    "r": {
     "delete_cmd_postfix": ") ",
     "delete_cmd_prefix": "rm(",
     "library": "var_list.r",
     "varRefreshCmd": "cat(var_dic_list()) "
    }
   },
   "types_to_exclude": [
    "module",
    "function",
    "builtin_function_or_method",
    "instance",
    "_Feature"
   ],
   "window_display": false
  },
  "widgets": {
   "application/vnd.jupyter.widget-state+json": {
    "state": {
     "0147ea39a83144aa99e7877a908ca502": {
      "model_module": "@jupyter-widgets/base",
      "model_module_version": "1.0.0",
      "model_name": "LayoutModel",
      "state": {}
     },
     "02af08793c9a4c5ba0cbd7462a715f89": {
      "model_module": "@jupyter-widgets/controls",
      "model_module_version": "1.1.0",
      "model_name": "ProgressStyleModel",
      "state": {
       "description_width": ""
      }
     },
     "03c7476e32ce48c2b38a7023c2dcc0a1": {
      "model_module": "@jupyter-widgets/base",
      "model_module_version": "1.0.0",
      "model_name": "LayoutModel",
      "state": {}
     },
     "075434e4b0234c5fa61c8d63fec51679": {
      "model_module": "@jupyter-widgets/controls",
      "model_module_version": "1.1.0",
      "model_name": "ProgressStyleModel",
      "state": {
       "description_width": ""
      }
     },
     "08ba1e10c1a641f7876680a632f6821d": {
      "model_module": "@jupyter-widgets/controls",
      "model_module_version": "1.1.0",
      "model_name": "IntProgressModel",
      "state": {
       "bar_style": "success",
       "layout": "IPY_MODEL_b0edcf9ef0754ca4bb7fe6e8790c464b",
       "max": 6,
       "style": "IPY_MODEL_c13bdace91114d639b408aa120c97f79",
       "value": 6
      }
     },
     "0b49f5119c6d4a25bb575a20e33fe219": {
      "model_module": "@jupyter-widgets/base",
      "model_module_version": "1.0.0",
      "model_name": "LayoutModel",
      "state": {}
     },
     "12cc98b1fc954667bd49c08972278f1d": {
      "model_module": "@jupyter-widgets/controls",
      "model_module_version": "1.1.0",
      "model_name": "ProgressStyleModel",
      "state": {
       "description_width": ""
      }
     },
     "13cbbf3a554a40f09d40df39c2cacf47": {
      "model_module": "@jupyter-widgets/base",
      "model_module_version": "1.0.0",
      "model_name": "LayoutModel",
      "state": {}
     },
     "148c1abd5f1747a2a787c09cef3071bc": {
      "model_module": "@jupyter-widgets/controls",
      "model_module_version": "1.1.0",
      "model_name": "HTMLModel",
      "state": {
       "layout": "IPY_MODEL_902c060a37b4491788462dce6be1798b",
       "style": "IPY_MODEL_88db019106ca4893816ea780e567a175",
       "value": "100% 3/3 [16:30&lt;00:00, 330.17s/it]"
      }
     },
     "16993380d0fa42b888a52dbf1bb42f20": {
      "model_module": "@jupyter-widgets/controls",
      "model_module_version": "1.1.0",
      "model_name": "IntProgressModel",
      "state": {
       "bar_style": "success",
       "layout": "IPY_MODEL_c74dedf09f57490a9f1ac9af54e14bf3",
       "max": 6,
       "style": "IPY_MODEL_557d35c901f54575b5963e3b7ce932a3",
       "value": 6
      }
     },
     "19c5557812814cb28bc7e0cc80c65c5f": {
      "model_module": "@jupyter-widgets/base",
      "model_module_version": "1.0.0",
      "model_name": "LayoutModel",
      "state": {}
     },
     "1c241c0e5b5844508c1c50e2a7c09b1b": {
      "model_module": "@jupyter-widgets/base",
      "model_module_version": "1.0.0",
      "model_name": "LayoutModel",
      "state": {}
     },
     "1c509f99160e41d5af6e565b1541e571": {
      "model_module": "@jupyter-widgets/controls",
      "model_module_version": "1.1.0",
      "model_name": "HTMLModel",
      "state": {
       "layout": "IPY_MODEL_9352e3fd2af54e09ad67afb4ac446b27",
       "style": "IPY_MODEL_62e7ecfbbea7427385deb25ed2f4232f",
       "value": "100% 6/6 [00:00&lt;00:00, 380.26it/s]"
      }
     },
     "1e2f1c40607144eb9cb7b9e257d06f35": {
      "model_module": "@jupyter-widgets/base",
      "model_module_version": "1.0.0",
      "model_name": "LayoutModel",
      "state": {}
     },
     "1fc90792a2b74c38aaf73659c3756831": {
      "model_module": "@jupyter-widgets/base",
      "model_module_version": "1.0.0",
      "model_name": "LayoutModel",
      "state": {}
     },
     "201ae86e437e4b5390782e9df272326d": {
      "model_module": "@jupyter-widgets/controls",
      "model_module_version": "1.1.0",
      "model_name": "HBoxModel",
      "state": {
       "children": [
        "IPY_MODEL_c8871c57d7bd4b61a99633668fb44621",
        "IPY_MODEL_38eb37d7293d4273a6ae06b5a451617d"
       ],
       "layout": "IPY_MODEL_1c241c0e5b5844508c1c50e2a7c09b1b"
      }
     },
     "20bfce64bf354e2398353b6a2a31d0e5": {
      "model_module": "@jupyter-widgets/base",
      "model_module_version": "1.0.0",
      "model_name": "LayoutModel",
      "state": {}
     },
     "21e75994f5e749748dd5693819e51d93": {
      "model_module": "@jupyter-widgets/controls",
      "model_module_version": "1.1.0",
      "model_name": "DescriptionStyleModel",
      "state": {
       "description_width": ""
      }
     },
     "22952b3bfa674aff898e452b30bd319e": {
      "model_module": "@jupyter-widgets/controls",
      "model_module_version": "1.1.0",
      "model_name": "DescriptionStyleModel",
      "state": {
       "description_width": ""
      }
     },
     "26e2b0e7abb24e3fad1b5c0c166aa44d": {
      "model_module": "@jupyter-widgets/controls",
      "model_module_version": "1.1.0",
      "model_name": "IntProgressModel",
      "state": {
       "bar_style": "success",
       "description": "Epoch",
       "layout": "IPY_MODEL_363595af2f5f4ad3a3f5a9e46069d58e",
       "max": 5,
       "style": "IPY_MODEL_02af08793c9a4c5ba0cbd7462a715f89",
       "value": 5
      }
     },
     "288366a4c5ba435286c34d6d5ad69201": {
      "model_module": "@jupyter-widgets/controls",
      "model_module_version": "1.1.0",
      "model_name": "HBoxModel",
      "state": {
       "children": [
        "IPY_MODEL_33f7abed940a4b24b01110da8ec67ddc",
        "IPY_MODEL_93f4380114fe48b88db18d0c97736fd4"
       ],
       "layout": "IPY_MODEL_5b17418f64954c14843a914942f8ce3d"
      }
     },
     "292be092bc964dd7a48bc62c906f5814": {
      "model_module": "@jupyter-widgets/controls",
      "model_module_version": "1.1.0",
      "model_name": "ProgressStyleModel",
      "state": {
       "description_width": ""
      }
     },
     "2d1dfcb285154a7bac2db184a87f3c4e": {
      "model_module": "@jupyter-widgets/base",
      "model_module_version": "1.0.0",
      "model_name": "LayoutModel",
      "state": {}
     },
     "2ff92f760a2b46a99576ab77daccac1d": {
      "model_module": "@jupyter-widgets/base",
      "model_module_version": "1.0.0",
      "model_name": "LayoutModel",
      "state": {}
     },
     "33ce7c9b732e4715ae12b71669addfdf": {
      "model_module": "@jupyter-widgets/controls",
      "model_module_version": "1.1.0",
      "model_name": "IntProgressModel",
      "state": {
       "bar_style": "success",
       "layout": "IPY_MODEL_20bfce64bf354e2398353b6a2a31d0e5",
       "max": 6,
       "style": "IPY_MODEL_830aa543858f4a54a14aad440bcbde34",
       "value": 6
      }
     },
     "33f7abed940a4b24b01110da8ec67ddc": {
      "model_module": "@jupyter-widgets/controls",
      "model_module_version": "1.1.0",
      "model_name": "IntProgressModel",
      "state": {
       "bar_style": "success",
       "layout": "IPY_MODEL_7ba0d94e2ef544fe9126eacee6588468",
       "max": 6,
       "style": "IPY_MODEL_8c8cb52ff5e54c55a297af7571a105ea",
       "value": 6
      }
     },
     "363595af2f5f4ad3a3f5a9e46069d58e": {
      "model_module": "@jupyter-widgets/base",
      "model_module_version": "1.0.0",
      "model_name": "LayoutModel",
      "state": {}
     },
     "37f00a662a3c4b5f9f29db6903cfc5ba": {
      "model_module": "@jupyter-widgets/controls",
      "model_module_version": "1.1.0",
      "model_name": "DescriptionStyleModel",
      "state": {
       "description_width": ""
      }
     },
     "37faed3c96f343e895d8f29ab07137c0": {
      "model_module": "@jupyter-widgets/base",
      "model_module_version": "1.0.0",
      "model_name": "LayoutModel",
      "state": {}
     },
     "38eb37d7293d4273a6ae06b5a451617d": {
      "model_module": "@jupyter-widgets/controls",
      "model_module_version": "1.1.0",
      "model_name": "HTMLModel",
      "state": {
       "layout": "IPY_MODEL_42c23fec7e814a9aaf39ffa59c0ffe20",
       "style": "IPY_MODEL_7163788d004d4c15b0b0137a654079a0",
       "value": "100% 7/7 [35:35&lt;00:00, 305.08s/it]"
      }
     },
     "39cf7d6b5e98460e9a621f1d74e32fad": {
      "model_module": "@jupyter-widgets/controls",
      "model_module_version": "1.1.0",
      "model_name": "HTMLModel",
      "state": {
       "layout": "IPY_MODEL_cb554ddf38bb4597b282655ee74ca321",
       "style": "IPY_MODEL_c45beabad9d34af5b39ce603b5308ef9",
       "value": "100% 5/5 [27:26&lt;00:00, 329.38s/it]"
      }
     },
     "39d7df82d70b40df9f1171dad9ce2b4c": {
      "model_module": "@jupyter-widgets/controls",
      "model_module_version": "1.1.0",
      "model_name": "DescriptionStyleModel",
      "state": {
       "description_width": ""
      }
     },
     "3a1160614abc4724b73cc9bc2e0d0d46": {
      "model_module": "@jupyter-widgets/controls",
      "model_module_version": "1.1.0",
      "model_name": "HTMLModel",
      "state": {
       "layout": "IPY_MODEL_19c5557812814cb28bc7e0cc80c65c5f",
       "style": "IPY_MODEL_87707de469bc4c4bb2ba2a2ed7322de1",
       "value": "100% 5/5 [00:28&lt;00:00,  5.70s/it]"
      }
     },
     "3b2e29458fdc49d0864a7fc9a1faafb6": {
      "model_module": "@jupyter-widgets/base",
      "model_module_version": "1.0.0",
      "model_name": "LayoutModel",
      "state": {}
     },
     "3ed035ff92d947ad9059d4bc03f2576c": {
      "model_module": "@jupyter-widgets/controls",
      "model_module_version": "1.1.0",
      "model_name": "HBoxModel",
      "state": {
       "children": [
        "IPY_MODEL_16993380d0fa42b888a52dbf1bb42f20",
        "IPY_MODEL_a52bd3eee7aa4e9093ee525fc42ff232"
       ],
       "layout": "IPY_MODEL_66e271ee790148eb89ae51b9b22216aa"
      }
     },
     "40060908ceee46fb859195274eca3da8": {
      "model_module": "@jupyter-widgets/controls",
      "model_module_version": "1.1.0",
      "model_name": "HBoxModel",
      "state": {
       "children": [
        "IPY_MODEL_4b3362ffeac948e490ce91f1e0786f2e",
        "IPY_MODEL_c09f764cc1c74e3aa75fea864a8d21f3"
       ],
       "layout": "IPY_MODEL_e6926f2efb5340528a00c5045376c380"
      }
     },
     "405077ae66ac44afbd35d90a6afd6cab": {
      "model_module": "@jupyter-widgets/base",
      "model_module_version": "1.0.0",
      "model_name": "LayoutModel",
      "state": {}
     },
     "41a9d48c29ef4752bcd2ddc7076dac3c": {
      "model_module": "@jupyter-widgets/base",
      "model_module_version": "1.0.0",
      "model_name": "LayoutModel",
      "state": {}
     },
     "42c23fec7e814a9aaf39ffa59c0ffe20": {
      "model_module": "@jupyter-widgets/base",
      "model_module_version": "1.0.0",
      "model_name": "LayoutModel",
      "state": {}
     },
     "43f1cb9394c5422798a91c1b6b0a5907": {
      "model_module": "@jupyter-widgets/base",
      "model_module_version": "1.0.0",
      "model_name": "LayoutModel",
      "state": {}
     },
     "45a9f25bf3964af68dfce8bbb2091917": {
      "model_module": "@jupyter-widgets/controls",
      "model_module_version": "1.1.0",
      "model_name": "DescriptionStyleModel",
      "state": {
       "description_width": ""
      }
     },
     "4654ebf91a484cb8b153920fb89bb522": {
      "model_module": "@jupyter-widgets/base",
      "model_module_version": "1.0.0",
      "model_name": "LayoutModel",
      "state": {}
     },
     "4b3362ffeac948e490ce91f1e0786f2e": {
      "model_module": "@jupyter-widgets/controls",
      "model_module_version": "1.1.0",
      "model_name": "IntProgressModel",
      "state": {
       "bar_style": "success",
       "layout": "IPY_MODEL_67e1b7b183484f03b2f63c22c44e8713",
       "max": 6,
       "style": "IPY_MODEL_12cc98b1fc954667bd49c08972278f1d",
       "value": 6
      }
     },
     "4c5e108b0b9145cb9987a673dda89bb6": {
      "model_module": "@jupyter-widgets/base",
      "model_module_version": "1.0.0",
      "model_name": "LayoutModel",
      "state": {}
     },
     "4d7cbd1c9b0b45359d4d31ad4e50e441": {
      "model_module": "@jupyter-widgets/base",
      "model_module_version": "1.0.0",
      "model_name": "LayoutModel",
      "state": {}
     },
     "54f04d9c381446649b742e1242de6953": {
      "model_module": "@jupyter-widgets/controls",
      "model_module_version": "1.1.0",
      "model_name": "IntProgressModel",
      "state": {
       "bar_style": "success",
       "description": "Epoch",
       "layout": "IPY_MODEL_f6539e378c294a6c955da278da4ade4e",
       "max": 2,
       "style": "IPY_MODEL_b1cddc992f864976b0f4132e0c4819f4",
       "value": 2
      }
     },
     "557d35c901f54575b5963e3b7ce932a3": {
      "model_module": "@jupyter-widgets/controls",
      "model_module_version": "1.1.0",
      "model_name": "ProgressStyleModel",
      "state": {
       "description_width": ""
      }
     },
     "5791e4167111408ca3f1be2e16334803": {
      "model_module": "@jupyter-widgets/base",
      "model_module_version": "1.0.0",
      "model_name": "LayoutModel",
      "state": {}
     },
     "5b0ec0306b6440c1a068951bf0d4a50c": {
      "model_module": "@jupyter-widgets/controls",
      "model_module_version": "1.1.0",
      "model_name": "ProgressStyleModel",
      "state": {
       "description_width": ""
      }
     },
     "5b17418f64954c14843a914942f8ce3d": {
      "model_module": "@jupyter-widgets/base",
      "model_module_version": "1.0.0",
      "model_name": "LayoutModel",
      "state": {}
     },
     "5b494db622384a7fabd7ed86d7f0575c": {
      "model_module": "@jupyter-widgets/controls",
      "model_module_version": "1.1.0",
      "model_name": "HBoxModel",
      "state": {
       "children": [
        "IPY_MODEL_26e2b0e7abb24e3fad1b5c0c166aa44d",
        "IPY_MODEL_c05cfeeac9a04c68a7387dc65bf48227"
       ],
       "layout": "IPY_MODEL_4654ebf91a484cb8b153920fb89bb522"
      }
     },
     "5c13867f02614d49bc038af563f5a5a2": {
      "model_module": "@jupyter-widgets/controls",
      "model_module_version": "1.1.0",
      "model_name": "IntProgressModel",
      "state": {
       "bar_style": "success",
       "layout": "IPY_MODEL_7234b227a46b404598576e19a230a94e",
       "max": 6,
       "style": "IPY_MODEL_7ae2ea4a6e144242ad504c2032fbb9b9",
       "value": 6
      }
     },
     "5d3aa8de854a491485458bcaf88b9de4": {
      "model_module": "@jupyter-widgets/controls",
      "model_module_version": "1.1.0",
      "model_name": "HBoxModel",
      "state": {
       "children": [
        "IPY_MODEL_c6a3a9d502b94ffba6cb6708c9762bd0",
        "IPY_MODEL_8d9389e09e1d44d88ffffdb83ac6f407"
       ],
       "layout": "IPY_MODEL_03c7476e32ce48c2b38a7023c2dcc0a1"
      }
     },
     "5f4033806f5144f28e0999110bf34612": {
      "model_module": "@jupyter-widgets/controls",
      "model_module_version": "1.1.0",
      "model_name": "IntProgressModel",
      "state": {
       "bar_style": "success",
       "description": "Epoch",
       "layout": "IPY_MODEL_e59a2233ae454d81ada1b8494763e7bc",
       "max": 2,
       "style": "IPY_MODEL_292be092bc964dd7a48bc62c906f5814",
       "value": 2
      }
     },
     "61defccfe9dc4330931ce420b9976dcd": {
      "model_module": "@jupyter-widgets/controls",
      "model_module_version": "1.1.0",
      "model_name": "HTMLModel",
      "state": {
       "layout": "IPY_MODEL_4d7cbd1c9b0b45359d4d31ad4e50e441",
       "style": "IPY_MODEL_45a9f25bf3964af68dfce8bbb2091917",
       "value": "100% 2/2 [10:08&lt;00:00, 304.26s/it]"
      }
     },
     "62e7ecfbbea7427385deb25ed2f4232f": {
      "model_module": "@jupyter-widgets/controls",
      "model_module_version": "1.1.0",
      "model_name": "DescriptionStyleModel",
      "state": {
       "description_width": ""
      }
     },
     "62e8fbf1622b4a36a186e7f319552990": {
      "model_module": "@jupyter-widgets/controls",
      "model_module_version": "1.1.0",
      "model_name": "IntProgressModel",
      "state": {
       "bar_style": "success",
       "description": "Epoch",
       "layout": "IPY_MODEL_41a9d48c29ef4752bcd2ddc7076dac3c",
       "max": 2,
       "style": "IPY_MODEL_5b0ec0306b6440c1a068951bf0d4a50c",
       "value": 2
      }
     },
     "65d9210f3d3345019a1fcf4ad82f1ae9": {
      "model_module": "@jupyter-widgets/base",
      "model_module_version": "1.0.0",
      "model_name": "LayoutModel",
      "state": {}
     },
     "66179fdeb4534eb281f2690ded33950e": {
      "model_module": "@jupyter-widgets/controls",
      "model_module_version": "1.1.0",
      "model_name": "DescriptionStyleModel",
      "state": {
       "description_width": ""
      }
     },
     "66e271ee790148eb89ae51b9b22216aa": {
      "model_module": "@jupyter-widgets/base",
      "model_module_version": "1.0.0",
      "model_name": "LayoutModel",
      "state": {}
     },
     "67e1b7b183484f03b2f63c22c44e8713": {
      "model_module": "@jupyter-widgets/base",
      "model_module_version": "1.0.0",
      "model_name": "LayoutModel",
      "state": {}
     },
     "7163788d004d4c15b0b0137a654079a0": {
      "model_module": "@jupyter-widgets/controls",
      "model_module_version": "1.1.0",
      "model_name": "DescriptionStyleModel",
      "state": {
       "description_width": ""
      }
     },
     "7234b227a46b404598576e19a230a94e": {
      "model_module": "@jupyter-widgets/base",
      "model_module_version": "1.0.0",
      "model_name": "LayoutModel",
      "state": {}
     },
     "77132b06e4ad40fdabdc0dd93922af21": {
      "model_module": "@jupyter-widgets/base",
      "model_module_version": "1.0.0",
      "model_name": "LayoutModel",
      "state": {}
     },
     "784cd320488247aa87d575558f81d06b": {
      "model_module": "@jupyter-widgets/base",
      "model_module_version": "1.0.0",
      "model_name": "LayoutModel",
      "state": {}
     },
     "7998921f656343ffadf133220692f859": {
      "model_module": "@jupyter-widgets/controls",
      "model_module_version": "1.1.0",
      "model_name": "IntProgressModel",
      "state": {
       "bar_style": "success",
       "description": "Epoch",
       "layout": "IPY_MODEL_0b49f5119c6d4a25bb575a20e33fe219",
       "max": 5,
       "style": "IPY_MODEL_cfeaf84bdbe34c7898e1ea8fc61b539c",
       "value": 5
      }
     },
     "7ad08fc0082a41bc882cedf6004206dd": {
      "model_module": "@jupyter-widgets/controls",
      "model_module_version": "1.1.0",
      "model_name": "HBoxModel",
      "state": {
       "children": [
        "IPY_MODEL_33ce7c9b732e4715ae12b71669addfdf",
        "IPY_MODEL_bc6e6b33b84344f094704454a0cf6f6b"
       ],
       "layout": "IPY_MODEL_2ff92f760a2b46a99576ab77daccac1d"
      }
     },
     "7adf432cd98f46df927bf9da9d94b182": {
      "model_module": "@jupyter-widgets/controls",
      "model_module_version": "1.1.0",
      "model_name": "DescriptionStyleModel",
      "state": {
       "description_width": ""
      }
     },
     "7ae2ea4a6e144242ad504c2032fbb9b9": {
      "model_module": "@jupyter-widgets/controls",
      "model_module_version": "1.1.0",
      "model_name": "ProgressStyleModel",
      "state": {
       "description_width": ""
      }
     },
     "7b215de0d6b64c3897c22bd817bbcb8d": {
      "model_module": "@jupyter-widgets/controls",
      "model_module_version": "1.1.0",
      "model_name": "IntProgressModel",
      "state": {
       "bar_style": "success",
       "description": "Epoch",
       "layout": "IPY_MODEL_1e2f1c40607144eb9cb7b9e257d06f35",
       "max": 3,
       "style": "IPY_MODEL_f38f8ae81eca43f9b1828369ebffd849",
       "value": 3
      }
     },
     "7ba0d94e2ef544fe9126eacee6588468": {
      "model_module": "@jupyter-widgets/base",
      "model_module_version": "1.0.0",
      "model_name": "LayoutModel",
      "state": {}
     },
     "8228413e70844312b5aa3128e3bea3ad": {
      "model_module": "@jupyter-widgets/controls",
      "model_module_version": "1.1.0",
      "model_name": "HTMLModel",
      "state": {
       "layout": "IPY_MODEL_890f789420e4416697cafbf732f38b95",
       "style": "IPY_MODEL_b52cba9c0daf49aab716b75c91137766",
       "value": "100% 2/2 [00:06&lt;00:00,  3.12s/it]"
      }
     },
     "830aa543858f4a54a14aad440bcbde34": {
      "model_module": "@jupyter-widgets/controls",
      "model_module_version": "1.1.0",
      "model_name": "ProgressStyleModel",
      "state": {
       "description_width": ""
      }
     },
     "868f105f38aa47b2b0223680dc202859": {
      "model_module": "@jupyter-widgets/base",
      "model_module_version": "1.0.0",
      "model_name": "LayoutModel",
      "state": {}
     },
     "87707de469bc4c4bb2ba2a2ed7322de1": {
      "model_module": "@jupyter-widgets/controls",
      "model_module_version": "1.1.0",
      "model_name": "DescriptionStyleModel",
      "state": {
       "description_width": ""
      }
     },
     "879f0f26c06041698336e79b9b92b0c8": {
      "model_module": "@jupyter-widgets/controls",
      "model_module_version": "1.1.0",
      "model_name": "HBoxModel",
      "state": {
       "children": [
        "IPY_MODEL_c19f1e5cf61444b5926c89b67c374dc8",
        "IPY_MODEL_148c1abd5f1747a2a787c09cef3071bc"
       ],
       "layout": "IPY_MODEL_b4a9636246544cd7a3ebcff56595bea2"
      }
     },
     "88db019106ca4893816ea780e567a175": {
      "model_module": "@jupyter-widgets/controls",
      "model_module_version": "1.1.0",
      "model_name": "DescriptionStyleModel",
      "state": {
       "description_width": ""
      }
     },
     "890f789420e4416697cafbf732f38b95": {
      "model_module": "@jupyter-widgets/base",
      "model_module_version": "1.0.0",
      "model_name": "LayoutModel",
      "state": {}
     },
     "8c8cb52ff5e54c55a297af7571a105ea": {
      "model_module": "@jupyter-widgets/controls",
      "model_module_version": "1.1.0",
      "model_name": "ProgressStyleModel",
      "state": {
       "description_width": ""
      }
     },
     "8d9389e09e1d44d88ffffdb83ac6f407": {
      "model_module": "@jupyter-widgets/controls",
      "model_module_version": "1.1.0",
      "model_name": "HTMLModel",
      "state": {
       "layout": "IPY_MODEL_1fc90792a2b74c38aaf73659c3756831",
       "style": "IPY_MODEL_66179fdeb4534eb281f2690ded33950e",
       "value": "100% 2/2 [00:06&lt;00:00,  3.17s/it]"
      }
     },
     "902c060a37b4491788462dce6be1798b": {
      "model_module": "@jupyter-widgets/base",
      "model_module_version": "1.0.0",
      "model_name": "LayoutModel",
      "state": {}
     },
     "91b150ff417c44d1bc68e66d1b3c5925": {
      "model_module": "@jupyter-widgets/controls",
      "model_module_version": "1.1.0",
      "model_name": "DescriptionStyleModel",
      "state": {
       "description_width": ""
      }
     },
     "9352e3fd2af54e09ad67afb4ac446b27": {
      "model_module": "@jupyter-widgets/base",
      "model_module_version": "1.0.0",
      "model_name": "LayoutModel",
      "state": {}
     },
     "93f4380114fe48b88db18d0c97736fd4": {
      "model_module": "@jupyter-widgets/controls",
      "model_module_version": "1.1.0",
      "model_name": "HTMLModel",
      "state": {
       "layout": "IPY_MODEL_b7e6303bb38542c9a8282079c33beca7",
       "style": "IPY_MODEL_21e75994f5e749748dd5693819e51d93",
       "value": "100% 6/6 [00:00&lt;00:00, 343.35it/s]"
      }
     },
     "956dbbddf33a476db031c3d1b8ad5b4e": {
      "model_module": "@jupyter-widgets/controls",
      "model_module_version": "1.1.0",
      "model_name": "HBoxModel",
      "state": {
       "children": [
        "IPY_MODEL_7998921f656343ffadf133220692f859",
        "IPY_MODEL_39cf7d6b5e98460e9a621f1d74e32fad"
       ],
       "layout": "IPY_MODEL_65d9210f3d3345019a1fcf4ad82f1ae9"
      }
     },
     "a19c0f9c5cb34e9e8cdfe5c356084b80": {
      "model_module": "@jupyter-widgets/controls",
      "model_module_version": "1.1.0",
      "model_name": "DescriptionStyleModel",
      "state": {
       "description_width": ""
      }
     },
     "a52bd3eee7aa4e9093ee525fc42ff232": {
      "model_module": "@jupyter-widgets/controls",
      "model_module_version": "1.1.0",
      "model_name": "HTMLModel",
      "state": {
       "layout": "IPY_MODEL_405077ae66ac44afbd35d90a6afd6cab",
       "style": "IPY_MODEL_fa7fbd7aa5ab41a5aaabfca1db46058e",
       "value": "100% 6/6 [00:00&lt;00:00, 377.47it/s]"
      }
     },
     "a6ba13af33984f1b96ed120d3798b035": {
      "model_module": "@jupyter-widgets/base",
      "model_module_version": "1.0.0",
      "model_name": "LayoutModel",
      "state": {}
     },
     "a6cf535c8f30471e947503cae6bdb611": {
      "model_module": "@jupyter-widgets/controls",
      "model_module_version": "1.1.0",
      "model_name": "IntProgressModel",
      "state": {
       "bar_style": "success",
       "description": "Epoch",
       "layout": "IPY_MODEL_e77a75b0e9b446318ef399e225003e65",
       "max": 7,
       "style": "IPY_MODEL_c8469a077e5449b69821e6b27b8e74e5",
       "value": 7
      }
     },
     "a7afeac8de60479e8c92248312fde8fc": {
      "model_module": "@jupyter-widgets/base",
      "model_module_version": "1.0.0",
      "model_name": "LayoutModel",
      "state": {}
     },
     "aad1581c410d48feb48e6b943c14bdb8": {
      "model_module": "@jupyter-widgets/controls",
      "model_module_version": "1.1.0",
      "model_name": "ProgressStyleModel",
      "state": {
       "description_width": ""
      }
     },
     "b0edcf9ef0754ca4bb7fe6e8790c464b": {
      "model_module": "@jupyter-widgets/base",
      "model_module_version": "1.0.0",
      "model_name": "LayoutModel",
      "state": {}
     },
     "b1258a718296423d9f4d9c0535aae63b": {
      "model_module": "@jupyter-widgets/controls",
      "model_module_version": "1.1.0",
      "model_name": "HTMLModel",
      "state": {
       "layout": "IPY_MODEL_3b2e29458fdc49d0864a7fc9a1faafb6",
       "style": "IPY_MODEL_37f00a662a3c4b5f9f29db6903cfc5ba",
       "value": "100% 3/3 [15:16&lt;00:00, 305.39s/it]"
      }
     },
     "b1cddc992f864976b0f4132e0c4819f4": {
      "model_module": "@jupyter-widgets/controls",
      "model_module_version": "1.1.0",
      "model_name": "ProgressStyleModel",
      "state": {
       "description_width": ""
      }
     },
     "b3ae58ce0bce4cd1b678a043b8ce4415": {
      "model_module": "@jupyter-widgets/controls",
      "model_module_version": "1.1.0",
      "model_name": "HBoxModel",
      "state": {
       "children": [
        "IPY_MODEL_54f04d9c381446649b742e1242de6953",
        "IPY_MODEL_e10c6be126a045d9809b90c0880e7362"
       ],
       "layout": "IPY_MODEL_77132b06e4ad40fdabdc0dd93922af21"
      }
     },
     "b4a9636246544cd7a3ebcff56595bea2": {
      "model_module": "@jupyter-widgets/base",
      "model_module_version": "1.0.0",
      "model_name": "LayoutModel",
      "state": {}
     },
     "b4c9fe6ac6f649dc9ed8a077a5eaeb20": {
      "model_module": "@jupyter-widgets/base",
      "model_module_version": "1.0.0",
      "model_name": "LayoutModel",
      "state": {}
     },
     "b52cba9c0daf49aab716b75c91137766": {
      "model_module": "@jupyter-widgets/controls",
      "model_module_version": "1.1.0",
      "model_name": "DescriptionStyleModel",
      "state": {
       "description_width": ""
      }
     },
     "b7e6303bb38542c9a8282079c33beca7": {
      "model_module": "@jupyter-widgets/base",
      "model_module_version": "1.0.0",
      "model_name": "LayoutModel",
      "state": {}
     },
     "ba26964d72134b3aa6095e3102f1531b": {
      "model_module": "@jupyter-widgets/base",
      "model_module_version": "1.0.0",
      "model_name": "LayoutModel",
      "state": {}
     },
     "bc6e6b33b84344f094704454a0cf6f6b": {
      "model_module": "@jupyter-widgets/controls",
      "model_module_version": "1.1.0",
      "model_name": "HTMLModel",
      "state": {
       "layout": "IPY_MODEL_e6337586212341de8a4de0ce6bd25649",
       "style": "IPY_MODEL_7adf432cd98f46df927bf9da9d94b182",
       "value": "100% 6/6 [00:00&lt;00:00, 270.73it/s]"
      }
     },
     "bd8469f87f2d4e789610110acd07571d": {
      "model_module": "@jupyter-widgets/controls",
      "model_module_version": "1.1.0",
      "model_name": "HBoxModel",
      "state": {
       "children": [
        "IPY_MODEL_ed2e720acb7a467c85bd7db465281523",
        "IPY_MODEL_3a1160614abc4724b73cc9bc2e0d0d46"
       ],
       "layout": "IPY_MODEL_37faed3c96f343e895d8f29ab07137c0"
      }
     },
     "c01a6ed0806a4aaaaf580bf56e78398f": {
      "model_module": "@jupyter-widgets/controls",
      "model_module_version": "1.1.0",
      "model_name": "DescriptionStyleModel",
      "state": {
       "description_width": ""
      }
     },
     "c05cfeeac9a04c68a7387dc65bf48227": {
      "model_module": "@jupyter-widgets/controls",
      "model_module_version": "1.1.0",
      "model_name": "HTMLModel",
      "state": {
       "layout": "IPY_MODEL_a7afeac8de60479e8c92248312fde8fc",
       "style": "IPY_MODEL_22952b3bfa674aff898e452b30bd319e",
       "value": "100% 5/5 [00:16&lt;00:00,  3.28s/it]"
      }
     },
     "c09f764cc1c74e3aa75fea864a8d21f3": {
      "model_module": "@jupyter-widgets/controls",
      "model_module_version": "1.1.0",
      "model_name": "HTMLModel",
      "state": {
       "layout": "IPY_MODEL_c80d11f161704ab3bda86e7d1dfaff03",
       "style": "IPY_MODEL_e1df5ccb47594688afaee7c51d9cfeed",
       "value": "100% 6/6 [00:00&lt;00:00, 377.26it/s]"
      }
     },
     "c13bdace91114d639b408aa120c97f79": {
      "model_module": "@jupyter-widgets/controls",
      "model_module_version": "1.1.0",
      "model_name": "ProgressStyleModel",
      "state": {
       "description_width": ""
      }
     },
     "c19f1e5cf61444b5926c89b67c374dc8": {
      "model_module": "@jupyter-widgets/controls",
      "model_module_version": "1.1.0",
      "model_name": "IntProgressModel",
      "state": {
       "bar_style": "success",
       "description": "Epoch",
       "layout": "IPY_MODEL_43f1cb9394c5422798a91c1b6b0a5907",
       "max": 3,
       "style": "IPY_MODEL_aad1581c410d48feb48e6b943c14bdb8",
       "value": 3
      }
     },
     "c28408357da544cd8c8bbd5c7469e541": {
      "model_module": "@jupyter-widgets/controls",
      "model_module_version": "1.1.0",
      "model_name": "HBoxModel",
      "state": {
       "children": [
        "IPY_MODEL_5c13867f02614d49bc038af563f5a5a2",
        "IPY_MODEL_1c509f99160e41d5af6e565b1541e571"
       ],
       "layout": "IPY_MODEL_e41e9dc77ce44f3fad0aee4db429cd7d"
      }
     },
     "c30905e882964682bbe231e445b57833": {
      "model_module": "@jupyter-widgets/controls",
      "model_module_version": "1.1.0",
      "model_name": "HBoxModel",
      "state": {
       "children": [
        "IPY_MODEL_08ba1e10c1a641f7876680a632f6821d",
        "IPY_MODEL_e6f6231f671e4871b9e496cce50bf2b9"
       ],
       "layout": "IPY_MODEL_db256ef0046f46d085353ffba880c8fa"
      }
     },
     "c438be876cfc49e8920f2704c6cddbdc": {
      "model_module": "@jupyter-widgets/controls",
      "model_module_version": "1.1.0",
      "model_name": "HBoxModel",
      "state": {
       "children": [
        "IPY_MODEL_de9c288444e74ea38dbac2ef1b1078e4",
        "IPY_MODEL_fe3c562acb4e432280f6432df0710577"
       ],
       "layout": "IPY_MODEL_ba26964d72134b3aa6095e3102f1531b"
      }
     },
     "c45beabad9d34af5b39ce603b5308ef9": {
      "model_module": "@jupyter-widgets/controls",
      "model_module_version": "1.1.0",
      "model_name": "DescriptionStyleModel",
      "state": {
       "description_width": ""
      }
     },
     "c522ca216e5a49e4a7624f94b7215c52": {
      "model_module": "@jupyter-widgets/controls",
      "model_module_version": "1.1.0",
      "model_name": "HBoxModel",
      "state": {
       "children": [
        "IPY_MODEL_62e8fbf1622b4a36a186e7f319552990",
        "IPY_MODEL_8228413e70844312b5aa3128e3bea3ad"
       ],
       "layout": "IPY_MODEL_cb6af7a441964132bb58e75ef7b4bd19"
      }
     },
     "c6a3a9d502b94ffba6cb6708c9762bd0": {
      "model_module": "@jupyter-widgets/controls",
      "model_module_version": "1.1.0",
      "model_name": "IntProgressModel",
      "state": {
       "bar_style": "success",
       "description": "Epoch",
       "layout": "IPY_MODEL_868f105f38aa47b2b0223680dc202859",
       "max": 2,
       "style": "IPY_MODEL_f4c78df23c774bb290250936916d962e",
       "value": 2
      }
     },
     "c74dedf09f57490a9f1ac9af54e14bf3": {
      "model_module": "@jupyter-widgets/base",
      "model_module_version": "1.0.0",
      "model_name": "LayoutModel",
      "state": {}
     },
     "c80d11f161704ab3bda86e7d1dfaff03": {
      "model_module": "@jupyter-widgets/base",
      "model_module_version": "1.0.0",
      "model_name": "LayoutModel",
      "state": {}
     },
     "c8469a077e5449b69821e6b27b8e74e5": {
      "model_module": "@jupyter-widgets/controls",
      "model_module_version": "1.1.0",
      "model_name": "ProgressStyleModel",
      "state": {
       "description_width": ""
      }
     },
     "c8871c57d7bd4b61a99633668fb44621": {
      "model_module": "@jupyter-widgets/controls",
      "model_module_version": "1.1.0",
      "model_name": "IntProgressModel",
      "state": {
       "bar_style": "success",
       "description": "Epoch",
       "layout": "IPY_MODEL_2d1dfcb285154a7bac2db184a87f3c4e",
       "max": 7,
       "style": "IPY_MODEL_ce4922cb72aa4e5c8b5713e47e49029e",
       "value": 7
      }
     },
     "c8ef187b9a1249018de7378cee824894": {
      "model_module": "@jupyter-widgets/controls",
      "model_module_version": "1.1.0",
      "model_name": "HBoxModel",
      "state": {
       "children": [
        "IPY_MODEL_7b215de0d6b64c3897c22bd817bbcb8d",
        "IPY_MODEL_b1258a718296423d9f4d9c0535aae63b"
       ],
       "layout": "IPY_MODEL_784cd320488247aa87d575558f81d06b"
      }
     },
     "cac9427c464f4db9b71c36da9245c066": {
      "model_module": "@jupyter-widgets/controls",
      "model_module_version": "1.1.0",
      "model_name": "ProgressStyleModel",
      "state": {
       "description_width": ""
      }
     },
     "cb554ddf38bb4597b282655ee74ca321": {
      "model_module": "@jupyter-widgets/base",
      "model_module_version": "1.0.0",
      "model_name": "LayoutModel",
      "state": {}
     },
     "cb6af7a441964132bb58e75ef7b4bd19": {
      "model_module": "@jupyter-widgets/base",
      "model_module_version": "1.0.0",
      "model_name": "LayoutModel",
      "state": {}
     },
     "ce4922cb72aa4e5c8b5713e47e49029e": {
      "model_module": "@jupyter-widgets/controls",
      "model_module_version": "1.1.0",
      "model_name": "ProgressStyleModel",
      "state": {
       "description_width": ""
      }
     },
     "cfeaf84bdbe34c7898e1ea8fc61b539c": {
      "model_module": "@jupyter-widgets/controls",
      "model_module_version": "1.1.0",
      "model_name": "ProgressStyleModel",
      "state": {
       "description_width": ""
      }
     },
     "d2b4db8ba2cb4c859ba3e0041c243193": {
      "model_module": "@jupyter-widgets/controls",
      "model_module_version": "1.1.0",
      "model_name": "HTMLModel",
      "state": {
       "layout": "IPY_MODEL_13cbbf3a554a40f09d40df39c2cacf47",
       "style": "IPY_MODEL_91b150ff417c44d1bc68e66d1b3c5925",
       "value": "100% 7/7 [38:27&lt;00:00, 329.65s/it]"
      }
     },
     "db256ef0046f46d085353ffba880c8fa": {
      "model_module": "@jupyter-widgets/base",
      "model_module_version": "1.0.0",
      "model_name": "LayoutModel",
      "state": {}
     },
     "de9c288444e74ea38dbac2ef1b1078e4": {
      "model_module": "@jupyter-widgets/controls",
      "model_module_version": "1.1.0",
      "model_name": "IntProgressModel",
      "state": {
       "bar_style": "success",
       "description": "Epoch",
       "layout": "IPY_MODEL_0147ea39a83144aa99e7877a908ca502",
       "max": 5,
       "style": "IPY_MODEL_075434e4b0234c5fa61c8d63fec51679",
       "value": 5
      }
     },
     "def3b0d0275c454e95c5c2952fc9d017": {
      "model_module": "@jupyter-widgets/controls",
      "model_module_version": "1.1.0",
      "model_name": "HBoxModel",
      "state": {
       "children": [
        "IPY_MODEL_5f4033806f5144f28e0999110bf34612",
        "IPY_MODEL_61defccfe9dc4330931ce420b9976dcd"
       ],
       "layout": "IPY_MODEL_e22e48eeda32478cbb6bf53babd9e700"
      }
     },
     "e10c6be126a045d9809b90c0880e7362": {
      "model_module": "@jupyter-widgets/controls",
      "model_module_version": "1.1.0",
      "model_name": "HTMLModel",
      "state": {
       "layout": "IPY_MODEL_5791e4167111408ca3f1be2e16334803",
       "style": "IPY_MODEL_c01a6ed0806a4aaaaf580bf56e78398f",
       "value": "100% 2/2 [10:59&lt;00:00, 329.53s/it]"
      }
     },
     "e1df5ccb47594688afaee7c51d9cfeed": {
      "model_module": "@jupyter-widgets/controls",
      "model_module_version": "1.1.0",
      "model_name": "DescriptionStyleModel",
      "state": {
       "description_width": ""
      }
     },
     "e22e48eeda32478cbb6bf53babd9e700": {
      "model_module": "@jupyter-widgets/base",
      "model_module_version": "1.0.0",
      "model_name": "LayoutModel",
      "state": {}
     },
     "e41e9dc77ce44f3fad0aee4db429cd7d": {
      "model_module": "@jupyter-widgets/base",
      "model_module_version": "1.0.0",
      "model_name": "LayoutModel",
      "state": {}
     },
     "e59a2233ae454d81ada1b8494763e7bc": {
      "model_module": "@jupyter-widgets/base",
      "model_module_version": "1.0.0",
      "model_name": "LayoutModel",
      "state": {}
     },
     "e6337586212341de8a4de0ce6bd25649": {
      "model_module": "@jupyter-widgets/base",
      "model_module_version": "1.0.0",
      "model_name": "LayoutModel",
      "state": {}
     },
     "e6926f2efb5340528a00c5045376c380": {
      "model_module": "@jupyter-widgets/base",
      "model_module_version": "1.0.0",
      "model_name": "LayoutModel",
      "state": {}
     },
     "e6f6231f671e4871b9e496cce50bf2b9": {
      "model_module": "@jupyter-widgets/controls",
      "model_module_version": "1.1.0",
      "model_name": "HTMLModel",
      "state": {
       "layout": "IPY_MODEL_4c5e108b0b9145cb9987a673dda89bb6",
       "style": "IPY_MODEL_a19c0f9c5cb34e9e8cdfe5c356084b80",
       "value": "100% 6/6 [00:00&lt;00:00, 42.32it/s]"
      }
     },
     "e77a75b0e9b446318ef399e225003e65": {
      "model_module": "@jupyter-widgets/base",
      "model_module_version": "1.0.0",
      "model_name": "LayoutModel",
      "state": {}
     },
     "ed2e720acb7a467c85bd7db465281523": {
      "model_module": "@jupyter-widgets/controls",
      "model_module_version": "1.1.0",
      "model_name": "IntProgressModel",
      "state": {
       "bar_style": "success",
       "description": "Epoch",
       "layout": "IPY_MODEL_f9852feeb51543e4a0d21c5cd6326380",
       "max": 5,
       "style": "IPY_MODEL_cac9427c464f4db9b71c36da9245c066",
       "value": 5
      }
     },
     "f2cf6963cc204b18921e63e1933ad18b": {
      "model_module": "@jupyter-widgets/controls",
      "model_module_version": "1.1.0",
      "model_name": "HBoxModel",
      "state": {
       "children": [
        "IPY_MODEL_a6cf535c8f30471e947503cae6bdb611",
        "IPY_MODEL_d2b4db8ba2cb4c859ba3e0041c243193"
       ],
       "layout": "IPY_MODEL_b4c9fe6ac6f649dc9ed8a077a5eaeb20"
      }
     },
     "f38f8ae81eca43f9b1828369ebffd849": {
      "model_module": "@jupyter-widgets/controls",
      "model_module_version": "1.1.0",
      "model_name": "ProgressStyleModel",
      "state": {
       "description_width": ""
      }
     },
     "f4c78df23c774bb290250936916d962e": {
      "model_module": "@jupyter-widgets/controls",
      "model_module_version": "1.1.0",
      "model_name": "ProgressStyleModel",
      "state": {
       "description_width": ""
      }
     },
     "f6539e378c294a6c955da278da4ade4e": {
      "model_module": "@jupyter-widgets/base",
      "model_module_version": "1.0.0",
      "model_name": "LayoutModel",
      "state": {}
     },
     "f9852feeb51543e4a0d21c5cd6326380": {
      "model_module": "@jupyter-widgets/base",
      "model_module_version": "1.0.0",
      "model_name": "LayoutModel",
      "state": {}
     },
     "fa7fbd7aa5ab41a5aaabfca1db46058e": {
      "model_module": "@jupyter-widgets/controls",
      "model_module_version": "1.1.0",
      "model_name": "DescriptionStyleModel",
      "state": {
       "description_width": ""
      }
     },
     "fe3c562acb4e432280f6432df0710577": {
      "model_module": "@jupyter-widgets/controls",
      "model_module_version": "1.1.0",
      "model_name": "HTMLModel",
      "state": {
       "layout": "IPY_MODEL_a6ba13af33984f1b96ed120d3798b035",
       "style": "IPY_MODEL_39d7df82d70b40df9f1171dad9ce2b4c",
       "value": "100% 5/5 [25:26&lt;00:00, 305.38s/it]"
      }
     }
    },
    "version_major": 2,
    "version_minor": 0
   }
  }
 },
 "nbformat": 4,
 "nbformat_minor": 2
}
